{
 "cells": [
  {
   "cell_type": "markdown",
   "id": "guilty-label",
   "metadata": {},
   "source": [
    "# Performed segmentation\n",
    "\n",
    "```{warning}\n",
    "This notebook shows how to use a function that is poorly written and not optimized. The results from this function are also to be taken carefully.\n",
    "```\n",
    "\n",
    "This notebook show how to segment you data to find grain boundaries."
   ]
  },
  {
   "cell_type": "code",
   "execution_count": 1,
   "id": "common-administration",
   "metadata": {},
   "outputs": [],
   "source": [
    "import xarrayaita.loadData_aita as lda #here are some function to build xarrayaita structure\n",
    "import xarrayaita.aita as xa\n",
    "import xarrayuvecs.uvecs as xu\n",
    "import xarrayuvecs.lut2d as lut2d\n",
    "\n",
    "import matplotlib.pyplot as plt\n",
    "import matplotlib.cm as cm\n",
    "import numpy as np\n",
    "\n",
    "import datetime\n",
    "from skimage import morphology\n",
    "from tqdm.notebook import tqdm\n",
    "import scipy\n",
    "\n",
    "%matplotlib widget"
   ]
  },
  {
   "cell_type": "markdown",
   "id": "inclusive-deployment",
   "metadata": {},
   "source": [
    "## Load your data"
   ]
  },
  {
   "cell_type": "code",
   "execution_count": 2,
   "id": "specific-lottery",
   "metadata": {
    "tags": []
   },
   "outputs": [],
   "source": [
    "# path to data and microstructure\n",
    "path_data='orientation_test.dat'"
   ]
  },
  {
   "cell_type": "code",
   "execution_count": 3,
   "id": "rubber-storm",
   "metadata": {},
   "outputs": [],
   "source": [
    "data=lda.aita5col(path_data)"
   ]
  },
  {
   "cell_type": "code",
   "execution_count": 4,
   "id": "careful-parent",
   "metadata": {},
   "outputs": [
    {
     "data": {
      "text/html": [
       "<div><svg style=\"position: absolute; width: 0; height: 0; overflow: hidden\">\n",
       "<defs>\n",
       "<symbol id=\"icon-database\" viewBox=\"0 0 32 32\">\n",
       "<path d=\"M16 0c-8.837 0-16 2.239-16 5v4c0 2.761 7.163 5 16 5s16-2.239 16-5v-4c0-2.761-7.163-5-16-5z\"></path>\n",
       "<path d=\"M16 17c-8.837 0-16-2.239-16-5v6c0 2.761 7.163 5 16 5s16-2.239 16-5v-6c0 2.761-7.163 5-16 5z\"></path>\n",
       "<path d=\"M16 26c-8.837 0-16-2.239-16-5v6c0 2.761 7.163 5 16 5s16-2.239 16-5v-6c0 2.761-7.163 5-16 5z\"></path>\n",
       "</symbol>\n",
       "<symbol id=\"icon-file-text2\" viewBox=\"0 0 32 32\">\n",
       "<path d=\"M28.681 7.159c-0.694-0.947-1.662-2.053-2.724-3.116s-2.169-2.030-3.116-2.724c-1.612-1.182-2.393-1.319-2.841-1.319h-15.5c-1.378 0-2.5 1.121-2.5 2.5v27c0 1.378 1.122 2.5 2.5 2.5h23c1.378 0 2.5-1.122 2.5-2.5v-19.5c0-0.448-0.137-1.23-1.319-2.841zM24.543 5.457c0.959 0.959 1.712 1.825 2.268 2.543h-4.811v-4.811c0.718 0.556 1.584 1.309 2.543 2.268zM28 29.5c0 0.271-0.229 0.5-0.5 0.5h-23c-0.271 0-0.5-0.229-0.5-0.5v-27c0-0.271 0.229-0.5 0.5-0.5 0 0 15.499-0 15.5 0v7c0 0.552 0.448 1 1 1h7v19.5z\"></path>\n",
       "<path d=\"M23 26h-14c-0.552 0-1-0.448-1-1s0.448-1 1-1h14c0.552 0 1 0.448 1 1s-0.448 1-1 1z\"></path>\n",
       "<path d=\"M23 22h-14c-0.552 0-1-0.448-1-1s0.448-1 1-1h14c0.552 0 1 0.448 1 1s-0.448 1-1 1z\"></path>\n",
       "<path d=\"M23 18h-14c-0.552 0-1-0.448-1-1s0.448-1 1-1h14c0.552 0 1 0.448 1 1s-0.448 1-1 1z\"></path>\n",
       "</symbol>\n",
       "</defs>\n",
       "</svg>\n",
       "<style>/* CSS stylesheet for displaying xarray objects in jupyterlab.\n",
       " *\n",
       " */\n",
       "\n",
       ":root {\n",
       "  --xr-font-color0: var(--jp-content-font-color0, rgba(0, 0, 0, 1));\n",
       "  --xr-font-color2: var(--jp-content-font-color2, rgba(0, 0, 0, 0.54));\n",
       "  --xr-font-color3: var(--jp-content-font-color3, rgba(0, 0, 0, 0.38));\n",
       "  --xr-border-color: var(--jp-border-color2, #e0e0e0);\n",
       "  --xr-disabled-color: var(--jp-layout-color3, #bdbdbd);\n",
       "  --xr-background-color: var(--jp-layout-color0, white);\n",
       "  --xr-background-color-row-even: var(--jp-layout-color1, white);\n",
       "  --xr-background-color-row-odd: var(--jp-layout-color2, #eeeeee);\n",
       "}\n",
       "\n",
       "html[theme=dark],\n",
       "body.vscode-dark {\n",
       "  --xr-font-color0: rgba(255, 255, 255, 1);\n",
       "  --xr-font-color2: rgba(255, 255, 255, 0.54);\n",
       "  --xr-font-color3: rgba(255, 255, 255, 0.38);\n",
       "  --xr-border-color: #1F1F1F;\n",
       "  --xr-disabled-color: #515151;\n",
       "  --xr-background-color: #111111;\n",
       "  --xr-background-color-row-even: #111111;\n",
       "  --xr-background-color-row-odd: #313131;\n",
       "}\n",
       "\n",
       ".xr-wrap {\n",
       "  display: block;\n",
       "  min-width: 300px;\n",
       "  max-width: 700px;\n",
       "}\n",
       "\n",
       ".xr-text-repr-fallback {\n",
       "  /* fallback to plain text repr when CSS is not injected (untrusted notebook) */\n",
       "  display: none;\n",
       "}\n",
       "\n",
       ".xr-header {\n",
       "  padding-top: 6px;\n",
       "  padding-bottom: 6px;\n",
       "  margin-bottom: 4px;\n",
       "  border-bottom: solid 1px var(--xr-border-color);\n",
       "}\n",
       "\n",
       ".xr-header > div,\n",
       ".xr-header > ul {\n",
       "  display: inline;\n",
       "  margin-top: 0;\n",
       "  margin-bottom: 0;\n",
       "}\n",
       "\n",
       ".xr-obj-type,\n",
       ".xr-array-name {\n",
       "  margin-left: 2px;\n",
       "  margin-right: 10px;\n",
       "}\n",
       "\n",
       ".xr-obj-type {\n",
       "  color: var(--xr-font-color2);\n",
       "}\n",
       "\n",
       ".xr-sections {\n",
       "  padding-left: 0 !important;\n",
       "  display: grid;\n",
       "  grid-template-columns: 150px auto auto 1fr 20px 20px;\n",
       "}\n",
       "\n",
       ".xr-section-item {\n",
       "  display: contents;\n",
       "}\n",
       "\n",
       ".xr-section-item input {\n",
       "  display: none;\n",
       "}\n",
       "\n",
       ".xr-section-item input + label {\n",
       "  color: var(--xr-disabled-color);\n",
       "}\n",
       "\n",
       ".xr-section-item input:enabled + label {\n",
       "  cursor: pointer;\n",
       "  color: var(--xr-font-color2);\n",
       "}\n",
       "\n",
       ".xr-section-item input:enabled + label:hover {\n",
       "  color: var(--xr-font-color0);\n",
       "}\n",
       "\n",
       ".xr-section-summary {\n",
       "  grid-column: 1;\n",
       "  color: var(--xr-font-color2);\n",
       "  font-weight: 500;\n",
       "}\n",
       "\n",
       ".xr-section-summary > span {\n",
       "  display: inline-block;\n",
       "  padding-left: 0.5em;\n",
       "}\n",
       "\n",
       ".xr-section-summary-in:disabled + label {\n",
       "  color: var(--xr-font-color2);\n",
       "}\n",
       "\n",
       ".xr-section-summary-in + label:before {\n",
       "  display: inline-block;\n",
       "  content: '►';\n",
       "  font-size: 11px;\n",
       "  width: 15px;\n",
       "  text-align: center;\n",
       "}\n",
       "\n",
       ".xr-section-summary-in:disabled + label:before {\n",
       "  color: var(--xr-disabled-color);\n",
       "}\n",
       "\n",
       ".xr-section-summary-in:checked + label:before {\n",
       "  content: '▼';\n",
       "}\n",
       "\n",
       ".xr-section-summary-in:checked + label > span {\n",
       "  display: none;\n",
       "}\n",
       "\n",
       ".xr-section-summary,\n",
       ".xr-section-inline-details {\n",
       "  padding-top: 4px;\n",
       "  padding-bottom: 4px;\n",
       "}\n",
       "\n",
       ".xr-section-inline-details {\n",
       "  grid-column: 2 / -1;\n",
       "}\n",
       "\n",
       ".xr-section-details {\n",
       "  display: none;\n",
       "  grid-column: 1 / -1;\n",
       "  margin-bottom: 5px;\n",
       "}\n",
       "\n",
       ".xr-section-summary-in:checked ~ .xr-section-details {\n",
       "  display: contents;\n",
       "}\n",
       "\n",
       ".xr-array-wrap {\n",
       "  grid-column: 1 / -1;\n",
       "  display: grid;\n",
       "  grid-template-columns: 20px auto;\n",
       "}\n",
       "\n",
       ".xr-array-wrap > label {\n",
       "  grid-column: 1;\n",
       "  vertical-align: top;\n",
       "}\n",
       "\n",
       ".xr-preview {\n",
       "  color: var(--xr-font-color3);\n",
       "}\n",
       "\n",
       ".xr-array-preview,\n",
       ".xr-array-data {\n",
       "  padding: 0 5px !important;\n",
       "  grid-column: 2;\n",
       "}\n",
       "\n",
       ".xr-array-data,\n",
       ".xr-array-in:checked ~ .xr-array-preview {\n",
       "  display: none;\n",
       "}\n",
       "\n",
       ".xr-array-in:checked ~ .xr-array-data,\n",
       ".xr-array-preview {\n",
       "  display: inline-block;\n",
       "}\n",
       "\n",
       ".xr-dim-list {\n",
       "  display: inline-block !important;\n",
       "  list-style: none;\n",
       "  padding: 0 !important;\n",
       "  margin: 0;\n",
       "}\n",
       "\n",
       ".xr-dim-list li {\n",
       "  display: inline-block;\n",
       "  padding: 0;\n",
       "  margin: 0;\n",
       "}\n",
       "\n",
       ".xr-dim-list:before {\n",
       "  content: '(';\n",
       "}\n",
       "\n",
       ".xr-dim-list:after {\n",
       "  content: ')';\n",
       "}\n",
       "\n",
       ".xr-dim-list li:not(:last-child):after {\n",
       "  content: ',';\n",
       "  padding-right: 5px;\n",
       "}\n",
       "\n",
       ".xr-has-index {\n",
       "  font-weight: bold;\n",
       "}\n",
       "\n",
       ".xr-var-list,\n",
       ".xr-var-item {\n",
       "  display: contents;\n",
       "}\n",
       "\n",
       ".xr-var-item > div,\n",
       ".xr-var-item label,\n",
       ".xr-var-item > .xr-var-name span {\n",
       "  background-color: var(--xr-background-color-row-even);\n",
       "  margin-bottom: 0;\n",
       "}\n",
       "\n",
       ".xr-var-item > .xr-var-name:hover span {\n",
       "  padding-right: 5px;\n",
       "}\n",
       "\n",
       ".xr-var-list > li:nth-child(odd) > div,\n",
       ".xr-var-list > li:nth-child(odd) > label,\n",
       ".xr-var-list > li:nth-child(odd) > .xr-var-name span {\n",
       "  background-color: var(--xr-background-color-row-odd);\n",
       "}\n",
       "\n",
       ".xr-var-name {\n",
       "  grid-column: 1;\n",
       "}\n",
       "\n",
       ".xr-var-dims {\n",
       "  grid-column: 2;\n",
       "}\n",
       "\n",
       ".xr-var-dtype {\n",
       "  grid-column: 3;\n",
       "  text-align: right;\n",
       "  color: var(--xr-font-color2);\n",
       "}\n",
       "\n",
       ".xr-var-preview {\n",
       "  grid-column: 4;\n",
       "}\n",
       "\n",
       ".xr-var-name,\n",
       ".xr-var-dims,\n",
       ".xr-var-dtype,\n",
       ".xr-preview,\n",
       ".xr-attrs dt {\n",
       "  white-space: nowrap;\n",
       "  overflow: hidden;\n",
       "  text-overflow: ellipsis;\n",
       "  padding-right: 10px;\n",
       "}\n",
       "\n",
       ".xr-var-name:hover,\n",
       ".xr-var-dims:hover,\n",
       ".xr-var-dtype:hover,\n",
       ".xr-attrs dt:hover {\n",
       "  overflow: visible;\n",
       "  width: auto;\n",
       "  z-index: 1;\n",
       "}\n",
       "\n",
       ".xr-var-attrs,\n",
       ".xr-var-data {\n",
       "  display: none;\n",
       "  background-color: var(--xr-background-color) !important;\n",
       "  padding-bottom: 5px !important;\n",
       "}\n",
       "\n",
       ".xr-var-attrs-in:checked ~ .xr-var-attrs,\n",
       ".xr-var-data-in:checked ~ .xr-var-data {\n",
       "  display: block;\n",
       "}\n",
       "\n",
       ".xr-var-data > table {\n",
       "  float: right;\n",
       "}\n",
       "\n",
       ".xr-var-name span,\n",
       ".xr-var-data,\n",
       ".xr-attrs {\n",
       "  padding-left: 25px !important;\n",
       "}\n",
       "\n",
       ".xr-attrs,\n",
       ".xr-var-attrs,\n",
       ".xr-var-data {\n",
       "  grid-column: 1 / -1;\n",
       "}\n",
       "\n",
       "dl.xr-attrs {\n",
       "  padding: 0;\n",
       "  margin: 0;\n",
       "  display: grid;\n",
       "  grid-template-columns: 125px auto;\n",
       "}\n",
       "\n",
       ".xr-attrs dt,\n",
       ".xr-attrs dd {\n",
       "  padding: 0;\n",
       "  margin: 0;\n",
       "  float: left;\n",
       "  padding-right: 10px;\n",
       "  width: auto;\n",
       "}\n",
       "\n",
       ".xr-attrs dt {\n",
       "  font-weight: normal;\n",
       "  grid-column: 1;\n",
       "}\n",
       "\n",
       ".xr-attrs dt:hover span {\n",
       "  display: inline-block;\n",
       "  background: var(--xr-background-color);\n",
       "  padding-right: 10px;\n",
       "}\n",
       "\n",
       ".xr-attrs dd {\n",
       "  grid-column: 2;\n",
       "  white-space: pre-wrap;\n",
       "  word-break: break-all;\n",
       "}\n",
       "\n",
       ".xr-icon-database,\n",
       ".xr-icon-file-text2 {\n",
       "  display: inline-block;\n",
       "  vertical-align: middle;\n",
       "  width: 1em;\n",
       "  height: 1.5em !important;\n",
       "  stroke-width: 0;\n",
       "  stroke: currentColor;\n",
       "  fill: currentColor;\n",
       "}\n",
       "</style><pre class='xr-text-repr-fallback'>&lt;xarray.Dataset&gt;\n",
       "Dimensions:      (uvecs: 2, x: 1000, y: 2500)\n",
       "Coordinates:\n",
       "  * x            (x) float64 0.0 0.02 0.04 0.06 0.08 ... 19.92 19.94 19.96 19.98\n",
       "  * y            (y) float64 49.98 49.96 49.94 49.92 49.9 ... 0.06 0.04 0.02 0.0\n",
       "Dimensions without coordinates: uvecs\n",
       "Data variables:\n",
       "    orientation  (y, x, uvecs) float64 2.395 0.6451 5.377 ... 0.6098 0.6473\n",
       "    quality      (y, x) int64 0 90 92 93 92 92 94 94 ... 96 96 96 96 96 97 97 96\n",
       "    micro        (y, x) float64 0.0 0.0 0.0 0.0 0.0 0.0 ... 0.0 0.0 0.0 0.0 0.0\n",
       "    grainId      (y, x) int64 1 1 1 1 1 1 1 1 1 1 1 1 ... 1 1 1 1 1 1 1 1 1 1 1\n",
       "Attributes:\n",
       "    date:       Thursday, 19 Nov 2015, 11:24 am\n",
       "    unit:       millimeters\n",
       "    step_size:  0.02\n",
       "    path_dat:   orientation_test.dat</pre><div class='xr-wrap' hidden><div class='xr-header'><div class='xr-obj-type'>xarray.Dataset</div></div><ul class='xr-sections'><li class='xr-section-item'><input id='section-5e5ae598-0a45-40e4-9dc1-139dbb2d4d1f' class='xr-section-summary-in' type='checkbox' disabled ><label for='section-5e5ae598-0a45-40e4-9dc1-139dbb2d4d1f' class='xr-section-summary'  title='Expand/collapse section'>Dimensions:</label><div class='xr-section-inline-details'><ul class='xr-dim-list'><li><span>uvecs</span>: 2</li><li><span class='xr-has-index'>x</span>: 1000</li><li><span class='xr-has-index'>y</span>: 2500</li></ul></div><div class='xr-section-details'></div></li><li class='xr-section-item'><input id='section-f1674d4f-699c-4db0-9569-9e9dd91a253e' class='xr-section-summary-in' type='checkbox'  checked><label for='section-f1674d4f-699c-4db0-9569-9e9dd91a253e' class='xr-section-summary' >Coordinates: <span>(2)</span></label><div class='xr-section-inline-details'></div><div class='xr-section-details'><ul class='xr-var-list'><li class='xr-var-item'><div class='xr-var-name'><span class='xr-has-index'>x</span></div><div class='xr-var-dims'>(x)</div><div class='xr-var-dtype'>float64</div><div class='xr-var-preview xr-preview'>0.0 0.02 0.04 ... 19.94 19.96 19.98</div><input id='attrs-0ad67128-3ea1-4091-99c5-d2c9cb6d0073' class='xr-var-attrs-in' type='checkbox' disabled><label for='attrs-0ad67128-3ea1-4091-99c5-d2c9cb6d0073' title='Show/Hide attributes'><svg class='icon xr-icon-file-text2'><use xlink:href='#icon-file-text2'></use></svg></label><input id='data-496779c3-bcfc-4991-8dff-6c9530f848f2' class='xr-var-data-in' type='checkbox'><label for='data-496779c3-bcfc-4991-8dff-6c9530f848f2' title='Show/Hide data repr'><svg class='icon xr-icon-database'><use xlink:href='#icon-database'></use></svg></label><div class='xr-var-attrs'><dl class='xr-attrs'></dl></div><div class='xr-var-data'><pre>array([ 0.  ,  0.02,  0.04, ..., 19.94, 19.96, 19.98])</pre></div></li><li class='xr-var-item'><div class='xr-var-name'><span class='xr-has-index'>y</span></div><div class='xr-var-dims'>(y)</div><div class='xr-var-dtype'>float64</div><div class='xr-var-preview xr-preview'>49.98 49.96 49.94 ... 0.04 0.02 0.0</div><input id='attrs-0bcd9d70-18a0-4e7d-9552-eb7ffa89163a' class='xr-var-attrs-in' type='checkbox' disabled><label for='attrs-0bcd9d70-18a0-4e7d-9552-eb7ffa89163a' title='Show/Hide attributes'><svg class='icon xr-icon-file-text2'><use xlink:href='#icon-file-text2'></use></svg></label><input id='data-b64abe51-7a5e-4a65-81cc-7ad0845751c4' class='xr-var-data-in' type='checkbox'><label for='data-b64abe51-7a5e-4a65-81cc-7ad0845751c4' title='Show/Hide data repr'><svg class='icon xr-icon-database'><use xlink:href='#icon-database'></use></svg></label><div class='xr-var-attrs'><dl class='xr-attrs'></dl></div><div class='xr-var-data'><pre>array([4.998e+01, 4.996e+01, 4.994e+01, ..., 4.000e-02, 2.000e-02, 0.000e+00])</pre></div></li></ul></div></li><li class='xr-section-item'><input id='section-3f082c1d-d898-41fe-9c48-18b171ea82ac' class='xr-section-summary-in' type='checkbox'  checked><label for='section-3f082c1d-d898-41fe-9c48-18b171ea82ac' class='xr-section-summary' >Data variables: <span>(4)</span></label><div class='xr-section-inline-details'></div><div class='xr-section-details'><ul class='xr-var-list'><li class='xr-var-item'><div class='xr-var-name'><span>orientation</span></div><div class='xr-var-dims'>(y, x, uvecs)</div><div class='xr-var-dtype'>float64</div><div class='xr-var-preview xr-preview'>2.395 0.6451 ... 0.6098 0.6473</div><input id='attrs-6eaded4f-d8fd-4b94-9f6b-3aef26c9494e' class='xr-var-attrs-in' type='checkbox' disabled><label for='attrs-6eaded4f-d8fd-4b94-9f6b-3aef26c9494e' title='Show/Hide attributes'><svg class='icon xr-icon-file-text2'><use xlink:href='#icon-file-text2'></use></svg></label><input id='data-e4fb9bb0-5ca3-4960-ba26-9db9dfc2dd9f' class='xr-var-data-in' type='checkbox'><label for='data-e4fb9bb0-5ca3-4960-ba26-9db9dfc2dd9f' title='Show/Hide data repr'><svg class='icon xr-icon-database'><use xlink:href='#icon-database'></use></svg></label><div class='xr-var-attrs'><dl class='xr-attrs'></dl></div><div class='xr-var-data'><pre>array([[[2.39476627, 0.64507369],\n",
       "        [5.37718489, 1.04999008],\n",
       "        [5.38905313, 1.05627326],\n",
       "        ...,\n",
       "        [2.05826679, 0.49654617],\n",
       "        [5.65731024, 0.94160513],\n",
       "        [5.68523551, 1.03218772]],\n",
       "\n",
       "       [[5.35955707, 1.15837502],\n",
       "        [5.35885894, 1.12975162],\n",
       "        [5.3613024 , 1.11701072],\n",
       "        ...,\n",
       "        [2.07659274, 0.52063172],\n",
       "        [5.64753639, 0.94073247],\n",
       "        [5.67912685, 1.04143796]],\n",
       "\n",
       "       [[5.36304773, 1.23045712],\n",
       "        [5.36165146, 1.23132979],\n",
       "        [2.38656322, 0.57246799],\n",
       "        ...,\n",
       "...\n",
       "        ...,\n",
       "        [0.62378067, 0.625526  ],\n",
       "        [0.61784656, 0.61994095],\n",
       "        [0.61645029, 0.61400683]],\n",
       "\n",
       "       [[0.68085294, 1.12399204],\n",
       "        [0.68050388, 1.12730816],\n",
       "        [0.67840948, 1.13900187],\n",
       "        ...,\n",
       "        [0.64123397, 0.62954026],\n",
       "        [0.62430427, 0.63529985],\n",
       "        [0.61575216, 0.62203535]],\n",
       "\n",
       "       [[0.67701322, 1.13236962],\n",
       "        [0.67753682, 1.13690747],\n",
       "        [0.67840948, 1.13149695],\n",
       "        ...,\n",
       "        [0.63652158, 0.61418136],\n",
       "        [0.61645029, 0.63948864],\n",
       "        [0.60981804, 0.64734262]]])</pre></div></li><li class='xr-var-item'><div class='xr-var-name'><span>quality</span></div><div class='xr-var-dims'>(y, x)</div><div class='xr-var-dtype'>int64</div><div class='xr-var-preview xr-preview'>0 90 92 93 92 92 ... 96 96 97 97 96</div><input id='attrs-5eeabbf4-5349-4c93-9310-4fba4e2eeb63' class='xr-var-attrs-in' type='checkbox' disabled><label for='attrs-5eeabbf4-5349-4c93-9310-4fba4e2eeb63' title='Show/Hide attributes'><svg class='icon xr-icon-file-text2'><use xlink:href='#icon-file-text2'></use></svg></label><input id='data-19721ecf-2da3-42a0-8dc5-507a412b7958' class='xr-var-data-in' type='checkbox'><label for='data-19721ecf-2da3-42a0-8dc5-507a412b7958' title='Show/Hide data repr'><svg class='icon xr-icon-database'><use xlink:href='#icon-database'></use></svg></label><div class='xr-var-attrs'><dl class='xr-attrs'></dl></div><div class='xr-var-data'><pre>array([[ 0, 90, 92, ...,  0, 85, 90],\n",
       "       [81, 82, 83, ...,  0, 84, 89],\n",
       "       [81, 80,  3, ...,  0, 79, 88],\n",
       "       ...,\n",
       "       [90, 91, 91, ..., 95, 95, 95],\n",
       "       [91, 92, 91, ..., 95, 95, 95],\n",
       "       [92, 92, 91, ..., 97, 97, 96]])</pre></div></li><li class='xr-var-item'><div class='xr-var-name'><span>micro</span></div><div class='xr-var-dims'>(y, x)</div><div class='xr-var-dtype'>float64</div><div class='xr-var-preview xr-preview'>0.0 0.0 0.0 0.0 ... 0.0 0.0 0.0 0.0</div><input id='attrs-d5e7e5a0-40f1-48ae-934d-ea848ec41b62' class='xr-var-attrs-in' type='checkbox' disabled><label for='attrs-d5e7e5a0-40f1-48ae-934d-ea848ec41b62' title='Show/Hide attributes'><svg class='icon xr-icon-file-text2'><use xlink:href='#icon-file-text2'></use></svg></label><input id='data-be38cfe8-ebb0-4d9d-8063-e7796cd770e2' class='xr-var-data-in' type='checkbox'><label for='data-be38cfe8-ebb0-4d9d-8063-e7796cd770e2' title='Show/Hide data repr'><svg class='icon xr-icon-database'><use xlink:href='#icon-database'></use></svg></label><div class='xr-var-attrs'><dl class='xr-attrs'></dl></div><div class='xr-var-data'><pre>array([[0., 0., 0., ..., 0., 0., 0.],\n",
       "       [0., 0., 0., ..., 0., 0., 0.],\n",
       "       [0., 0., 0., ..., 0., 0., 0.],\n",
       "       ...,\n",
       "       [0., 0., 0., ..., 0., 0., 0.],\n",
       "       [0., 0., 0., ..., 0., 0., 0.],\n",
       "       [0., 0., 0., ..., 0., 0., 0.]])</pre></div></li><li class='xr-var-item'><div class='xr-var-name'><span>grainId</span></div><div class='xr-var-dims'>(y, x)</div><div class='xr-var-dtype'>int64</div><div class='xr-var-preview xr-preview'>1 1 1 1 1 1 1 1 ... 1 1 1 1 1 1 1 1</div><input id='attrs-44ad2543-01e7-4ea8-ba42-dfb28c5fd245' class='xr-var-attrs-in' type='checkbox' disabled><label for='attrs-44ad2543-01e7-4ea8-ba42-dfb28c5fd245' title='Show/Hide attributes'><svg class='icon xr-icon-file-text2'><use xlink:href='#icon-file-text2'></use></svg></label><input id='data-7e897a20-21b2-41f8-b8fd-d6fcbfaf9133' class='xr-var-data-in' type='checkbox'><label for='data-7e897a20-21b2-41f8-b8fd-d6fcbfaf9133' title='Show/Hide data repr'><svg class='icon xr-icon-database'><use xlink:href='#icon-database'></use></svg></label><div class='xr-var-attrs'><dl class='xr-attrs'></dl></div><div class='xr-var-data'><pre>array([[1, 1, 1, ..., 1, 1, 1],\n",
       "       [1, 1, 1, ..., 1, 1, 1],\n",
       "       [1, 1, 1, ..., 1, 1, 1],\n",
       "       ...,\n",
       "       [1, 1, 1, ..., 1, 1, 1],\n",
       "       [1, 1, 1, ..., 1, 1, 1],\n",
       "       [1, 1, 1, ..., 1, 1, 1]])</pre></div></li></ul></div></li><li class='xr-section-item'><input id='section-f743dbda-6166-47a8-bd3a-255e885a770a' class='xr-section-summary-in' type='checkbox'  checked><label for='section-f743dbda-6166-47a8-bd3a-255e885a770a' class='xr-section-summary' >Attributes: <span>(4)</span></label><div class='xr-section-inline-details'></div><div class='xr-section-details'><dl class='xr-attrs'><dt><span>date :</span></dt><dd>Thursday, 19 Nov 2015, 11:24 am</dd><dt><span>unit :</span></dt><dd>millimeters</dd><dt><span>step_size :</span></dt><dd>0.02</dd><dt><span>path_dat :</span></dt><dd>orientation_test.dat</dd></dl></div></li></ul></div></div>"
      ],
      "text/plain": [
       "<xarray.Dataset>\n",
       "Dimensions:      (uvecs: 2, x: 1000, y: 2500)\n",
       "Coordinates:\n",
       "  * x            (x) float64 0.0 0.02 0.04 0.06 0.08 ... 19.92 19.94 19.96 19.98\n",
       "  * y            (y) float64 49.98 49.96 49.94 49.92 49.9 ... 0.06 0.04 0.02 0.0\n",
       "Dimensions without coordinates: uvecs\n",
       "Data variables:\n",
       "    orientation  (y, x, uvecs) float64 2.395 0.6451 5.377 ... 0.6098 0.6473\n",
       "    quality      (y, x) int64 0 90 92 93 92 92 94 94 ... 96 96 96 96 96 97 97 96\n",
       "    micro        (y, x) float64 0.0 0.0 0.0 0.0 0.0 0.0 ... 0.0 0.0 0.0 0.0 0.0\n",
       "    grainId      (y, x) int64 1 1 1 1 1 1 1 1 1 1 1 1 ... 1 1 1 1 1 1 1 1 1 1 1\n",
       "Attributes:\n",
       "    date:       Thursday, 19 Nov 2015, 11:24 am\n",
       "    unit:       millimeters\n",
       "    step_size:  0.02\n",
       "    path_dat:   orientation_test.dat"
      ]
     },
     "execution_count": 4,
     "metadata": {},
     "output_type": "execute_result"
    }
   ],
   "source": [
    "data"
   ]
  },
  {
   "cell_type": "markdown",
   "id": "lovely-reproduction",
   "metadata": {},
   "source": [
    "## Segment the data"
   ]
  },
  {
   "cell_type": "code",
   "execution_count": 5,
   "id": "traditional-dining",
   "metadata": {},
   "outputs": [
    {
     "data": {
      "application/vnd.jupyter.widget-view+json": {
       "model_id": "e43fb2c8d33145bba67d2a2d8abfcffe",
       "version_major": 2,
       "version_minor": 0
      },
      "text/plain": [
       "Canvas(toolbar=Toolbar(toolitems=[('Home', 'Reset original view', 'home', 'home'), ('Back', 'Back to previous …"
      ]
     },
     "metadata": {},
     "output_type": "display_data"
    },
    {
     "data": {
      "application/vnd.jupyter.widget-view+json": {
       "model_id": "bf36bc1054d645adb4094ef9bfc8a1af",
       "version_major": 2,
       "version_minor": 0
      },
      "text/plain": [
       "VBox(children=(HBox(children=(FloatSlider(value=1.5, continuous_update=False, description='Scharr filter:', ma…"
      ]
     },
     "metadata": {},
     "output_type": "display_data"
    },
    {
     "data": {
      "application/vnd.jupyter.widget-view+json": {
       "model_id": "9b2e082a346641308f9760c6540b8979",
       "version_major": 2,
       "version_minor": 0
      },
      "text/plain": [
       "Output()"
      ]
     },
     "metadata": {},
     "output_type": "display_data"
    }
   ],
   "source": [
    "plt.figure(figsize=(5,10))\n",
    "out=data.aita.interactive_segmentation()"
   ]
  },
  {
   "cell_type": "markdown",
   "id": "false-novel",
   "metadata": {},
   "source": [
    "## The new `xarray.DataSet.aita`"
   ]
  },
  {
   "cell_type": "code",
   "execution_count": 6,
   "id": "terminal-airline",
   "metadata": {},
   "outputs": [
    {
     "data": {
      "text/html": [
       "<div><svg style=\"position: absolute; width: 0; height: 0; overflow: hidden\">\n",
       "<defs>\n",
       "<symbol id=\"icon-database\" viewBox=\"0 0 32 32\">\n",
       "<path d=\"M16 0c-8.837 0-16 2.239-16 5v4c0 2.761 7.163 5 16 5s16-2.239 16-5v-4c0-2.761-7.163-5-16-5z\"></path>\n",
       "<path d=\"M16 17c-8.837 0-16-2.239-16-5v6c0 2.761 7.163 5 16 5s16-2.239 16-5v-6c0 2.761-7.163 5-16 5z\"></path>\n",
       "<path d=\"M16 26c-8.837 0-16-2.239-16-5v6c0 2.761 7.163 5 16 5s16-2.239 16-5v-6c0 2.761-7.163 5-16 5z\"></path>\n",
       "</symbol>\n",
       "<symbol id=\"icon-file-text2\" viewBox=\"0 0 32 32\">\n",
       "<path d=\"M28.681 7.159c-0.694-0.947-1.662-2.053-2.724-3.116s-2.169-2.030-3.116-2.724c-1.612-1.182-2.393-1.319-2.841-1.319h-15.5c-1.378 0-2.5 1.121-2.5 2.5v27c0 1.378 1.122 2.5 2.5 2.5h23c1.378 0 2.5-1.122 2.5-2.5v-19.5c0-0.448-0.137-1.23-1.319-2.841zM24.543 5.457c0.959 0.959 1.712 1.825 2.268 2.543h-4.811v-4.811c0.718 0.556 1.584 1.309 2.543 2.268zM28 29.5c0 0.271-0.229 0.5-0.5 0.5h-23c-0.271 0-0.5-0.229-0.5-0.5v-27c0-0.271 0.229-0.5 0.5-0.5 0 0 15.499-0 15.5 0v7c0 0.552 0.448 1 1 1h7v19.5z\"></path>\n",
       "<path d=\"M23 26h-14c-0.552 0-1-0.448-1-1s0.448-1 1-1h14c0.552 0 1 0.448 1 1s-0.448 1-1 1z\"></path>\n",
       "<path d=\"M23 22h-14c-0.552 0-1-0.448-1-1s0.448-1 1-1h14c0.552 0 1 0.448 1 1s-0.448 1-1 1z\"></path>\n",
       "<path d=\"M23 18h-14c-0.552 0-1-0.448-1-1s0.448-1 1-1h14c0.552 0 1 0.448 1 1s-0.448 1-1 1z\"></path>\n",
       "</symbol>\n",
       "</defs>\n",
       "</svg>\n",
       "<style>/* CSS stylesheet for displaying xarray objects in jupyterlab.\n",
       " *\n",
       " */\n",
       "\n",
       ":root {\n",
       "  --xr-font-color0: var(--jp-content-font-color0, rgba(0, 0, 0, 1));\n",
       "  --xr-font-color2: var(--jp-content-font-color2, rgba(0, 0, 0, 0.54));\n",
       "  --xr-font-color3: var(--jp-content-font-color3, rgba(0, 0, 0, 0.38));\n",
       "  --xr-border-color: var(--jp-border-color2, #e0e0e0);\n",
       "  --xr-disabled-color: var(--jp-layout-color3, #bdbdbd);\n",
       "  --xr-background-color: var(--jp-layout-color0, white);\n",
       "  --xr-background-color-row-even: var(--jp-layout-color1, white);\n",
       "  --xr-background-color-row-odd: var(--jp-layout-color2, #eeeeee);\n",
       "}\n",
       "\n",
       "html[theme=dark],\n",
       "body.vscode-dark {\n",
       "  --xr-font-color0: rgba(255, 255, 255, 1);\n",
       "  --xr-font-color2: rgba(255, 255, 255, 0.54);\n",
       "  --xr-font-color3: rgba(255, 255, 255, 0.38);\n",
       "  --xr-border-color: #1F1F1F;\n",
       "  --xr-disabled-color: #515151;\n",
       "  --xr-background-color: #111111;\n",
       "  --xr-background-color-row-even: #111111;\n",
       "  --xr-background-color-row-odd: #313131;\n",
       "}\n",
       "\n",
       ".xr-wrap {\n",
       "  display: block;\n",
       "  min-width: 300px;\n",
       "  max-width: 700px;\n",
       "}\n",
       "\n",
       ".xr-text-repr-fallback {\n",
       "  /* fallback to plain text repr when CSS is not injected (untrusted notebook) */\n",
       "  display: none;\n",
       "}\n",
       "\n",
       ".xr-header {\n",
       "  padding-top: 6px;\n",
       "  padding-bottom: 6px;\n",
       "  margin-bottom: 4px;\n",
       "  border-bottom: solid 1px var(--xr-border-color);\n",
       "}\n",
       "\n",
       ".xr-header > div,\n",
       ".xr-header > ul {\n",
       "  display: inline;\n",
       "  margin-top: 0;\n",
       "  margin-bottom: 0;\n",
       "}\n",
       "\n",
       ".xr-obj-type,\n",
       ".xr-array-name {\n",
       "  margin-left: 2px;\n",
       "  margin-right: 10px;\n",
       "}\n",
       "\n",
       ".xr-obj-type {\n",
       "  color: var(--xr-font-color2);\n",
       "}\n",
       "\n",
       ".xr-sections {\n",
       "  padding-left: 0 !important;\n",
       "  display: grid;\n",
       "  grid-template-columns: 150px auto auto 1fr 20px 20px;\n",
       "}\n",
       "\n",
       ".xr-section-item {\n",
       "  display: contents;\n",
       "}\n",
       "\n",
       ".xr-section-item input {\n",
       "  display: none;\n",
       "}\n",
       "\n",
       ".xr-section-item input + label {\n",
       "  color: var(--xr-disabled-color);\n",
       "}\n",
       "\n",
       ".xr-section-item input:enabled + label {\n",
       "  cursor: pointer;\n",
       "  color: var(--xr-font-color2);\n",
       "}\n",
       "\n",
       ".xr-section-item input:enabled + label:hover {\n",
       "  color: var(--xr-font-color0);\n",
       "}\n",
       "\n",
       ".xr-section-summary {\n",
       "  grid-column: 1;\n",
       "  color: var(--xr-font-color2);\n",
       "  font-weight: 500;\n",
       "}\n",
       "\n",
       ".xr-section-summary > span {\n",
       "  display: inline-block;\n",
       "  padding-left: 0.5em;\n",
       "}\n",
       "\n",
       ".xr-section-summary-in:disabled + label {\n",
       "  color: var(--xr-font-color2);\n",
       "}\n",
       "\n",
       ".xr-section-summary-in + label:before {\n",
       "  display: inline-block;\n",
       "  content: '►';\n",
       "  font-size: 11px;\n",
       "  width: 15px;\n",
       "  text-align: center;\n",
       "}\n",
       "\n",
       ".xr-section-summary-in:disabled + label:before {\n",
       "  color: var(--xr-disabled-color);\n",
       "}\n",
       "\n",
       ".xr-section-summary-in:checked + label:before {\n",
       "  content: '▼';\n",
       "}\n",
       "\n",
       ".xr-section-summary-in:checked + label > span {\n",
       "  display: none;\n",
       "}\n",
       "\n",
       ".xr-section-summary,\n",
       ".xr-section-inline-details {\n",
       "  padding-top: 4px;\n",
       "  padding-bottom: 4px;\n",
       "}\n",
       "\n",
       ".xr-section-inline-details {\n",
       "  grid-column: 2 / -1;\n",
       "}\n",
       "\n",
       ".xr-section-details {\n",
       "  display: none;\n",
       "  grid-column: 1 / -1;\n",
       "  margin-bottom: 5px;\n",
       "}\n",
       "\n",
       ".xr-section-summary-in:checked ~ .xr-section-details {\n",
       "  display: contents;\n",
       "}\n",
       "\n",
       ".xr-array-wrap {\n",
       "  grid-column: 1 / -1;\n",
       "  display: grid;\n",
       "  grid-template-columns: 20px auto;\n",
       "}\n",
       "\n",
       ".xr-array-wrap > label {\n",
       "  grid-column: 1;\n",
       "  vertical-align: top;\n",
       "}\n",
       "\n",
       ".xr-preview {\n",
       "  color: var(--xr-font-color3);\n",
       "}\n",
       "\n",
       ".xr-array-preview,\n",
       ".xr-array-data {\n",
       "  padding: 0 5px !important;\n",
       "  grid-column: 2;\n",
       "}\n",
       "\n",
       ".xr-array-data,\n",
       ".xr-array-in:checked ~ .xr-array-preview {\n",
       "  display: none;\n",
       "}\n",
       "\n",
       ".xr-array-in:checked ~ .xr-array-data,\n",
       ".xr-array-preview {\n",
       "  display: inline-block;\n",
       "}\n",
       "\n",
       ".xr-dim-list {\n",
       "  display: inline-block !important;\n",
       "  list-style: none;\n",
       "  padding: 0 !important;\n",
       "  margin: 0;\n",
       "}\n",
       "\n",
       ".xr-dim-list li {\n",
       "  display: inline-block;\n",
       "  padding: 0;\n",
       "  margin: 0;\n",
       "}\n",
       "\n",
       ".xr-dim-list:before {\n",
       "  content: '(';\n",
       "}\n",
       "\n",
       ".xr-dim-list:after {\n",
       "  content: ')';\n",
       "}\n",
       "\n",
       ".xr-dim-list li:not(:last-child):after {\n",
       "  content: ',';\n",
       "  padding-right: 5px;\n",
       "}\n",
       "\n",
       ".xr-has-index {\n",
       "  font-weight: bold;\n",
       "}\n",
       "\n",
       ".xr-var-list,\n",
       ".xr-var-item {\n",
       "  display: contents;\n",
       "}\n",
       "\n",
       ".xr-var-item > div,\n",
       ".xr-var-item label,\n",
       ".xr-var-item > .xr-var-name span {\n",
       "  background-color: var(--xr-background-color-row-even);\n",
       "  margin-bottom: 0;\n",
       "}\n",
       "\n",
       ".xr-var-item > .xr-var-name:hover span {\n",
       "  padding-right: 5px;\n",
       "}\n",
       "\n",
       ".xr-var-list > li:nth-child(odd) > div,\n",
       ".xr-var-list > li:nth-child(odd) > label,\n",
       ".xr-var-list > li:nth-child(odd) > .xr-var-name span {\n",
       "  background-color: var(--xr-background-color-row-odd);\n",
       "}\n",
       "\n",
       ".xr-var-name {\n",
       "  grid-column: 1;\n",
       "}\n",
       "\n",
       ".xr-var-dims {\n",
       "  grid-column: 2;\n",
       "}\n",
       "\n",
       ".xr-var-dtype {\n",
       "  grid-column: 3;\n",
       "  text-align: right;\n",
       "  color: var(--xr-font-color2);\n",
       "}\n",
       "\n",
       ".xr-var-preview {\n",
       "  grid-column: 4;\n",
       "}\n",
       "\n",
       ".xr-var-name,\n",
       ".xr-var-dims,\n",
       ".xr-var-dtype,\n",
       ".xr-preview,\n",
       ".xr-attrs dt {\n",
       "  white-space: nowrap;\n",
       "  overflow: hidden;\n",
       "  text-overflow: ellipsis;\n",
       "  padding-right: 10px;\n",
       "}\n",
       "\n",
       ".xr-var-name:hover,\n",
       ".xr-var-dims:hover,\n",
       ".xr-var-dtype:hover,\n",
       ".xr-attrs dt:hover {\n",
       "  overflow: visible;\n",
       "  width: auto;\n",
       "  z-index: 1;\n",
       "}\n",
       "\n",
       ".xr-var-attrs,\n",
       ".xr-var-data {\n",
       "  display: none;\n",
       "  background-color: var(--xr-background-color) !important;\n",
       "  padding-bottom: 5px !important;\n",
       "}\n",
       "\n",
       ".xr-var-attrs-in:checked ~ .xr-var-attrs,\n",
       ".xr-var-data-in:checked ~ .xr-var-data {\n",
       "  display: block;\n",
       "}\n",
       "\n",
       ".xr-var-data > table {\n",
       "  float: right;\n",
       "}\n",
       "\n",
       ".xr-var-name span,\n",
       ".xr-var-data,\n",
       ".xr-attrs {\n",
       "  padding-left: 25px !important;\n",
       "}\n",
       "\n",
       ".xr-attrs,\n",
       ".xr-var-attrs,\n",
       ".xr-var-data {\n",
       "  grid-column: 1 / -1;\n",
       "}\n",
       "\n",
       "dl.xr-attrs {\n",
       "  padding: 0;\n",
       "  margin: 0;\n",
       "  display: grid;\n",
       "  grid-template-columns: 125px auto;\n",
       "}\n",
       "\n",
       ".xr-attrs dt,\n",
       ".xr-attrs dd {\n",
       "  padding: 0;\n",
       "  margin: 0;\n",
       "  float: left;\n",
       "  padding-right: 10px;\n",
       "  width: auto;\n",
       "}\n",
       "\n",
       ".xr-attrs dt {\n",
       "  font-weight: normal;\n",
       "  grid-column: 1;\n",
       "}\n",
       "\n",
       ".xr-attrs dt:hover span {\n",
       "  display: inline-block;\n",
       "  background: var(--xr-background-color);\n",
       "  padding-right: 10px;\n",
       "}\n",
       "\n",
       ".xr-attrs dd {\n",
       "  grid-column: 2;\n",
       "  white-space: pre-wrap;\n",
       "  word-break: break-all;\n",
       "}\n",
       "\n",
       ".xr-icon-database,\n",
       ".xr-icon-file-text2 {\n",
       "  display: inline-block;\n",
       "  vertical-align: middle;\n",
       "  width: 1em;\n",
       "  height: 1.5em !important;\n",
       "  stroke-width: 0;\n",
       "  stroke: currentColor;\n",
       "  fill: currentColor;\n",
       "}\n",
       "</style><pre class='xr-text-repr-fallback'>&lt;xarray.Dataset&gt;\n",
       "Dimensions:      (uvecs: 2, x: 1000, y: 2500)\n",
       "Coordinates:\n",
       "  * x            (x) float64 0.0 0.02 0.04 0.06 0.08 ... 19.92 19.94 19.96 19.98\n",
       "  * y            (y) float64 49.98 49.96 49.94 49.92 49.9 ... 0.06 0.04 0.02 0.0\n",
       "Dimensions without coordinates: uvecs\n",
       "Data variables:\n",
       "    orientation  (y, x, uvecs) float64 2.395 0.6451 5.377 ... 0.6098 0.6473\n",
       "    quality      (y, x) int64 0 90 92 93 92 92 94 94 ... 96 96 96 96 96 97 97 96\n",
       "    micro        (y, x) bool True True True True True ... True True True True\n",
       "    grainId      (y, x) int32 0 0 0 0 0 0 0 0 0 0 0 0 ... 0 0 0 0 0 0 0 0 0 0 0\n",
       "Attributes:\n",
       "    date:       Thursday, 19 Nov 2015, 11:24 am\n",
       "    unit:       millimeters\n",
       "    step_size:  0.02\n",
       "    path_dat:   orientation_test.dat</pre><div class='xr-wrap' hidden><div class='xr-header'><div class='xr-obj-type'>xarray.Dataset</div></div><ul class='xr-sections'><li class='xr-section-item'><input id='section-0e86d442-0978-4e85-8f60-47789d1bbca3' class='xr-section-summary-in' type='checkbox' disabled ><label for='section-0e86d442-0978-4e85-8f60-47789d1bbca3' class='xr-section-summary'  title='Expand/collapse section'>Dimensions:</label><div class='xr-section-inline-details'><ul class='xr-dim-list'><li><span>uvecs</span>: 2</li><li><span class='xr-has-index'>x</span>: 1000</li><li><span class='xr-has-index'>y</span>: 2500</li></ul></div><div class='xr-section-details'></div></li><li class='xr-section-item'><input id='section-c2c012c7-7006-44e0-be02-aa2041dbdb4a' class='xr-section-summary-in' type='checkbox'  checked><label for='section-c2c012c7-7006-44e0-be02-aa2041dbdb4a' class='xr-section-summary' >Coordinates: <span>(2)</span></label><div class='xr-section-inline-details'></div><div class='xr-section-details'><ul class='xr-var-list'><li class='xr-var-item'><div class='xr-var-name'><span class='xr-has-index'>x</span></div><div class='xr-var-dims'>(x)</div><div class='xr-var-dtype'>float64</div><div class='xr-var-preview xr-preview'>0.0 0.02 0.04 ... 19.94 19.96 19.98</div><input id='attrs-b2bf6dae-3807-40a5-8a44-064122ddd579' class='xr-var-attrs-in' type='checkbox' disabled><label for='attrs-b2bf6dae-3807-40a5-8a44-064122ddd579' title='Show/Hide attributes'><svg class='icon xr-icon-file-text2'><use xlink:href='#icon-file-text2'></use></svg></label><input id='data-8897dfa1-f2e7-4b9f-aa38-77551847ef02' class='xr-var-data-in' type='checkbox'><label for='data-8897dfa1-f2e7-4b9f-aa38-77551847ef02' title='Show/Hide data repr'><svg class='icon xr-icon-database'><use xlink:href='#icon-database'></use></svg></label><div class='xr-var-attrs'><dl class='xr-attrs'></dl></div><div class='xr-var-data'><pre>array([ 0.  ,  0.02,  0.04, ..., 19.94, 19.96, 19.98])</pre></div></li><li class='xr-var-item'><div class='xr-var-name'><span class='xr-has-index'>y</span></div><div class='xr-var-dims'>(y)</div><div class='xr-var-dtype'>float64</div><div class='xr-var-preview xr-preview'>49.98 49.96 49.94 ... 0.04 0.02 0.0</div><input id='attrs-5767e122-db2b-452f-b802-ba309ceb5415' class='xr-var-attrs-in' type='checkbox' disabled><label for='attrs-5767e122-db2b-452f-b802-ba309ceb5415' title='Show/Hide attributes'><svg class='icon xr-icon-file-text2'><use xlink:href='#icon-file-text2'></use></svg></label><input id='data-59a8fc6e-4e06-4081-bb42-17edbb82c561' class='xr-var-data-in' type='checkbox'><label for='data-59a8fc6e-4e06-4081-bb42-17edbb82c561' title='Show/Hide data repr'><svg class='icon xr-icon-database'><use xlink:href='#icon-database'></use></svg></label><div class='xr-var-attrs'><dl class='xr-attrs'></dl></div><div class='xr-var-data'><pre>array([4.998e+01, 4.996e+01, 4.994e+01, ..., 4.000e-02, 2.000e-02, 0.000e+00])</pre></div></li></ul></div></li><li class='xr-section-item'><input id='section-c98be1d4-3f43-431e-a630-e3abd8cc08d0' class='xr-section-summary-in' type='checkbox'  checked><label for='section-c98be1d4-3f43-431e-a630-e3abd8cc08d0' class='xr-section-summary' >Data variables: <span>(4)</span></label><div class='xr-section-inline-details'></div><div class='xr-section-details'><ul class='xr-var-list'><li class='xr-var-item'><div class='xr-var-name'><span>orientation</span></div><div class='xr-var-dims'>(y, x, uvecs)</div><div class='xr-var-dtype'>float64</div><div class='xr-var-preview xr-preview'>2.395 0.6451 ... 0.6098 0.6473</div><input id='attrs-c60b483e-0e3a-4f44-8ae2-bff5e8fb9a40' class='xr-var-attrs-in' type='checkbox' disabled><label for='attrs-c60b483e-0e3a-4f44-8ae2-bff5e8fb9a40' title='Show/Hide attributes'><svg class='icon xr-icon-file-text2'><use xlink:href='#icon-file-text2'></use></svg></label><input id='data-8b837294-2cd4-4531-a46b-2292f566bca9' class='xr-var-data-in' type='checkbox'><label for='data-8b837294-2cd4-4531-a46b-2292f566bca9' title='Show/Hide data repr'><svg class='icon xr-icon-database'><use xlink:href='#icon-database'></use></svg></label><div class='xr-var-attrs'><dl class='xr-attrs'></dl></div><div class='xr-var-data'><pre>array([[[2.39476627, 0.64507369],\n",
       "        [5.37718489, 1.04999008],\n",
       "        [5.38905313, 1.05627326],\n",
       "        ...,\n",
       "        [2.05826679, 0.49654617],\n",
       "        [5.65731024, 0.94160513],\n",
       "        [5.68523551, 1.03218772]],\n",
       "\n",
       "       [[5.35955707, 1.15837502],\n",
       "        [5.35885894, 1.12975162],\n",
       "        [5.3613024 , 1.11701072],\n",
       "        ...,\n",
       "        [2.07659274, 0.52063172],\n",
       "        [5.64753639, 0.94073247],\n",
       "        [5.67912685, 1.04143796]],\n",
       "\n",
       "       [[5.36304773, 1.23045712],\n",
       "        [5.36165146, 1.23132979],\n",
       "        [2.38656322, 0.57246799],\n",
       "        ...,\n",
       "...\n",
       "        ...,\n",
       "        [0.62378067, 0.625526  ],\n",
       "        [0.61784656, 0.61994095],\n",
       "        [0.61645029, 0.61400683]],\n",
       "\n",
       "       [[0.68085294, 1.12399204],\n",
       "        [0.68050388, 1.12730816],\n",
       "        [0.67840948, 1.13900187],\n",
       "        ...,\n",
       "        [0.64123397, 0.62954026],\n",
       "        [0.62430427, 0.63529985],\n",
       "        [0.61575216, 0.62203535]],\n",
       "\n",
       "       [[0.67701322, 1.13236962],\n",
       "        [0.67753682, 1.13690747],\n",
       "        [0.67840948, 1.13149695],\n",
       "        ...,\n",
       "        [0.63652158, 0.61418136],\n",
       "        [0.61645029, 0.63948864],\n",
       "        [0.60981804, 0.64734262]]])</pre></div></li><li class='xr-var-item'><div class='xr-var-name'><span>quality</span></div><div class='xr-var-dims'>(y, x)</div><div class='xr-var-dtype'>int64</div><div class='xr-var-preview xr-preview'>0 90 92 93 92 92 ... 96 96 97 97 96</div><input id='attrs-abf65d38-24e6-49c2-9c3c-108c8519e73c' class='xr-var-attrs-in' type='checkbox' disabled><label for='attrs-abf65d38-24e6-49c2-9c3c-108c8519e73c' title='Show/Hide attributes'><svg class='icon xr-icon-file-text2'><use xlink:href='#icon-file-text2'></use></svg></label><input id='data-a8dc9b3a-b9ea-48d4-82a1-72a1ff4b24e7' class='xr-var-data-in' type='checkbox'><label for='data-a8dc9b3a-b9ea-48d4-82a1-72a1ff4b24e7' title='Show/Hide data repr'><svg class='icon xr-icon-database'><use xlink:href='#icon-database'></use></svg></label><div class='xr-var-attrs'><dl class='xr-attrs'></dl></div><div class='xr-var-data'><pre>array([[ 0, 90, 92, ...,  0, 85, 90],\n",
       "       [81, 82, 83, ...,  0, 84, 89],\n",
       "       [81, 80,  3, ...,  0, 79, 88],\n",
       "       ...,\n",
       "       [90, 91, 91, ..., 95, 95, 95],\n",
       "       [91, 92, 91, ..., 95, 95, 95],\n",
       "       [92, 92, 91, ..., 97, 97, 96]])</pre></div></li><li class='xr-var-item'><div class='xr-var-name'><span>micro</span></div><div class='xr-var-dims'>(y, x)</div><div class='xr-var-dtype'>bool</div><div class='xr-var-preview xr-preview'>True True True ... True True True</div><input id='attrs-349309fd-ce3d-469f-a197-8ac1694e28c9' class='xr-var-attrs-in' type='checkbox' disabled><label for='attrs-349309fd-ce3d-469f-a197-8ac1694e28c9' title='Show/Hide attributes'><svg class='icon xr-icon-file-text2'><use xlink:href='#icon-file-text2'></use></svg></label><input id='data-1370c50e-1cb2-419c-8e61-3b4db73bd881' class='xr-var-data-in' type='checkbox'><label for='data-1370c50e-1cb2-419c-8e61-3b4db73bd881' title='Show/Hide data repr'><svg class='icon xr-icon-database'><use xlink:href='#icon-database'></use></svg></label><div class='xr-var-attrs'><dl class='xr-attrs'></dl></div><div class='xr-var-data'><pre>array([[ True,  True,  True, ...,  True,  True,  True],\n",
       "       [ True, False, False, ..., False, False,  True],\n",
       "       [ True, False, False, ..., False, False,  True],\n",
       "       ...,\n",
       "       [ True, False, False, ..., False, False,  True],\n",
       "       [ True, False, False, ..., False, False,  True],\n",
       "       [ True,  True,  True, ...,  True,  True,  True]])</pre></div></li><li class='xr-var-item'><div class='xr-var-name'><span>grainId</span></div><div class='xr-var-dims'>(y, x)</div><div class='xr-var-dtype'>int32</div><div class='xr-var-preview xr-preview'>0 0 0 0 0 0 0 0 ... 0 0 0 0 0 0 0 0</div><input id='attrs-67372b3b-d662-4fe9-8332-5a3c3ac5d063' class='xr-var-attrs-in' type='checkbox' disabled><label for='attrs-67372b3b-d662-4fe9-8332-5a3c3ac5d063' title='Show/Hide attributes'><svg class='icon xr-icon-file-text2'><use xlink:href='#icon-file-text2'></use></svg></label><input id='data-d04a0487-24e9-4a81-87fd-8a3f37747a14' class='xr-var-data-in' type='checkbox'><label for='data-d04a0487-24e9-4a81-87fd-8a3f37747a14' title='Show/Hide data repr'><svg class='icon xr-icon-database'><use xlink:href='#icon-database'></use></svg></label><div class='xr-var-attrs'><dl class='xr-attrs'></dl></div><div class='xr-var-data'><pre>array([[   0,    0,    0, ...,    0,    0,    0],\n",
       "       [   0,    1,    1, ...,   44,   44,    0],\n",
       "       [   0,    1,    1, ...,   44,   44,    0],\n",
       "       ...,\n",
       "       [   0, 1284, 1284, ..., 1286, 1286,    0],\n",
       "       [   0, 1284, 1284, ..., 1286, 1286,    0],\n",
       "       [   0,    0,    0, ...,    0,    0,    0]], dtype=int32)</pre></div></li></ul></div></li><li class='xr-section-item'><input id='section-37cade41-3409-4514-b827-a6f64b3ac7a2' class='xr-section-summary-in' type='checkbox'  checked><label for='section-37cade41-3409-4514-b827-a6f64b3ac7a2' class='xr-section-summary' >Attributes: <span>(4)</span></label><div class='xr-section-inline-details'></div><div class='xr-section-details'><dl class='xr-attrs'><dt><span>date :</span></dt><dd>Thursday, 19 Nov 2015, 11:24 am</dd><dt><span>unit :</span></dt><dd>millimeters</dd><dt><span>step_size :</span></dt><dd>0.02</dd><dt><span>path_dat :</span></dt><dd>orientation_test.dat</dd></dl></div></li></ul></div></div>"
      ],
      "text/plain": [
       "<xarray.Dataset>\n",
       "Dimensions:      (uvecs: 2, x: 1000, y: 2500)\n",
       "Coordinates:\n",
       "  * x            (x) float64 0.0 0.02 0.04 0.06 0.08 ... 19.92 19.94 19.96 19.98\n",
       "  * y            (y) float64 49.98 49.96 49.94 49.92 49.9 ... 0.06 0.04 0.02 0.0\n",
       "Dimensions without coordinates: uvecs\n",
       "Data variables:\n",
       "    orientation  (y, x, uvecs) float64 2.395 0.6451 5.377 ... 0.6098 0.6473\n",
       "    quality      (y, x) int64 0 90 92 93 92 92 94 94 ... 96 96 96 96 96 97 97 96\n",
       "    micro        (y, x) bool True True True True True ... True True True True\n",
       "    grainId      (y, x) int32 0 0 0 0 0 0 0 0 0 0 0 0 ... 0 0 0 0 0 0 0 0 0 0 0\n",
       "Attributes:\n",
       "    date:       Thursday, 19 Nov 2015, 11:24 am\n",
       "    unit:       millimeters\n",
       "    step_size:  0.02\n",
       "    path_dat:   orientation_test.dat"
      ]
     },
     "execution_count": 6,
     "metadata": {},
     "output_type": "execute_result"
    }
   ],
   "source": [
    "out.ds"
   ]
  },
  {
   "cell_type": "markdown",
   "id": "major-termination",
   "metadata": {},
   "source": [
    "### Plot micro"
   ]
  },
  {
   "cell_type": "code",
   "execution_count": 7,
   "id": "pressing-bundle",
   "metadata": {},
   "outputs": [],
   "source": [
    "%matplotlib inline"
   ]
  },
  {
   "cell_type": "code",
   "execution_count": 8,
   "id": "quantitative-means",
   "metadata": {},
   "outputs": [
    {
     "data": {
      "text/plain": [
       "<matplotlib.collections.QuadMesh at 0x7f80ce460b20>"
      ]
     },
     "execution_count": 8,
     "metadata": {},
     "output_type": "execute_result"
    },
    {
     "data": {
      "image/png": "[encoded data removed]",
      "text/plain": [
       "<Figure size 360x720 with 2 Axes>"
      ]
     },
     "metadata": {
      "needs_background": "light"
     },
     "output_type": "display_data"
    }
   ],
   "source": [
    "plt.figure(figsize=(5,10))\n",
    "out.ds.micro.plot()"
   ]
  },
  {
   "cell_type": "markdown",
   "id": "worse-civilian",
   "metadata": {
    "tags": []
   },
   "source": [
    "### Plot grainId"
   ]
  },
  {
   "cell_type": "code",
   "execution_count": 9,
   "id": "covered-graph",
   "metadata": {},
   "outputs": [
    {
     "data": {
      "text/plain": [
       "<matplotlib.collections.QuadMesh at 0x7f80ce3a6430>"
      ]
     },
     "execution_count": 9,
     "metadata": {},
     "output_type": "execute_result"
    },
    {
     "data": {
      "image/png": "[encoded data removed]",
      "text/plain": [
       "<Figure size 360x720 with 2 Axes>"
      ]
     },
     "metadata": {
      "needs_background": "light"
     },
     "output_type": "display_data"
    }
   ],
   "source": [
    "plt.figure(figsize=(5,10))\n",
    "out.ds.grainId.plot()"
   ]
  },
  {
   "cell_type": "markdown",
   "id": "behind-flour",
   "metadata": {},
   "source": [
    "## The parameters for the segmentation\n",
    "If you want to re-do the segmentation with the same value they can be find here : "
   ]
  },
  {
   "cell_type": "code",
   "execution_count": 10,
   "id": "smooth-jungle",
   "metadata": {},
   "outputs": [
    {
     "name": "stdout",
     "output_type": "stream",
     "text": [
      "Use scharr: True\n",
      "Value scharr: 1.5\n",
      "Use canny: True\n",
      "Value canny: 1.5\n",
      "Images canny: both color wheel\n",
      "Use quality: True\n",
      "Value quality: 60.0\n",
      "Include border: True\n"
     ]
    }
   ],
   "source": [
    "print('Use scharr:',out.use_scharr)\n",
    "print('Value scharr:',out.val_scharr)\n",
    "print('Use canny:',out.use_canny)\n",
    "print('Value canny:',out.val_canny)\n",
    "print('Images canny:',out.img_canny)\n",
    "print('Use quality:',out.use_quality)\n",
    "print('Value quality:',out.val_quality)\n",
    "print('Include border:',out.include_border)"
   ]
  }
 ],
 "metadata": {
  "kernelspec": {
   "display_name": "basepy38",
   "language": "python",
   "name": "basepy38"
  },
  "language_info": {
   "codemirror_mode": {
    "name": "ipython",
    "version": 3
   },
   "file_extension": ".py",
   "mimetype": "text/x-python",
   "name": "python",
   "nbconvert_exporter": "python",
   "pygments_lexer": "ipython3",
   "version": "3.8.8"
  },
  "widgets": {
   "application/vnd.jupyter.widget-state+json": {
    "state": {
     "01036113920841298749877ec6f08264": {
      "model_module": "@jupyter-widgets/base",
      "model_module_version": "1.2.0",
      "model_name": "LayoutModel",
      "state": {}
     },
     "044f2b9dbe384ab1b3d3fc91753470fe": {
      "model_module": "@jupyter-widgets/controls",
      "model_module_version": "1.5.0",
      "model_name": "SliderStyleModel",
      "state": {
       "description_width": ""
      }
     },
     "100158351e3747a188a9e9a817b63b19": {
      "model_module": "@jupyter-widgets/controls",
      "model_module_version": "1.5.0",
      "model_name": "DescriptionStyleModel",
      "state": {
       "description_width": ""
      }
     },
     "17fbb8b2c3e344ee894da3ffc5b8bf85": {
      "model_module": "@jupyter-widgets/controls",
      "model_module_version": "1.5.0",
      "model_name": "CheckboxModel",
      "state": {
       "description": "Use canny filter",
       "disabled": false,
       "layout": "IPY_MODEL_a194c0bd5d764082a975f91b01df98c1",
       "style": "IPY_MODEL_4cfc660c24a34d2daf11cfea8f443c9b",
       "value": true
      }
     },
     "1a04ef379b5245a0abb926e6ec389d4e": {
      "model_module": "@jupyter-widgets/base",
      "model_module_version": "1.2.0",
      "model_name": "LayoutModel",
      "state": {}
     },
     "2050c5edd5504480bab9312316cac918": {
      "model_module": "@jupyter-widgets/controls",
      "model_module_version": "1.5.0",
      "model_name": "SliderStyleModel",
      "state": {
       "description_width": ""
      }
     },
     "2108d749500545e18d13ce72fa1401cb": {
      "model_module": "@jupyter-widgets/controls",
      "model_module_version": "1.5.0",
      "model_name": "CheckboxModel",
      "state": {
       "description": "Use Quality filter",
       "disabled": false,
       "layout": "IPY_MODEL_fd6d4be6c4ed4c33b774a248be71258a",
       "style": "IPY_MODEL_88c06c85195540ff8639f1af0e22fe3e",
       "value": true
      }
     },
     "21737e624d424a658910a5aa17848853": {
      "model_module": "@jupyter-widgets/base",
      "model_module_version": "1.2.0",
      "model_name": "LayoutModel",
      "state": {}
     },
     "21bd1c67946c469ab1af07a3d8bb5fcc": {
      "model_module": "@jupyter-widgets/controls",
      "model_module_version": "1.5.0",
      "model_name": "IntSliderModel",
      "state": {
       "continuous_update": false,
       "description": "Dilate GB:",
       "layout": "IPY_MODEL_ddd69c1f62fd48b5b9f3e2f23a318c59",
       "max": 10,
       "style": "IPY_MODEL_2050c5edd5504480bab9312316cac918",
       "value": 3
      }
     },
     "22f4f00ab2fa473d927cb9c10bb3d59e": {
      "model_module": "@jupyter-widgets/controls",
      "model_module_version": "1.5.0",
      "model_name": "DescriptionStyleModel",
      "state": {
       "description_width": ""
      }
     },
     "23cbf507c51e4c21ad96a550f1c8f87e": {
      "model_module": "@jupyter-widgets/base",
      "model_module_version": "1.2.0",
      "model_name": "LayoutModel",
      "state": {}
     },
     "2470b994da5a48c6ad7ea18eb8c2f5e7": {
      "model_module": "@jupyter-widgets/controls",
      "model_module_version": "1.5.0",
      "model_name": "DescriptionStyleModel",
      "state": {
       "description_width": ""
      }
     },
     "253df11ce5c8428e9a4c3fcfbdeae283": {
      "model_module": "@jupyter-widgets/controls",
      "model_module_version": "1.5.0",
      "model_name": "DropdownModel",
      "state": {
       "_options_labels": [
        "semi color wheel",
        "full color wheel",
        "none"
       ],
       "description": "Plot colormap",
       "index": 0,
       "layout": "IPY_MODEL_f1871588a1dd465fb915ce64b763c372",
       "style": "IPY_MODEL_eb6b07f1f86c447eb1d9900c451a5305"
      }
     },
     "29a41919a1414d189c3f010c3b94fc60": {
      "model_module": "@jupyter-widgets/base",
      "model_module_version": "1.2.0",
      "model_name": "LayoutModel",
      "state": {}
     },
     "2a1f1dffa5d54c12aa5ce344cef831d2": {
      "model_module": "@jupyter-widgets/controls",
      "model_module_version": "1.5.0",
      "model_name": "HBoxModel",
      "state": {
       "children": [
        "IPY_MODEL_53fc2641521b40ce97f70a3dc6b9973b",
        "IPY_MODEL_17fbb8b2c3e344ee894da3ffc5b8bf85",
        "IPY_MODEL_d09365dd5ac04918935da5f404c61b98"
       ],
       "layout": "IPY_MODEL_567b5f3a438946e3a5bbbe6238455a2c"
      }
     },
     "2de08cbcc3824d429d9f47973fa56c64": {
      "model_module": "@jupyter-widgets/controls",
      "model_module_version": "1.5.0",
      "model_name": "SliderStyleModel",
      "state": {
       "description_width": ""
      }
     },
     "2e23601092b345c18d60aef64e4ccf5c": {
      "model_module": "@jupyter-widgets/base",
      "model_module_version": "1.2.0",
      "model_name": "LayoutModel",
      "state": {}
     },
     "32068538606848f3ba0872dd57d37dc1": {
      "model_module": "@jupyter-widgets/base",
      "model_module_version": "1.2.0",
      "model_name": "LayoutModel",
      "state": {}
     },
     "342331443f5c4bbfb7d7ad31046ecc57": {
      "model_module": "@jupyter-widgets/controls",
      "model_module_version": "1.5.0",
      "model_name": "HBoxModel",
      "state": {
       "children": [
        "IPY_MODEL_e7110a6bbba14c86ae1b0fec6311b596",
        "IPY_MODEL_59e86c98e9e44e54aceb6db89ab7dd9e",
        "IPY_MODEL_9613c905bf1c47218321cafc4b2d3493"
       ],
       "layout": "IPY_MODEL_f34f3c7806214b64a6c2454dd84a9411"
      }
     },
     "342ecb14e4bd4616a101bec5519ded87": {
      "model_module": "@jupyter-widgets/controls",
      "model_module_version": "1.5.0",
      "model_name": "DescriptionStyleModel",
      "state": {
       "description_width": ""
      }
     },
     "3603eade52824082a1b319a29eb7f9e4": {
      "model_module": "@jupyter-widgets/output",
      "model_module_version": "1.0.0",
      "model_name": "OutputModel",
      "state": {
       "layout": "IPY_MODEL_be0135acb8cb4ee3acc201490d50013d"
      }
     },
     "395fe6dc4a6f4e3da5717be5d366040f": {
      "model_module": "@jupyter-widgets/controls",
      "model_module_version": "1.5.0",
      "model_name": "SliderStyleModel",
      "state": {
       "description_width": ""
      }
     },
     "3979d8ae08c4493685a8885b29dfa820": {
      "model_module": "@jupyter-widgets/controls",
      "model_module_version": "1.5.0",
      "model_name": "FloatSliderModel",
      "state": {
       "continuous_update": false,
       "description": "Quatlity filter:",
       "layout": "IPY_MODEL_d9c616b19c944dceb54a01f449d4c4f0",
       "readout_format": ".1f",
       "style": "IPY_MODEL_f9086bfda5b84c92a85feccb4c68e0ed",
       "value": 60
      }
     },
     "399e6aab6dc343e29a49918a2b7c2440": {
      "model_module": "@jupyter-widgets/controls",
      "model_module_version": "1.5.0",
      "model_name": "SliderStyleModel",
      "state": {
       "description_width": ""
      }
     },
     "39cbee43272549f0af476f2ad491ee71": {
      "model_module": "@jupyter-widgets/base",
      "model_module_version": "1.2.0",
      "model_name": "LayoutModel",
      "state": {}
     },
     "3a599a9abe5142cb99605dc0adfa237d": {
      "model_module": "@jupyter-widgets/controls",
      "model_module_version": "1.5.0",
      "model_name": "ButtonModel",
      "state": {
       "description": "Export AITA",
       "layout": "IPY_MODEL_6132f306c4194c93a6668a5d28a87c28",
       "style": "IPY_MODEL_f54bad2c728f4f0db293406782075a1c"
      }
     },
     "3f019d87b28e480091dcf36db3c694ca": {
      "model_module": "@jupyter-widgets/base",
      "model_module_version": "1.2.0",
      "model_name": "LayoutModel",
      "state": {}
     },
     "3fad066869fd4eb5bb4d8fd005e96e88": {
      "model_module": "@jupyter-widgets/controls",
      "model_module_version": "1.5.0",
      "model_name": "HBoxModel",
      "state": {
       "children": [
        "IPY_MODEL_90c6e5aa830843b482f093c27b1d54e8",
        "IPY_MODEL_c9ae72e06fb74ca0bf603aa5ba03a413",
        "IPY_MODEL_54b0f10d2d6b4ca7bafc82a173828651"
       ],
       "layout": "IPY_MODEL_780f39d0399047c08848399e765ea2c7"
      }
     },
     "3fe97218ca2845a596004f5144f5267e": {
      "model_module": "@jupyter-widgets/controls",
      "model_module_version": "1.5.0",
      "model_name": "HBoxModel",
      "state": {
       "children": [
        "IPY_MODEL_7fc4272d19384b04996eba0b724a8bad",
        "IPY_MODEL_49df985ac1ab4844a649efa2dc47a27d"
       ],
       "layout": "IPY_MODEL_5bd02ac7a85444f992fda46e3189273b"
      }
     },
     "4059f3bf54e24be4854f4e0a406c8f03": {
      "model_module": "@jupyter-widgets/base",
      "model_module_version": "1.2.0",
      "model_name": "LayoutModel",
      "state": {}
     },
     "450478b367df4c6a9959bc478af31810": {
      "model_module": "@jupyter-widgets/controls",
      "model_module_version": "1.5.0",
      "model_name": "DropdownModel",
      "state": {
       "_options_labels": [
        "semi color wheel",
        "full color wheel",
        "none"
       ],
       "description": "Plot colormap",
       "index": 0,
       "layout": "IPY_MODEL_d8c861bfdc734102b487f00e6a7e4d14",
       "style": "IPY_MODEL_bd739a624a404b8281a99d812f529a74"
      }
     },
     "4884402714c24aa8b5c4bd8e649af685": {
      "model_module": "@jupyter-widgets/base",
      "model_module_version": "1.2.0",
      "model_name": "LayoutModel",
      "state": {}
     },
     "49df985ac1ab4844a649efa2dc47a27d": {
      "model_module": "@jupyter-widgets/controls",
      "model_module_version": "1.5.0",
      "model_name": "CheckboxModel",
      "state": {
       "description": "Use Quality filter",
       "disabled": false,
       "layout": "IPY_MODEL_96a0036511134e369bb12783903f8271",
       "style": "IPY_MODEL_a0ca6c121cf64c268f2979e291a089c8",
       "value": true
      }
     },
     "4a5195df4a194e06b724ddda11b0e95f": {
      "model_module": "@jupyter-widgets/base",
      "model_module_version": "1.2.0",
      "model_name": "LayoutModel",
      "state": {}
     },
     "4a9f4f135c9a4998a830ed01941b0ebd": {
      "model_module": "@jupyter-widgets/controls",
      "model_module_version": "1.5.0",
      "model_name": "DescriptionStyleModel",
      "state": {
       "description_width": ""
      }
     },
     "4cfc660c24a34d2daf11cfea8f443c9b": {
      "model_module": "@jupyter-widgets/controls",
      "model_module_version": "1.5.0",
      "model_name": "DescriptionStyleModel",
      "state": {
       "description_width": ""
      }
     },
     "4d2b9cba5bda414ea3e141c136db7e09": {
      "model_module": "@jupyter-widgets/base",
      "model_module_version": "1.2.0",
      "model_name": "LayoutModel",
      "state": {}
     },
     "524a1dabad374751a46c00e8d000b3fe": {
      "model_module": "@jupyter-widgets/base",
      "model_module_version": "1.2.0",
      "model_name": "LayoutModel",
      "state": {}
     },
     "52f59f629e3144f0afc57413655b64d9": {
      "model_module": "@jupyter-widgets/controls",
      "model_module_version": "1.5.0",
      "model_name": "IntSliderModel",
      "state": {
       "continuous_update": false,
       "description": "Dilate GB:",
       "layout": "IPY_MODEL_8b5bd98a8f0d4bb489e190c161da2d8e",
       "max": 10,
       "style": "IPY_MODEL_f3b83aa12f9e4654a6c0c316eb72fbc3",
       "value": 2
      }
     },
     "53fc2641521b40ce97f70a3dc6b9973b": {
      "model_module": "@jupyter-widgets/controls",
      "model_module_version": "1.5.0",
      "model_name": "FloatSliderModel",
      "state": {
       "continuous_update": false,
       "description": "Canny filter:",
       "layout": "IPY_MODEL_bc5c812dfe48497e92e62bb52e45bab4",
       "max": 10,
       "readout_format": ".1f",
       "step": 0.1,
       "style": "IPY_MODEL_c0316ea69eae4b7aae3c4e72a647247c",
       "value": 1.5
      }
     },
     "54b0f10d2d6b4ca7bafc82a173828651": {
      "model_module": "@jupyter-widgets/controls",
      "model_module_version": "1.5.0",
      "model_name": "DropdownModel",
      "state": {
       "_options_labels": [
        "semi color wheel",
        "full color wheel",
        "both color wheel"
       ],
       "description": "Segmentation colormap",
       "index": 2,
       "layout": "IPY_MODEL_3f019d87b28e480091dcf36db3c694ca",
       "style": "IPY_MODEL_ea31014f4aec4bbdaa2f70ef92a98888"
      }
     },
     "5561240903aa4835ab3ee1a0eed31d61": {
      "model_module": "@jupyter-widgets/controls",
      "model_module_version": "1.5.0",
      "model_name": "SliderStyleModel",
      "state": {
       "description_width": ""
      }
     },
     "567b5f3a438946e3a5bbbe6238455a2c": {
      "model_module": "@jupyter-widgets/base",
      "model_module_version": "1.2.0",
      "model_name": "LayoutModel",
      "state": {}
     },
     "57152af7e01b486083f5edba4019f5d6": {
      "model_module": "@jupyter-widgets/controls",
      "model_module_version": "1.5.0",
      "model_name": "SliderStyleModel",
      "state": {
       "description_width": ""
      }
     },
     "5718415bef2e461d9a9fb90909bcd271": {
      "model_module": "@jupyter-widgets/controls",
      "model_module_version": "1.5.0",
      "model_name": "DescriptionStyleModel",
      "state": {
       "description_width": ""
      }
     },
     "5756450a195f4d3e8fe7a5d25c390390": {
      "model_module": "@jupyter-widgets/base",
      "model_module_version": "1.2.0",
      "model_name": "LayoutModel",
      "state": {}
     },
     "59131be07d2e48abbc45ed839c6b5ce1": {
      "model_module": "@jupyter-widgets/controls",
      "model_module_version": "1.5.0",
      "model_name": "FloatSliderModel",
      "state": {
       "continuous_update": false,
       "description": "Quatlity filter:",
       "layout": "IPY_MODEL_fc338b2dcb254aa28c77b71e0e686771",
       "readout_format": ".1f",
       "style": "IPY_MODEL_b897a8f5a1cf4ec0a8f5e1fc2859c8f5",
       "value": 60
      }
     },
     "59e86c98e9e44e54aceb6db89ab7dd9e": {
      "model_module": "@jupyter-widgets/controls",
      "model_module_version": "1.5.0",
      "model_name": "CheckboxModel",
      "state": {
       "description": "Use canny filter",
       "disabled": false,
       "layout": "IPY_MODEL_5c79967b29824f23b814ef8b65121618",
       "style": "IPY_MODEL_cd74c2546f4d44c2af4f36433d8bffa9",
       "value": true
      }
     },
     "5bd02ac7a85444f992fda46e3189273b": {
      "model_module": "@jupyter-widgets/base",
      "model_module_version": "1.2.0",
      "model_name": "LayoutModel",
      "state": {}
     },
     "5c79967b29824f23b814ef8b65121618": {
      "model_module": "@jupyter-widgets/base",
      "model_module_version": "1.2.0",
      "model_name": "LayoutModel",
      "state": {}
     },
     "5e68de15d4b9438bbac544b529c9da22": {
      "model_module": "@jupyter-widgets/controls",
      "model_module_version": "1.5.0",
      "model_name": "HBoxModel",
      "state": {
       "children": [
        "IPY_MODEL_59131be07d2e48abbc45ed839c6b5ce1",
        "IPY_MODEL_2108d749500545e18d13ce72fa1401cb"
       ],
       "layout": "IPY_MODEL_cdec034bbd4345528ac1e9a5cacdc562"
      }
     },
     "5fcd14b7fd674a10965c3ef622284c3e": {
      "model_module": "@jupyter-widgets/base",
      "model_module_version": "1.2.0",
      "model_name": "LayoutModel",
      "state": {}
     },
     "60feaa54d8834cbbb9fdb7ffccff87f1": {
      "model_module": "@jupyter-widgets/controls",
      "model_module_version": "1.5.0",
      "model_name": "FloatSliderModel",
      "state": {
       "continuous_update": false,
       "description": "Scharr filter:",
       "layout": "IPY_MODEL_39cbee43272549f0af476f2ad491ee71",
       "max": 10,
       "readout_format": ".1f",
       "step": 0.1,
       "style": "IPY_MODEL_5561240903aa4835ab3ee1a0eed31d61",
       "value": 1.5
      }
     },
     "6132f306c4194c93a6668a5d28a87c28": {
      "model_module": "@jupyter-widgets/base",
      "model_module_version": "1.2.0",
      "model_name": "LayoutModel",
      "state": {}
     },
     "67eebd84f5b4454cbaa558b65decc7e8": {
      "model_module": "@jupyter-widgets/controls",
      "model_module_version": "1.5.0",
      "model_name": "HBoxModel",
      "state": {
       "children": [
        "IPY_MODEL_3979d8ae08c4493685a8885b29dfa820",
        "IPY_MODEL_de71e6f212844a949f70c713289e4b88"
       ],
       "layout": "IPY_MODEL_f166df4a25eb4cc28b0a99721aa0e39a"
      }
     },
     "68bb9f5408c9482fb7d35e661dfe2ddb": {
      "model_module": "@jupyter-widgets/controls",
      "model_module_version": "1.5.0",
      "model_name": "HBoxModel",
      "state": {
       "children": [
        "IPY_MODEL_823d78ef31494e638828057ee12521a6",
        "IPY_MODEL_ce144a598cd04796aa8111fec0801900"
       ],
       "layout": "IPY_MODEL_b65c9275045244c6ba10e40eb8760d32"
      }
     },
     "6cb8ef4f13d344239b751e5497170bef": {
      "model_module": "@jupyter-widgets/controls",
      "model_module_version": "1.5.0",
      "model_name": "CheckboxModel",
      "state": {
       "description": "Include border as grain boundaries",
       "disabled": false,
       "layout": "IPY_MODEL_cf7e5d3f092d4dcb875ec2d17d0f39b1",
       "style": "IPY_MODEL_8b79dd3157a04e4ba7aabaa437e5c105",
       "value": true
      }
     },
     "764c16ed922d423191df30c28cffc5e8": {
      "model_module": "@jupyter-widgets/controls",
      "model_module_version": "1.5.0",
      "model_name": "VBoxModel",
      "state": {
       "children": [
        "IPY_MODEL_ad2a80c5a48e4df7ab33aa37c6b3503d",
        "IPY_MODEL_2a1f1dffa5d54c12aa5ce344cef831d2",
        "IPY_MODEL_67eebd84f5b4454cbaa558b65decc7e8",
        "IPY_MODEL_abb1c208a2964933a8ca167d3a6b3106",
        "IPY_MODEL_85f916f43d8f425c978cbdb85c4188b9",
        "IPY_MODEL_8c09ddadd02c4a638cbc9f51823e0b59",
        "IPY_MODEL_c3af7a8ed90f4c8c8aeb83dbbbcc70d9"
       ],
       "layout": "IPY_MODEL_5fcd14b7fd674a10965c3ef622284c3e"
      }
     },
     "780f39d0399047c08848399e765ea2c7": {
      "model_module": "@jupyter-widgets/base",
      "model_module_version": "1.2.0",
      "model_name": "LayoutModel",
      "state": {}
     },
     "797045eef9e7437d94a49aab1632fde0": {
      "model_module": "@jupyter-widgets/base",
      "model_module_version": "1.2.0",
      "model_name": "LayoutModel",
      "state": {}
     },
     "7ee7c0ef876b4bb1bd16e2b87435c475": {
      "model_module": "@jupyter-widgets/base",
      "model_module_version": "1.2.0",
      "model_name": "LayoutModel",
      "state": {}
     },
     "7fc4272d19384b04996eba0b724a8bad": {
      "model_module": "@jupyter-widgets/controls",
      "model_module_version": "1.5.0",
      "model_name": "FloatSliderModel",
      "state": {
       "continuous_update": false,
       "description": "Quatlity filter:",
       "layout": "IPY_MODEL_5756450a195f4d3e8fe7a5d25c390390",
       "readout_format": ".1f",
       "style": "IPY_MODEL_395fe6dc4a6f4e3da5717be5d366040f",
       "value": 60
      }
     },
     "804e16254dab4ab08304211ae6add7bd": {
      "model_module": "@jupyter-widgets/base",
      "model_module_version": "1.2.0",
      "model_name": "LayoutModel",
      "state": {}
     },
     "823d78ef31494e638828057ee12521a6": {
      "model_module": "@jupyter-widgets/controls",
      "model_module_version": "1.5.0",
      "model_name": "FloatSliderModel",
      "state": {
       "continuous_update": false,
       "description": "Scharr filter:",
       "layout": "IPY_MODEL_4d2b9cba5bda414ea3e141c136db7e09",
       "max": 10,
       "readout_format": ".1f",
       "step": 0.1,
       "style": "IPY_MODEL_fc78c6c0ecde44f1919cf1c0ce4470ea",
       "value": 1.5
      }
     },
     "83aeea4c71b9488598872fbfaff753ea": {
      "model_module": "jupyter-matplotlib",
      "model_module_version": "^0.8.3",
      "model_name": "ToolbarModel",
      "state": {
       "layout": "IPY_MODEL_32068538606848f3ba0872dd57d37dc1",
       "toolitems": [
        [
         "Home",
         "Reset original view",
         "home",
         "home"
        ],
        [
         "Back",
         "Back to previous view",
         "arrow-left",
         "back"
        ],
        [
         "Forward",
         "Forward to next view",
         "arrow-right",
         "forward"
        ],
        [
         "Pan",
         "Left button pans, Right button zooms\nx/y fixes axis, CTRL fixes aspect",
         "arrows",
         "pan"
        ],
        [
         "Zoom",
         "Zoom to rectangle\nx/y fixes axis, CTRL fixes aspect",
         "square-o",
         "zoom"
        ],
        [
         "Download",
         "Download plot",
         "floppy-o",
         "save_figure"
        ]
       ]
      }
     },
     "84aa8bc30e36427f9f663508d48bbcf5": {
      "model_module": "@jupyter-widgets/controls",
      "model_module_version": "1.5.0",
      "model_name": "FloatSliderModel",
      "state": {
       "continuous_update": false,
       "description": "Scharr filter:",
       "layout": "IPY_MODEL_cc4b31152ccb4d44a9f930964859e1c2",
       "max": 10,
       "readout_format": ".1f",
       "step": 0.1,
       "style": "IPY_MODEL_57152af7e01b486083f5edba4019f5d6",
       "value": 1.5
      }
     },
     "85f916f43d8f425c978cbdb85c4188b9": {
      "model_module": "@jupyter-widgets/controls",
      "model_module_version": "1.5.0",
      "model_name": "IntSliderModel",
      "state": {
       "continuous_update": false,
       "description": "Dilate GB:",
       "layout": "IPY_MODEL_797045eef9e7437d94a49aab1632fde0",
       "max": 10,
       "style": "IPY_MODEL_399e6aab6dc343e29a49918a2b7c2440",
       "value": 2
      }
     },
     "88c06c85195540ff8639f1af0e22fe3e": {
      "model_module": "@jupyter-widgets/controls",
      "model_module_version": "1.5.0",
      "model_name": "DescriptionStyleModel",
      "state": {
       "description_width": ""
      }
     },
     "8b5bd98a8f0d4bb489e190c161da2d8e": {
      "model_module": "@jupyter-widgets/base",
      "model_module_version": "1.2.0",
      "model_name": "LayoutModel",
      "state": {}
     },
     "8b79dd3157a04e4ba7aabaa437e5c105": {
      "model_module": "@jupyter-widgets/controls",
      "model_module_version": "1.5.0",
      "model_name": "DescriptionStyleModel",
      "state": {
       "description_width": ""
      }
     },
     "8c09ddadd02c4a638cbc9f51823e0b59": {
      "model_module": "@jupyter-widgets/controls",
      "model_module_version": "1.5.0",
      "model_name": "DropdownModel",
      "state": {
       "_options_labels": [
        "semi color wheel",
        "full color wheel",
        "none"
       ],
       "description": "Plot colormap",
       "index": 0,
       "layout": "IPY_MODEL_7ee7c0ef876b4bb1bd16e2b87435c475",
       "style": "IPY_MODEL_4a9f4f135c9a4998a830ed01941b0ebd"
      }
     },
     "90540f4b90f4493ea8be7e314a6579b5": {
      "model_module": "@jupyter-widgets/controls",
      "model_module_version": "1.5.0",
      "model_name": "CheckboxModel",
      "state": {
       "description": "Use scharr filter",
       "disabled": false,
       "layout": "IPY_MODEL_a0f5d669fe8844bf87ed307116a40110",
       "style": "IPY_MODEL_342ecb14e4bd4616a101bec5519ded87",
       "value": true
      }
     },
     "908ae9117bc2476893007592cc203139": {
      "model_module": "@jupyter-widgets/base",
      "model_module_version": "1.2.0",
      "model_name": "LayoutModel",
      "state": {}
     },
     "90c6e5aa830843b482f093c27b1d54e8": {
      "model_module": "@jupyter-widgets/controls",
      "model_module_version": "1.5.0",
      "model_name": "FloatSliderModel",
      "state": {
       "continuous_update": false,
       "description": "Canny filter:",
       "layout": "IPY_MODEL_e4329e6a4e954c6b9e0ee5c455ed78cb",
       "max": 10,
       "readout_format": ".1f",
       "step": 0.1,
       "style": "IPY_MODEL_044f2b9dbe384ab1b3d3fc91753470fe",
       "value": 1.5
      }
     },
     "94c0b7c4847f4904babe031316ea0aeb": {
      "model_module": "jupyter-matplotlib",
      "model_module_version": "^0.8.3",
      "model_name": "ToolbarModel",
      "state": {
       "layout": "IPY_MODEL_d6ac11b3624f4701a3a339f3622fe5b7",
       "toolitems": [
        [
         "Home",
         "Reset original view",
         "home",
         "home"
        ],
        [
         "Back",
         "Back to previous view",
         "arrow-left",
         "back"
        ],
        [
         "Forward",
         "Forward to next view",
         "arrow-right",
         "forward"
        ],
        [
         "Pan",
         "Left button pans, Right button zooms\nx/y fixes axis, CTRL fixes aspect",
         "arrows",
         "pan"
        ],
        [
         "Zoom",
         "Zoom to rectangle\nx/y fixes axis, CTRL fixes aspect",
         "square-o",
         "zoom"
        ],
        [
         "Download",
         "Download plot",
         "floppy-o",
         "save_figure"
        ]
       ]
      }
     },
     "94d57b34ec8c464a88259ee4b07473bd": {
      "model_module": "@jupyter-widgets/controls",
      "model_module_version": "1.5.0",
      "model_name": "DescriptionStyleModel",
      "state": {
       "description_width": ""
      }
     },
     "94fa00bbba6746e9bafad220e44b31b2": {
      "model_module": "@jupyter-widgets/controls",
      "model_module_version": "1.5.0",
      "model_name": "ButtonStyleModel",
      "state": {}
     },
     "9613c905bf1c47218321cafc4b2d3493": {
      "model_module": "@jupyter-widgets/controls",
      "model_module_version": "1.5.0",
      "model_name": "DropdownModel",
      "state": {
       "_options_labels": [
        "semi color wheel",
        "full color wheel",
        "both color wheel"
       ],
       "description": "Segmentation colormap",
       "index": 2,
       "layout": "IPY_MODEL_966503c15a524a56ba932c3a80bbdbe7",
       "style": "IPY_MODEL_f51ce80769124a4bb3902e06de7258cc"
      }
     },
     "966503c15a524a56ba932c3a80bbdbe7": {
      "model_module": "@jupyter-widgets/base",
      "model_module_version": "1.2.0",
      "model_name": "LayoutModel",
      "state": {}
     },
     "96a0036511134e369bb12783903f8271": {
      "model_module": "@jupyter-widgets/base",
      "model_module_version": "1.2.0",
      "model_name": "LayoutModel",
      "state": {}
     },
     "96accc85f0c044eebbfa942e76ec652c": {
      "model_module": "@jupyter-widgets/base",
      "model_module_version": "1.2.0",
      "model_name": "LayoutModel",
      "state": {}
     },
     "9740647a12934ecba361d6d88b099a0c": {
      "model_module": "@jupyter-widgets/controls",
      "model_module_version": "1.5.0",
      "model_name": "DescriptionStyleModel",
      "state": {
       "description_width": ""
      }
     },
     "9b2e082a346641308f9760c6540b8979": {
      "model_module": "@jupyter-widgets/output",
      "model_module_version": "1.0.0",
      "model_name": "OutputModel",
      "state": {
       "layout": "IPY_MODEL_23cbf507c51e4c21ad96a550f1c8f87e"
      }
     },
     "9c0c1805bcb44c8dba175525611e188a": {
      "model_module": "@jupyter-widgets/controls",
      "model_module_version": "1.5.0",
      "model_name": "DescriptionStyleModel",
      "state": {
       "description_width": ""
      }
     },
     "a0ca6c121cf64c268f2979e291a089c8": {
      "model_module": "@jupyter-widgets/controls",
      "model_module_version": "1.5.0",
      "model_name": "DescriptionStyleModel",
      "state": {
       "description_width": ""
      }
     },
     "a0f5d669fe8844bf87ed307116a40110": {
      "model_module": "@jupyter-widgets/base",
      "model_module_version": "1.2.0",
      "model_name": "LayoutModel",
      "state": {}
     },
     "a194c0bd5d764082a975f91b01df98c1": {
      "model_module": "@jupyter-widgets/base",
      "model_module_version": "1.2.0",
      "model_name": "LayoutModel",
      "state": {}
     },
     "a40e7972cf1e4e548052e400d991fa1f": {
      "model_module": "@jupyter-widgets/base",
      "model_module_version": "1.2.0",
      "model_name": "LayoutModel",
      "state": {}
     },
     "a9b7064f9c814d6faa988a049fc052e4": {
      "model_module": "@jupyter-widgets/base",
      "model_module_version": "1.2.0",
      "model_name": "LayoutModel",
      "state": {}
     },
     "abb1c208a2964933a8ca167d3a6b3106": {
      "model_module": "@jupyter-widgets/controls",
      "model_module_version": "1.5.0",
      "model_name": "CheckboxModel",
      "state": {
       "description": "Include border as grain boundaries",
       "disabled": false,
       "layout": "IPY_MODEL_804e16254dab4ab08304211ae6add7bd",
       "style": "IPY_MODEL_2470b994da5a48c6ad7ea18eb8c2f5e7",
       "value": true
      }
     },
     "ad2a80c5a48e4df7ab33aa37c6b3503d": {
      "model_module": "@jupyter-widgets/controls",
      "model_module_version": "1.5.0",
      "model_name": "HBoxModel",
      "state": {
       "children": [
        "IPY_MODEL_84aa8bc30e36427f9f663508d48bbcf5",
        "IPY_MODEL_f4d92719f3524e0b853566b3bb7f0209"
       ],
       "layout": "IPY_MODEL_b7f5c4dc3c7f4e1fa42a91d84951aff7"
      }
     },
     "affe159c80c449169031e401641a42de": {
      "model_module": "@jupyter-widgets/base",
      "model_module_version": "1.2.0",
      "model_name": "LayoutModel",
      "state": {}
     },
     "b3562a006abf4acda5e2055cc7ef3412": {
      "model_module": "@jupyter-widgets/base",
      "model_module_version": "1.2.0",
      "model_name": "LayoutModel",
      "state": {}
     },
     "b65c9275045244c6ba10e40eb8760d32": {
      "model_module": "@jupyter-widgets/base",
      "model_module_version": "1.2.0",
      "model_name": "LayoutModel",
      "state": {}
     },
     "b7f5c4dc3c7f4e1fa42a91d84951aff7": {
      "model_module": "@jupyter-widgets/base",
      "model_module_version": "1.2.0",
      "model_name": "LayoutModel",
      "state": {}
     },
     "b897a8f5a1cf4ec0a8f5e1fc2859c8f5": {
      "model_module": "@jupyter-widgets/controls",
      "model_module_version": "1.5.0",
      "model_name": "SliderStyleModel",
      "state": {
       "description_width": ""
      }
     },
     "b97d38a85a914c2390ef31f0e176997e": {
      "model_module": "jupyter-matplotlib",
      "model_module_version": "^0.8.3",
      "model_name": "ToolbarModel",
      "state": {
       "layout": "IPY_MODEL_29a41919a1414d189c3f010c3b94fc60",
       "toolitems": [
        [
         "Home",
         "Reset original view",
         "home",
         "home"
        ],
        [
         "Back",
         "Back to previous view",
         "arrow-left",
         "back"
        ],
        [
         "Forward",
         "Forward to next view",
         "arrow-right",
         "forward"
        ],
        [
         "Pan",
         "Left button pans, Right button zooms\nx/y fixes axis, CTRL fixes aspect",
         "arrows",
         "pan"
        ],
        [
         "Zoom",
         "Zoom to rectangle\nx/y fixes axis, CTRL fixes aspect",
         "square-o",
         "zoom"
        ],
        [
         "Download",
         "Download plot",
         "floppy-o",
         "save_figure"
        ]
       ]
      }
     },
     "bc5c812dfe48497e92e62bb52e45bab4": {
      "model_module": "@jupyter-widgets/base",
      "model_module_version": "1.2.0",
      "model_name": "LayoutModel",
      "state": {}
     },
     "bd739a624a404b8281a99d812f529a74": {
      "model_module": "@jupyter-widgets/controls",
      "model_module_version": "1.5.0",
      "model_name": "DescriptionStyleModel",
      "state": {
       "description_width": ""
      }
     },
     "be0135acb8cb4ee3acc201490d50013d": {
      "model_module": "@jupyter-widgets/base",
      "model_module_version": "1.2.0",
      "model_name": "LayoutModel",
      "state": {}
     },
     "bf36bc1054d645adb4094ef9bfc8a1af": {
      "model_module": "@jupyter-widgets/controls",
      "model_module_version": "1.5.0",
      "model_name": "VBoxModel",
      "state": {
       "children": [
        "IPY_MODEL_68bb9f5408c9482fb7d35e661dfe2ddb",
        "IPY_MODEL_3fad066869fd4eb5bb4d8fd005e96e88",
        "IPY_MODEL_3fe97218ca2845a596004f5144f5267e",
        "IPY_MODEL_e3ab2118a3a14b93901ac44bdf4a1b42",
        "IPY_MODEL_52f59f629e3144f0afc57413655b64d9",
        "IPY_MODEL_253df11ce5c8428e9a4c3fcfbdeae283",
        "IPY_MODEL_3a599a9abe5142cb99605dc0adfa237d"
       ],
       "layout": "IPY_MODEL_1a04ef379b5245a0abb926e6ec389d4e"
      }
     },
     "c0316ea69eae4b7aae3c4e72a647247c": {
      "model_module": "@jupyter-widgets/controls",
      "model_module_version": "1.5.0",
      "model_name": "SliderStyleModel",
      "state": {
       "description_width": ""
      }
     },
     "c3af7a8ed90f4c8c8aeb83dbbbcc70d9": {
      "model_module": "@jupyter-widgets/controls",
      "model_module_version": "1.5.0",
      "model_name": "ButtonModel",
      "state": {
       "description": "Export AITA",
       "layout": "IPY_MODEL_96accc85f0c044eebbfa942e76ec652c",
       "style": "IPY_MODEL_94fa00bbba6746e9bafad220e44b31b2"
      }
     },
     "c4d3fdf3b90a403abd2474addbb48e01": {
      "model_module": "@jupyter-widgets/controls",
      "model_module_version": "1.5.0",
      "model_name": "ButtonStyleModel",
      "state": {}
     },
     "c9ae72e06fb74ca0bf603aa5ba03a413": {
      "model_module": "@jupyter-widgets/controls",
      "model_module_version": "1.5.0",
      "model_name": "CheckboxModel",
      "state": {
       "description": "Use canny filter",
       "disabled": false,
       "layout": "IPY_MODEL_f2f2c9c5e19946a3bcb99162d0a38b92",
       "style": "IPY_MODEL_100158351e3747a188a9e9a817b63b19",
       "value": true
      }
     },
     "cc4b31152ccb4d44a9f930964859e1c2": {
      "model_module": "@jupyter-widgets/base",
      "model_module_version": "1.2.0",
      "model_name": "LayoutModel",
      "state": {}
     },
     "cd74c2546f4d44c2af4f36433d8bffa9": {
      "model_module": "@jupyter-widgets/controls",
      "model_module_version": "1.5.0",
      "model_name": "DescriptionStyleModel",
      "state": {
       "description_width": ""
      }
     },
     "cdec034bbd4345528ac1e9a5cacdc562": {
      "model_module": "@jupyter-widgets/base",
      "model_module_version": "1.2.0",
      "model_name": "LayoutModel",
      "state": {}
     },
     "ce144a598cd04796aa8111fec0801900": {
      "model_module": "@jupyter-widgets/controls",
      "model_module_version": "1.5.0",
      "model_name": "CheckboxModel",
      "state": {
       "description": "Use scharr filter",
       "disabled": false,
       "layout": "IPY_MODEL_21737e624d424a658910a5aa17848853",
       "style": "IPY_MODEL_22f4f00ab2fa473d927cb9c10bb3d59e",
       "value": true
      }
     },
     "cf7e5d3f092d4dcb875ec2d17d0f39b1": {
      "model_module": "@jupyter-widgets/base",
      "model_module_version": "1.2.0",
      "model_name": "LayoutModel",
      "state": {}
     },
     "d09365dd5ac04918935da5f404c61b98": {
      "model_module": "@jupyter-widgets/controls",
      "model_module_version": "1.5.0",
      "model_name": "DropdownModel",
      "state": {
       "_options_labels": [
        "semi color wheel",
        "full color wheel",
        "both color wheel"
       ],
       "description": "Segmentation colormap",
       "index": 2,
       "layout": "IPY_MODEL_4059f3bf54e24be4854f4e0a406c8f03",
       "style": "IPY_MODEL_5718415bef2e461d9a9fb90909bcd271"
      }
     },
     "d1b4365cc0a846bfa4a5202ea94d826b": {
      "model_module": "@jupyter-widgets/base",
      "model_module_version": "1.2.0",
      "model_name": "LayoutModel",
      "state": {}
     },
     "d3254faba2124958aff56c432f586e20": {
      "model_module": "jupyter-matplotlib",
      "model_module_version": "^0.8.3",
      "model_name": "ToolbarModel",
      "state": {
       "layout": "IPY_MODEL_524a1dabad374751a46c00e8d000b3fe",
       "toolitems": [
        [
         "Home",
         "Reset original view",
         "home",
         "home"
        ],
        [
         "Back",
         "Back to previous view",
         "arrow-left",
         "back"
        ],
        [
         "Forward",
         "Forward to next view",
         "arrow-right",
         "forward"
        ],
        [
         "Pan",
         "Left button pans, Right button zooms\nx/y fixes axis, CTRL fixes aspect",
         "arrows",
         "pan"
        ],
        [
         "Zoom",
         "Zoom to rectangle\nx/y fixes axis, CTRL fixes aspect",
         "square-o",
         "zoom"
        ],
        [
         "Download",
         "Download plot",
         "floppy-o",
         "save_figure"
        ]
       ]
      }
     },
     "d39faef16f194bb9b4474516f8c84566": {
      "model_module": "@jupyter-widgets/controls",
      "model_module_version": "1.5.0",
      "model_name": "ButtonModel",
      "state": {
       "description": "Export AITA",
       "layout": "IPY_MODEL_2e23601092b345c18d60aef64e4ccf5c",
       "style": "IPY_MODEL_c4d3fdf3b90a403abd2474addbb48e01"
      }
     },
     "d6ac11b3624f4701a3a339f3622fe5b7": {
      "model_module": "@jupyter-widgets/base",
      "model_module_version": "1.2.0",
      "model_name": "LayoutModel",
      "state": {}
     },
     "d8c861bfdc734102b487f00e6a7e4d14": {
      "model_module": "@jupyter-widgets/base",
      "model_module_version": "1.2.0",
      "model_name": "LayoutModel",
      "state": {}
     },
     "d9c616b19c944dceb54a01f449d4c4f0": {
      "model_module": "@jupyter-widgets/base",
      "model_module_version": "1.2.0",
      "model_name": "LayoutModel",
      "state": {}
     },
     "db1198394d25439991f92e145a31661e": {
      "model_module": "@jupyter-widgets/controls",
      "model_module_version": "1.5.0",
      "model_name": "HBoxModel",
      "state": {
       "children": [
        "IPY_MODEL_60feaa54d8834cbbb9fdb7ffccff87f1",
        "IPY_MODEL_90540f4b90f4493ea8be7e314a6579b5"
       ],
       "layout": "IPY_MODEL_01036113920841298749877ec6f08264"
      }
     },
     "ddd69c1f62fd48b5b9f3e2f23a318c59": {
      "model_module": "@jupyter-widgets/base",
      "model_module_version": "1.2.0",
      "model_name": "LayoutModel",
      "state": {}
     },
     "de71e6f212844a949f70c713289e4b88": {
      "model_module": "@jupyter-widgets/controls",
      "model_module_version": "1.5.0",
      "model_name": "CheckboxModel",
      "state": {
       "description": "Use Quality filter",
       "disabled": false,
       "layout": "IPY_MODEL_dfe32ec49790432f8850d9a91c6b91a5",
       "style": "IPY_MODEL_9740647a12934ecba361d6d88b099a0c",
       "value": true
      }
     },
     "dfe32ec49790432f8850d9a91c6b91a5": {
      "model_module": "@jupyter-widgets/base",
      "model_module_version": "1.2.0",
      "model_name": "LayoutModel",
      "state": {}
     },
     "e06bed418ffb497a80813bcbf8eb3373": {
      "model_module": "@jupyter-widgets/controls",
      "model_module_version": "1.5.0",
      "model_name": "VBoxModel",
      "state": {
       "children": [
        "IPY_MODEL_db1198394d25439991f92e145a31661e",
        "IPY_MODEL_342331443f5c4bbfb7d7ad31046ecc57",
        "IPY_MODEL_5e68de15d4b9438bbac544b529c9da22",
        "IPY_MODEL_6cb8ef4f13d344239b751e5497170bef",
        "IPY_MODEL_21bd1c67946c469ab1af07a3d8bb5fcc",
        "IPY_MODEL_450478b367df4c6a9959bc478af31810",
        "IPY_MODEL_d39faef16f194bb9b4474516f8c84566"
       ],
       "layout": "IPY_MODEL_d1b4365cc0a846bfa4a5202ea94d826b"
      }
     },
     "e0c3f051e85a4646a346cf819d4429c4": {
      "model_module": "@jupyter-widgets/output",
      "model_module_version": "1.0.0",
      "model_name": "OutputModel",
      "state": {
       "layout": "IPY_MODEL_e5a8b3a6c45e4dcd92b0d2f51f5bbbaf"
      }
     },
     "e3ab2118a3a14b93901ac44bdf4a1b42": {
      "model_module": "@jupyter-widgets/controls",
      "model_module_version": "1.5.0",
      "model_name": "CheckboxModel",
      "state": {
       "description": "Include border as grain boundaries",
       "disabled": false,
       "layout": "IPY_MODEL_eb980b61d3ed48b296743151a11b3be8",
       "style": "IPY_MODEL_94d57b34ec8c464a88259ee4b07473bd",
       "value": true
      }
     },
     "e4329e6a4e954c6b9e0ee5c455ed78cb": {
      "model_module": "@jupyter-widgets/base",
      "model_module_version": "1.2.0",
      "model_name": "LayoutModel",
      "state": {}
     },
     "e5a8b3a6c45e4dcd92b0d2f51f5bbbaf": {
      "model_module": "@jupyter-widgets/base",
      "model_module_version": "1.2.0",
      "model_name": "LayoutModel",
      "state": {}
     },
     "e7110a6bbba14c86ae1b0fec6311b596": {
      "model_module": "@jupyter-widgets/controls",
      "model_module_version": "1.5.0",
      "model_name": "FloatSliderModel",
      "state": {
       "continuous_update": false,
       "description": "Canny filter:",
       "layout": "IPY_MODEL_a9b7064f9c814d6faa988a049fc052e4",
       "max": 10,
       "readout_format": ".1f",
       "step": 0.1,
       "style": "IPY_MODEL_2de08cbcc3824d429d9f47973fa56c64",
       "value": 1.5
      }
     },
     "ea31014f4aec4bbdaa2f70ef92a98888": {
      "model_module": "@jupyter-widgets/controls",
      "model_module_version": "1.5.0",
      "model_name": "DescriptionStyleModel",
      "state": {
       "description_width": ""
      }
     },
     "eb6b07f1f86c447eb1d9900c451a5305": {
      "model_module": "@jupyter-widgets/controls",
      "model_module_version": "1.5.0",
      "model_name": "DescriptionStyleModel",
      "state": {
       "description_width": ""
      }
     },
     "eb980b61d3ed48b296743151a11b3be8": {
      "model_module": "@jupyter-widgets/base",
      "model_module_version": "1.2.0",
      "model_name": "LayoutModel",
      "state": {}
     },
     "f0f035fc529042418803e92ac3b8221c": {
      "model_module": "@jupyter-widgets/base",
      "model_module_version": "1.2.0",
      "model_name": "LayoutModel",
      "state": {}
     },
     "f166df4a25eb4cc28b0a99721aa0e39a": {
      "model_module": "@jupyter-widgets/base",
      "model_module_version": "1.2.0",
      "model_name": "LayoutModel",
      "state": {}
     },
     "f1871588a1dd465fb915ce64b763c372": {
      "model_module": "@jupyter-widgets/base",
      "model_module_version": "1.2.0",
      "model_name": "LayoutModel",
      "state": {}
     },
     "f2f2c9c5e19946a3bcb99162d0a38b92": {
      "model_module": "@jupyter-widgets/base",
      "model_module_version": "1.2.0",
      "model_name": "LayoutModel",
      "state": {}
     },
     "f34f3c7806214b64a6c2454dd84a9411": {
      "model_module": "@jupyter-widgets/base",
      "model_module_version": "1.2.0",
      "model_name": "LayoutModel",
      "state": {}
     },
     "f3b83aa12f9e4654a6c0c316eb72fbc3": {
      "model_module": "@jupyter-widgets/controls",
      "model_module_version": "1.5.0",
      "model_name": "SliderStyleModel",
      "state": {
       "description_width": ""
      }
     },
     "f4d92719f3524e0b853566b3bb7f0209": {
      "model_module": "@jupyter-widgets/controls",
      "model_module_version": "1.5.0",
      "model_name": "CheckboxModel",
      "state": {
       "description": "Use scharr filter",
       "disabled": false,
       "layout": "IPY_MODEL_4a5195df4a194e06b724ddda11b0e95f",
       "style": "IPY_MODEL_9c0c1805bcb44c8dba175525611e188a",
       "value": true
      }
     },
     "f51ce80769124a4bb3902e06de7258cc": {
      "model_module": "@jupyter-widgets/controls",
      "model_module_version": "1.5.0",
      "model_name": "DescriptionStyleModel",
      "state": {
       "description_width": ""
      }
     },
     "f54bad2c728f4f0db293406782075a1c": {
      "model_module": "@jupyter-widgets/controls",
      "model_module_version": "1.5.0",
      "model_name": "ButtonStyleModel",
      "state": {}
     },
     "f9086bfda5b84c92a85feccb4c68e0ed": {
      "model_module": "@jupyter-widgets/controls",
      "model_module_version": "1.5.0",
      "model_name": "SliderStyleModel",
      "state": {
       "description_width": ""
      }
     },
     "fc241c05707642e7a35f7824981c0399": {
      "model_module": "jupyter-matplotlib",
      "model_module_version": "^0.8.3",
      "model_name": "ToolbarModel",
      "state": {
       "layout": "IPY_MODEL_4884402714c24aa8b5c4bd8e649af685",
       "toolitems": [
        [
         "Home",
         "Reset original view",
         "home",
         "home"
        ],
        [
         "Back",
         "Back to previous view",
         "arrow-left",
         "back"
        ],
        [
         "Forward",
         "Forward to next view",
         "arrow-right",
         "forward"
        ],
        [
         "Pan",
         "Left button pans, Right button zooms\nx/y fixes axis, CTRL fixes aspect",
         "arrows",
         "pan"
        ],
        [
         "Zoom",
         "Zoom to rectangle\nx/y fixes axis, CTRL fixes aspect",
         "square-o",
         "zoom"
        ],
        [
         "Download",
         "Download plot",
         "floppy-o",
         "save_figure"
        ]
       ]
      }
     },
     "fc338b2dcb254aa28c77b71e0e686771": {
      "model_module": "@jupyter-widgets/base",
      "model_module_version": "1.2.0",
      "model_name": "LayoutModel",
      "state": {}
     },
     "fc78c6c0ecde44f1919cf1c0ce4470ea": {
      "model_module": "@jupyter-widgets/controls",
      "model_module_version": "1.5.0",
      "model_name": "SliderStyleModel",
      "state": {
       "description_width": ""
      }
     },
     "fd6d4be6c4ed4c33b774a248be71258a": {
      "model_module": "@jupyter-widgets/base",
      "model_module_version": "1.2.0",
      "model_name": "LayoutModel",
      "state": {}
     }
    },
    "version_major": 2,
    "version_minor": 0
   }
  }
 },
 "nbformat": 4,
 "nbformat_minor": 5
}
