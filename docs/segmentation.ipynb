{
 "cells": [
  {
   "cell_type": "markdown",
   "id": "guilty-label",
   "metadata": {},
   "source": [
    "# Performed segmentation\n",
    "\n",
    "```{warning}\n",
    "This notebook shows how to use a function that is poorly written and not optimized. The results from this function are also to be taken carefully.\n",
    "```\n",
    "\n",
    "This notebook show how to segment you data to find grain boundaries."
   ]
  },
  {
   "cell_type": "code",
   "execution_count": 1,
   "id": "common-administration",
   "metadata": {},
   "outputs": [],
   "source": [
    "import xarrayaita.loadData_aita as lda #here are some function to build xarrayaita structure\n",
    "import xarrayaita.aita as xa\n",
    "import xarrayuvecs.uvecs as xu\n",
    "import xarrayuvecs.lut2d as lut2d\n",
    "\n",
    "import matplotlib.pyplot as plt\n",
    "import matplotlib.cm as cm\n",
    "import numpy as np\n",
    "\n",
    "import datetime\n",
    "from skimage import morphology\n",
    "from tqdm.notebook import tqdm\n",
    "import scipy\n",
    "\n",
    "%matplotlib widget"
   ]
  },
  {
   "cell_type": "markdown",
   "id": "inclusive-deployment",
   "metadata": {},
   "source": [
    "## Load your data"
   ]
  },
  {
   "cell_type": "code",
   "execution_count": 2,
   "id": "specific-lottery",
   "metadata": {
    "tags": []
   },
   "outputs": [],
   "source": [
    "# path to data and microstructure\n",
    "path_data='orientation_test.dat'"
   ]
  },
  {
   "cell_type": "code",
   "execution_count": 3,
   "id": "rubber-storm",
   "metadata": {},
   "outputs": [],
   "source": [
    "data=lda.aita5col(path_data)"
   ]
  },
  {
   "cell_type": "code",
   "execution_count": 4,
   "id": "careful-parent",
   "metadata": {},
   "outputs": [
    {
     "data": {
      "text/html": [
       "<div><svg style=\"position: absolute; width: 0; height: 0; overflow: hidden\">\n",
       "<defs>\n",
       "<symbol id=\"icon-database\" viewBox=\"0 0 32 32\">\n",
       "<path d=\"M16 0c-8.837 0-16 2.239-16 5v4c0 2.761 7.163 5 16 5s16-2.239 16-5v-4c0-2.761-7.163-5-16-5z\"></path>\n",
       "<path d=\"M16 17c-8.837 0-16-2.239-16-5v6c0 2.761 7.163 5 16 5s16-2.239 16-5v-6c0 2.761-7.163 5-16 5z\"></path>\n",
       "<path d=\"M16 26c-8.837 0-16-2.239-16-5v6c0 2.761 7.163 5 16 5s16-2.239 16-5v-6c0 2.761-7.163 5-16 5z\"></path>\n",
       "</symbol>\n",
       "<symbol id=\"icon-file-text2\" viewBox=\"0 0 32 32\">\n",
       "<path d=\"M28.681 7.159c-0.694-0.947-1.662-2.053-2.724-3.116s-2.169-2.030-3.116-2.724c-1.612-1.182-2.393-1.319-2.841-1.319h-15.5c-1.378 0-2.5 1.121-2.5 2.5v27c0 1.378 1.122 2.5 2.5 2.5h23c1.378 0 2.5-1.122 2.5-2.5v-19.5c0-0.448-0.137-1.23-1.319-2.841zM24.543 5.457c0.959 0.959 1.712 1.825 2.268 2.543h-4.811v-4.811c0.718 0.556 1.584 1.309 2.543 2.268zM28 29.5c0 0.271-0.229 0.5-0.5 0.5h-23c-0.271 0-0.5-0.229-0.5-0.5v-27c0-0.271 0.229-0.5 0.5-0.5 0 0 15.499-0 15.5 0v7c0 0.552 0.448 1 1 1h7v19.5z\"></path>\n",
       "<path d=\"M23 26h-14c-0.552 0-1-0.448-1-1s0.448-1 1-1h14c0.552 0 1 0.448 1 1s-0.448 1-1 1z\"></path>\n",
       "<path d=\"M23 22h-14c-0.552 0-1-0.448-1-1s0.448-1 1-1h14c0.552 0 1 0.448 1 1s-0.448 1-1 1z\"></path>\n",
       "<path d=\"M23 18h-14c-0.552 0-1-0.448-1-1s0.448-1 1-1h14c0.552 0 1 0.448 1 1s-0.448 1-1 1z\"></path>\n",
       "</symbol>\n",
       "</defs>\n",
       "</svg>\n",
       "<style>/* CSS stylesheet for displaying xarray objects in jupyterlab.\n",
       " *\n",
       " */\n",
       "\n",
       ":root {\n",
       "  --xr-font-color0: var(--jp-content-font-color0, rgba(0, 0, 0, 1));\n",
       "  --xr-font-color2: var(--jp-content-font-color2, rgba(0, 0, 0, 0.54));\n",
       "  --xr-font-color3: var(--jp-content-font-color3, rgba(0, 0, 0, 0.38));\n",
       "  --xr-border-color: var(--jp-border-color2, #e0e0e0);\n",
       "  --xr-disabled-color: var(--jp-layout-color3, #bdbdbd);\n",
       "  --xr-background-color: var(--jp-layout-color0, white);\n",
       "  --xr-background-color-row-even: var(--jp-layout-color1, white);\n",
       "  --xr-background-color-row-odd: var(--jp-layout-color2, #eeeeee);\n",
       "}\n",
       "\n",
       "html[theme=dark],\n",
       "body.vscode-dark {\n",
       "  --xr-font-color0: rgba(255, 255, 255, 1);\n",
       "  --xr-font-color2: rgba(255, 255, 255, 0.54);\n",
       "  --xr-font-color3: rgba(255, 255, 255, 0.38);\n",
       "  --xr-border-color: #1F1F1F;\n",
       "  --xr-disabled-color: #515151;\n",
       "  --xr-background-color: #111111;\n",
       "  --xr-background-color-row-even: #111111;\n",
       "  --xr-background-color-row-odd: #313131;\n",
       "}\n",
       "\n",
       ".xr-wrap {\n",
       "  display: block;\n",
       "  min-width: 300px;\n",
       "  max-width: 700px;\n",
       "}\n",
       "\n",
       ".xr-text-repr-fallback {\n",
       "  /* fallback to plain text repr when CSS is not injected (untrusted notebook) */\n",
       "  display: none;\n",
       "}\n",
       "\n",
       ".xr-header {\n",
       "  padding-top: 6px;\n",
       "  padding-bottom: 6px;\n",
       "  margin-bottom: 4px;\n",
       "  border-bottom: solid 1px var(--xr-border-color);\n",
       "}\n",
       "\n",
       ".xr-header > div,\n",
       ".xr-header > ul {\n",
       "  display: inline;\n",
       "  margin-top: 0;\n",
       "  margin-bottom: 0;\n",
       "}\n",
       "\n",
       ".xr-obj-type,\n",
       ".xr-array-name {\n",
       "  margin-left: 2px;\n",
       "  margin-right: 10px;\n",
       "}\n",
       "\n",
       ".xr-obj-type {\n",
       "  color: var(--xr-font-color2);\n",
       "}\n",
       "\n",
       ".xr-sections {\n",
       "  padding-left: 0 !important;\n",
       "  display: grid;\n",
       "  grid-template-columns: 150px auto auto 1fr 20px 20px;\n",
       "}\n",
       "\n",
       ".xr-section-item {\n",
       "  display: contents;\n",
       "}\n",
       "\n",
       ".xr-section-item input {\n",
       "  display: none;\n",
       "}\n",
       "\n",
       ".xr-section-item input + label {\n",
       "  color: var(--xr-disabled-color);\n",
       "}\n",
       "\n",
       ".xr-section-item input:enabled + label {\n",
       "  cursor: pointer;\n",
       "  color: var(--xr-font-color2);\n",
       "}\n",
       "\n",
       ".xr-section-item input:enabled + label:hover {\n",
       "  color: var(--xr-font-color0);\n",
       "}\n",
       "\n",
       ".xr-section-summary {\n",
       "  grid-column: 1;\n",
       "  color: var(--xr-font-color2);\n",
       "  font-weight: 500;\n",
       "}\n",
       "\n",
       ".xr-section-summary > span {\n",
       "  display: inline-block;\n",
       "  padding-left: 0.5em;\n",
       "}\n",
       "\n",
       ".xr-section-summary-in:disabled + label {\n",
       "  color: var(--xr-font-color2);\n",
       "}\n",
       "\n",
       ".xr-section-summary-in + label:before {\n",
       "  display: inline-block;\n",
       "  content: '►';\n",
       "  font-size: 11px;\n",
       "  width: 15px;\n",
       "  text-align: center;\n",
       "}\n",
       "\n",
       ".xr-section-summary-in:disabled + label:before {\n",
       "  color: var(--xr-disabled-color);\n",
       "}\n",
       "\n",
       ".xr-section-summary-in:checked + label:before {\n",
       "  content: '▼';\n",
       "}\n",
       "\n",
       ".xr-section-summary-in:checked + label > span {\n",
       "  display: none;\n",
       "}\n",
       "\n",
       ".xr-section-summary,\n",
       ".xr-section-inline-details {\n",
       "  padding-top: 4px;\n",
       "  padding-bottom: 4px;\n",
       "}\n",
       "\n",
       ".xr-section-inline-details {\n",
       "  grid-column: 2 / -1;\n",
       "}\n",
       "\n",
       ".xr-section-details {\n",
       "  display: none;\n",
       "  grid-column: 1 / -1;\n",
       "  margin-bottom: 5px;\n",
       "}\n",
       "\n",
       ".xr-section-summary-in:checked ~ .xr-section-details {\n",
       "  display: contents;\n",
       "}\n",
       "\n",
       ".xr-array-wrap {\n",
       "  grid-column: 1 / -1;\n",
       "  display: grid;\n",
       "  grid-template-columns: 20px auto;\n",
       "}\n",
       "\n",
       ".xr-array-wrap > label {\n",
       "  grid-column: 1;\n",
       "  vertical-align: top;\n",
       "}\n",
       "\n",
       ".xr-preview {\n",
       "  color: var(--xr-font-color3);\n",
       "}\n",
       "\n",
       ".xr-array-preview,\n",
       ".xr-array-data {\n",
       "  padding: 0 5px !important;\n",
       "  grid-column: 2;\n",
       "}\n",
       "\n",
       ".xr-array-data,\n",
       ".xr-array-in:checked ~ .xr-array-preview {\n",
       "  display: none;\n",
       "}\n",
       "\n",
       ".xr-array-in:checked ~ .xr-array-data,\n",
       ".xr-array-preview {\n",
       "  display: inline-block;\n",
       "}\n",
       "\n",
       ".xr-dim-list {\n",
       "  display: inline-block !important;\n",
       "  list-style: none;\n",
       "  padding: 0 !important;\n",
       "  margin: 0;\n",
       "}\n",
       "\n",
       ".xr-dim-list li {\n",
       "  display: inline-block;\n",
       "  padding: 0;\n",
       "  margin: 0;\n",
       "}\n",
       "\n",
       ".xr-dim-list:before {\n",
       "  content: '(';\n",
       "}\n",
       "\n",
       ".xr-dim-list:after {\n",
       "  content: ')';\n",
       "}\n",
       "\n",
       ".xr-dim-list li:not(:last-child):after {\n",
       "  content: ',';\n",
       "  padding-right: 5px;\n",
       "}\n",
       "\n",
       ".xr-has-index {\n",
       "  font-weight: bold;\n",
       "}\n",
       "\n",
       ".xr-var-list,\n",
       ".xr-var-item {\n",
       "  display: contents;\n",
       "}\n",
       "\n",
       ".xr-var-item > div,\n",
       ".xr-var-item label,\n",
       ".xr-var-item > .xr-var-name span {\n",
       "  background-color: var(--xr-background-color-row-even);\n",
       "  margin-bottom: 0;\n",
       "}\n",
       "\n",
       ".xr-var-item > .xr-var-name:hover span {\n",
       "  padding-right: 5px;\n",
       "}\n",
       "\n",
       ".xr-var-list > li:nth-child(odd) > div,\n",
       ".xr-var-list > li:nth-child(odd) > label,\n",
       ".xr-var-list > li:nth-child(odd) > .xr-var-name span {\n",
       "  background-color: var(--xr-background-color-row-odd);\n",
       "}\n",
       "\n",
       ".xr-var-name {\n",
       "  grid-column: 1;\n",
       "}\n",
       "\n",
       ".xr-var-dims {\n",
       "  grid-column: 2;\n",
       "}\n",
       "\n",
       ".xr-var-dtype {\n",
       "  grid-column: 3;\n",
       "  text-align: right;\n",
       "  color: var(--xr-font-color2);\n",
       "}\n",
       "\n",
       ".xr-var-preview {\n",
       "  grid-column: 4;\n",
       "}\n",
       "\n",
       ".xr-var-name,\n",
       ".xr-var-dims,\n",
       ".xr-var-dtype,\n",
       ".xr-preview,\n",
       ".xr-attrs dt {\n",
       "  white-space: nowrap;\n",
       "  overflow: hidden;\n",
       "  text-overflow: ellipsis;\n",
       "  padding-right: 10px;\n",
       "}\n",
       "\n",
       ".xr-var-name:hover,\n",
       ".xr-var-dims:hover,\n",
       ".xr-var-dtype:hover,\n",
       ".xr-attrs dt:hover {\n",
       "  overflow: visible;\n",
       "  width: auto;\n",
       "  z-index: 1;\n",
       "}\n",
       "\n",
       ".xr-var-attrs,\n",
       ".xr-var-data {\n",
       "  display: none;\n",
       "  background-color: var(--xr-background-color) !important;\n",
       "  padding-bottom: 5px !important;\n",
       "}\n",
       "\n",
       ".xr-var-attrs-in:checked ~ .xr-var-attrs,\n",
       ".xr-var-data-in:checked ~ .xr-var-data {\n",
       "  display: block;\n",
       "}\n",
       "\n",
       ".xr-var-data > table {\n",
       "  float: right;\n",
       "}\n",
       "\n",
       ".xr-var-name span,\n",
       ".xr-var-data,\n",
       ".xr-attrs {\n",
       "  padding-left: 25px !important;\n",
       "}\n",
       "\n",
       ".xr-attrs,\n",
       ".xr-var-attrs,\n",
       ".xr-var-data {\n",
       "  grid-column: 1 / -1;\n",
       "}\n",
       "\n",
       "dl.xr-attrs {\n",
       "  padding: 0;\n",
       "  margin: 0;\n",
       "  display: grid;\n",
       "  grid-template-columns: 125px auto;\n",
       "}\n",
       "\n",
       ".xr-attrs dt,\n",
       ".xr-attrs dd {\n",
       "  padding: 0;\n",
       "  margin: 0;\n",
       "  float: left;\n",
       "  padding-right: 10px;\n",
       "  width: auto;\n",
       "}\n",
       "\n",
       ".xr-attrs dt {\n",
       "  font-weight: normal;\n",
       "  grid-column: 1;\n",
       "}\n",
       "\n",
       ".xr-attrs dt:hover span {\n",
       "  display: inline-block;\n",
       "  background: var(--xr-background-color);\n",
       "  padding-right: 10px;\n",
       "}\n",
       "\n",
       ".xr-attrs dd {\n",
       "  grid-column: 2;\n",
       "  white-space: pre-wrap;\n",
       "  word-break: break-all;\n",
       "}\n",
       "\n",
       ".xr-icon-database,\n",
       ".xr-icon-file-text2 {\n",
       "  display: inline-block;\n",
       "  vertical-align: middle;\n",
       "  width: 1em;\n",
       "  height: 1.5em !important;\n",
       "  stroke-width: 0;\n",
       "  stroke: currentColor;\n",
       "  fill: currentColor;\n",
       "}\n",
       "</style><pre class='xr-text-repr-fallback'>&lt;xarray.Dataset&gt;\n",
       "Dimensions:      (uvecs: 2, x: 1000, y: 2500)\n",
       "Coordinates:\n",
       "  * x            (x) float64 0.0 0.02 0.04 0.06 0.08 ... 19.92 19.94 19.96 19.98\n",
       "  * y            (y) float64 49.98 49.96 49.94 49.92 49.9 ... 0.06 0.04 0.02 0.0\n",
       "Dimensions without coordinates: uvecs\n",
       "Data variables:\n",
       "    orientation  (y, x, uvecs) float64 2.395 0.6451 5.377 ... 0.6098 0.6473\n",
       "    quality      (y, x) int64 0 90 92 93 92 92 94 94 ... 96 96 96 96 96 97 97 96\n",
       "    micro        (y, x) float64 0.0 0.0 0.0 0.0 0.0 0.0 ... 0.0 0.0 0.0 0.0 0.0\n",
       "    grainId      (y, x) int64 1 1 1 1 1 1 1 1 1 1 1 1 ... 1 1 1 1 1 1 1 1 1 1 1\n",
       "Attributes:\n",
       "    date:       Thursday, 19 Nov 2015, 11:24 am\n",
       "    unit:       millimeters\n",
       "    step_size:  0.02\n",
       "    path_dat:   orientation_test.dat</pre><div class='xr-wrap' hidden><div class='xr-header'><div class='xr-obj-type'>xarray.Dataset</div></div><ul class='xr-sections'><li class='xr-section-item'><input id='section-f7bafc87-4bcb-476b-a875-4eeeae7b9992' class='xr-section-summary-in' type='checkbox' disabled ><label for='section-f7bafc87-4bcb-476b-a875-4eeeae7b9992' class='xr-section-summary'  title='Expand/collapse section'>Dimensions:</label><div class='xr-section-inline-details'><ul class='xr-dim-list'><li><span>uvecs</span>: 2</li><li><span class='xr-has-index'>x</span>: 1000</li><li><span class='xr-has-index'>y</span>: 2500</li></ul></div><div class='xr-section-details'></div></li><li class='xr-section-item'><input id='section-13268c47-e076-4be5-87e2-8aeffb4a86c8' class='xr-section-summary-in' type='checkbox'  checked><label for='section-13268c47-e076-4be5-87e2-8aeffb4a86c8' class='xr-section-summary' >Coordinates: <span>(2)</span></label><div class='xr-section-inline-details'></div><div class='xr-section-details'><ul class='xr-var-list'><li class='xr-var-item'><div class='xr-var-name'><span class='xr-has-index'>x</span></div><div class='xr-var-dims'>(x)</div><div class='xr-var-dtype'>float64</div><div class='xr-var-preview xr-preview'>0.0 0.02 0.04 ... 19.94 19.96 19.98</div><input id='attrs-3e346cc3-d8d4-4414-b081-69f32bcd9897' class='xr-var-attrs-in' type='checkbox' disabled><label for='attrs-3e346cc3-d8d4-4414-b081-69f32bcd9897' title='Show/Hide attributes'><svg class='icon xr-icon-file-text2'><use xlink:href='#icon-file-text2'></use></svg></label><input id='data-57eb3c0e-57e9-439a-a68f-f34f23341e51' class='xr-var-data-in' type='checkbox'><label for='data-57eb3c0e-57e9-439a-a68f-f34f23341e51' title='Show/Hide data repr'><svg class='icon xr-icon-database'><use xlink:href='#icon-database'></use></svg></label><div class='xr-var-attrs'><dl class='xr-attrs'></dl></div><div class='xr-var-data'><pre>array([ 0.  ,  0.02,  0.04, ..., 19.94, 19.96, 19.98])</pre></div></li><li class='xr-var-item'><div class='xr-var-name'><span class='xr-has-index'>y</span></div><div class='xr-var-dims'>(y)</div><div class='xr-var-dtype'>float64</div><div class='xr-var-preview xr-preview'>49.98 49.96 49.94 ... 0.04 0.02 0.0</div><input id='attrs-65d77c68-17ac-4440-b7e1-f81a420a7c9c' class='xr-var-attrs-in' type='checkbox' disabled><label for='attrs-65d77c68-17ac-4440-b7e1-f81a420a7c9c' title='Show/Hide attributes'><svg class='icon xr-icon-file-text2'><use xlink:href='#icon-file-text2'></use></svg></label><input id='data-9b362119-dce5-4a1c-b92c-831a77f6b384' class='xr-var-data-in' type='checkbox'><label for='data-9b362119-dce5-4a1c-b92c-831a77f6b384' title='Show/Hide data repr'><svg class='icon xr-icon-database'><use xlink:href='#icon-database'></use></svg></label><div class='xr-var-attrs'><dl class='xr-attrs'></dl></div><div class='xr-var-data'><pre>array([4.998e+01, 4.996e+01, 4.994e+01, ..., 4.000e-02, 2.000e-02, 0.000e+00])</pre></div></li></ul></div></li><li class='xr-section-item'><input id='section-95eec4e5-614f-4044-8146-9f49041e60f3' class='xr-section-summary-in' type='checkbox'  checked><label for='section-95eec4e5-614f-4044-8146-9f49041e60f3' class='xr-section-summary' >Data variables: <span>(4)</span></label><div class='xr-section-inline-details'></div><div class='xr-section-details'><ul class='xr-var-list'><li class='xr-var-item'><div class='xr-var-name'><span>orientation</span></div><div class='xr-var-dims'>(y, x, uvecs)</div><div class='xr-var-dtype'>float64</div><div class='xr-var-preview xr-preview'>2.395 0.6451 ... 0.6098 0.6473</div><input id='attrs-c3836497-5bf0-49a3-9d15-d00095021233' class='xr-var-attrs-in' type='checkbox' disabled><label for='attrs-c3836497-5bf0-49a3-9d15-d00095021233' title='Show/Hide attributes'><svg class='icon xr-icon-file-text2'><use xlink:href='#icon-file-text2'></use></svg></label><input id='data-f779025c-a68d-4498-b975-7b21e7d07733' class='xr-var-data-in' type='checkbox'><label for='data-f779025c-a68d-4498-b975-7b21e7d07733' title='Show/Hide data repr'><svg class='icon xr-icon-database'><use xlink:href='#icon-database'></use></svg></label><div class='xr-var-attrs'><dl class='xr-attrs'></dl></div><div class='xr-var-data'><pre>array([[[2.39476627, 0.64507369],\n",
       "        [5.37718489, 1.04999008],\n",
       "        [5.38905313, 1.05627326],\n",
       "        ...,\n",
       "        [2.05826679, 0.49654617],\n",
       "        [5.65731024, 0.94160513],\n",
       "        [5.68523551, 1.03218772]],\n",
       "\n",
       "       [[5.35955707, 1.15837502],\n",
       "        [5.35885894, 1.12975162],\n",
       "        [5.3613024 , 1.11701072],\n",
       "        ...,\n",
       "        [2.07659274, 0.52063172],\n",
       "        [5.64753639, 0.94073247],\n",
       "        [5.67912685, 1.04143796]],\n",
       "\n",
       "       [[5.36304773, 1.23045712],\n",
       "        [5.36165146, 1.23132979],\n",
       "        [2.38656322, 0.57246799],\n",
       "        ...,\n",
       "...\n",
       "        ...,\n",
       "        [0.62378067, 0.625526  ],\n",
       "        [0.61784656, 0.61994095],\n",
       "        [0.61645029, 0.61400683]],\n",
       "\n",
       "       [[0.68085294, 1.12399204],\n",
       "        [0.68050388, 1.12730816],\n",
       "        [0.67840948, 1.13900187],\n",
       "        ...,\n",
       "        [0.64123397, 0.62954026],\n",
       "        [0.62430427, 0.63529985],\n",
       "        [0.61575216, 0.62203535]],\n",
       "\n",
       "       [[0.67701322, 1.13236962],\n",
       "        [0.67753682, 1.13690747],\n",
       "        [0.67840948, 1.13149695],\n",
       "        ...,\n",
       "        [0.63652158, 0.61418136],\n",
       "        [0.61645029, 0.63948864],\n",
       "        [0.60981804, 0.64734262]]])</pre></div></li><li class='xr-var-item'><div class='xr-var-name'><span>quality</span></div><div class='xr-var-dims'>(y, x)</div><div class='xr-var-dtype'>int64</div><div class='xr-var-preview xr-preview'>0 90 92 93 92 92 ... 96 96 97 97 96</div><input id='attrs-92e5f5c6-79dc-496e-babd-b865a6b040f7' class='xr-var-attrs-in' type='checkbox' disabled><label for='attrs-92e5f5c6-79dc-496e-babd-b865a6b040f7' title='Show/Hide attributes'><svg class='icon xr-icon-file-text2'><use xlink:href='#icon-file-text2'></use></svg></label><input id='data-9b21fa3a-ed17-4547-96f7-30c04da640b6' class='xr-var-data-in' type='checkbox'><label for='data-9b21fa3a-ed17-4547-96f7-30c04da640b6' title='Show/Hide data repr'><svg class='icon xr-icon-database'><use xlink:href='#icon-database'></use></svg></label><div class='xr-var-attrs'><dl class='xr-attrs'></dl></div><div class='xr-var-data'><pre>array([[ 0, 90, 92, ...,  0, 85, 90],\n",
       "       [81, 82, 83, ...,  0, 84, 89],\n",
       "       [81, 80,  3, ...,  0, 79, 88],\n",
       "       ...,\n",
       "       [90, 91, 91, ..., 95, 95, 95],\n",
       "       [91, 92, 91, ..., 95, 95, 95],\n",
       "       [92, 92, 91, ..., 97, 97, 96]])</pre></div></li><li class='xr-var-item'><div class='xr-var-name'><span>micro</span></div><div class='xr-var-dims'>(y, x)</div><div class='xr-var-dtype'>float64</div><div class='xr-var-preview xr-preview'>0.0 0.0 0.0 0.0 ... 0.0 0.0 0.0 0.0</div><input id='attrs-be8e67df-4599-4235-b44d-118453a707f9' class='xr-var-attrs-in' type='checkbox' disabled><label for='attrs-be8e67df-4599-4235-b44d-118453a707f9' title='Show/Hide attributes'><svg class='icon xr-icon-file-text2'><use xlink:href='#icon-file-text2'></use></svg></label><input id='data-fd93a16b-87dd-4763-9c51-96d855f4c95d' class='xr-var-data-in' type='checkbox'><label for='data-fd93a16b-87dd-4763-9c51-96d855f4c95d' title='Show/Hide data repr'><svg class='icon xr-icon-database'><use xlink:href='#icon-database'></use></svg></label><div class='xr-var-attrs'><dl class='xr-attrs'></dl></div><div class='xr-var-data'><pre>array([[0., 0., 0., ..., 0., 0., 0.],\n",
       "       [0., 0., 0., ..., 0., 0., 0.],\n",
       "       [0., 0., 0., ..., 0., 0., 0.],\n",
       "       ...,\n",
       "       [0., 0., 0., ..., 0., 0., 0.],\n",
       "       [0., 0., 0., ..., 0., 0., 0.],\n",
       "       [0., 0., 0., ..., 0., 0., 0.]])</pre></div></li><li class='xr-var-item'><div class='xr-var-name'><span>grainId</span></div><div class='xr-var-dims'>(y, x)</div><div class='xr-var-dtype'>int64</div><div class='xr-var-preview xr-preview'>1 1 1 1 1 1 1 1 ... 1 1 1 1 1 1 1 1</div><input id='attrs-44e01fba-972d-41ad-afba-a201ae7fd9df' class='xr-var-attrs-in' type='checkbox' disabled><label for='attrs-44e01fba-972d-41ad-afba-a201ae7fd9df' title='Show/Hide attributes'><svg class='icon xr-icon-file-text2'><use xlink:href='#icon-file-text2'></use></svg></label><input id='data-0632028f-f319-40de-9021-8a44c95e9819' class='xr-var-data-in' type='checkbox'><label for='data-0632028f-f319-40de-9021-8a44c95e9819' title='Show/Hide data repr'><svg class='icon xr-icon-database'><use xlink:href='#icon-database'></use></svg></label><div class='xr-var-attrs'><dl class='xr-attrs'></dl></div><div class='xr-var-data'><pre>array([[1, 1, 1, ..., 1, 1, 1],\n",
       "       [1, 1, 1, ..., 1, 1, 1],\n",
       "       [1, 1, 1, ..., 1, 1, 1],\n",
       "       ...,\n",
       "       [1, 1, 1, ..., 1, 1, 1],\n",
       "       [1, 1, 1, ..., 1, 1, 1],\n",
       "       [1, 1, 1, ..., 1, 1, 1]])</pre></div></li></ul></div></li><li class='xr-section-item'><input id='section-de009fdf-ca10-4c46-b5e7-488616207c6c' class='xr-section-summary-in' type='checkbox'  checked><label for='section-de009fdf-ca10-4c46-b5e7-488616207c6c' class='xr-section-summary' >Attributes: <span>(4)</span></label><div class='xr-section-inline-details'></div><div class='xr-section-details'><dl class='xr-attrs'><dt><span>date :</span></dt><dd>Thursday, 19 Nov 2015, 11:24 am</dd><dt><span>unit :</span></dt><dd>millimeters</dd><dt><span>step_size :</span></dt><dd>0.02</dd><dt><span>path_dat :</span></dt><dd>orientation_test.dat</dd></dl></div></li></ul></div></div>"
      ],
      "text/plain": [
       "<xarray.Dataset>\n",
       "Dimensions:      (uvecs: 2, x: 1000, y: 2500)\n",
       "Coordinates:\n",
       "  * x            (x) float64 0.0 0.02 0.04 0.06 0.08 ... 19.92 19.94 19.96 19.98\n",
       "  * y            (y) float64 49.98 49.96 49.94 49.92 49.9 ... 0.06 0.04 0.02 0.0\n",
       "Dimensions without coordinates: uvecs\n",
       "Data variables:\n",
       "    orientation  (y, x, uvecs) float64 2.395 0.6451 5.377 ... 0.6098 0.6473\n",
       "    quality      (y, x) int64 0 90 92 93 92 92 94 94 ... 96 96 96 96 96 97 97 96\n",
       "    micro        (y, x) float64 0.0 0.0 0.0 0.0 0.0 0.0 ... 0.0 0.0 0.0 0.0 0.0\n",
       "    grainId      (y, x) int64 1 1 1 1 1 1 1 1 1 1 1 1 ... 1 1 1 1 1 1 1 1 1 1 1\n",
       "Attributes:\n",
       "    date:       Thursday, 19 Nov 2015, 11:24 am\n",
       "    unit:       millimeters\n",
       "    step_size:  0.02\n",
       "    path_dat:   orientation_test.dat"
      ]
     },
     "execution_count": 4,
     "metadata": {},
     "output_type": "execute_result"
    }
   ],
   "source": [
    "data"
   ]
  },
  {
   "cell_type": "markdown",
   "id": "lovely-reproduction",
   "metadata": {},
   "source": [
    "## Segment the data"
   ]
  },
  {
   "cell_type": "code",
   "execution_count": 5,
   "id": "traditional-dining",
   "metadata": {},
   "outputs": [
    {
     "data": {
      "application/vnd.jupyter.widget-view+json": {
       "model_id": "da99ca25a07440e2b533e7070a157694",
       "version_major": 2,
       "version_minor": 0
      },
      "text/plain": [
       "Canvas(toolbar=Toolbar(toolitems=[('Home', 'Reset original view', 'home', 'home'), ('Back', 'Back to previous …"
      ]
     },
     "metadata": {},
     "output_type": "display_data"
    },
    {
     "data": {
      "application/vnd.jupyter.widget-view+json": {
       "model_id": "764c16ed922d423191df30c28cffc5e8",
       "version_major": 2,
       "version_minor": 0
      },
      "text/plain": [
       "VBox(children=(HBox(children=(FloatSlider(value=1.5, continuous_update=False, description='Scharr filter:', ma…"
      ]
     },
     "metadata": {},
     "output_type": "display_data"
    },
    {
     "data": {
      "application/vnd.jupyter.widget-view+json": {
       "model_id": "3603eade52824082a1b319a29eb7f9e4",
       "version_major": 2,
       "version_minor": 0
      },
      "text/plain": [
       "Output()"
      ]
     },
     "metadata": {},
     "output_type": "display_data"
    }
   ],
   "source": [
    "plt.figure(figsize=(5,10))\n",
    "out=data.aita.interactive_segmentation()"
   ]
  },
  {
   "cell_type": "markdown",
   "id": "false-novel",
   "metadata": {},
   "source": [
    "## The new `xarray.DataSet.aita`"
   ]
  },
  {
   "cell_type": "code",
   "execution_count": 6,
   "id": "terminal-airline",
   "metadata": {},
   "outputs": [
    {
     "data": {
      "text/html": [
       "<div><svg style=\"position: absolute; width: 0; height: 0; overflow: hidden\">\n",
       "<defs>\n",
       "<symbol id=\"icon-database\" viewBox=\"0 0 32 32\">\n",
       "<path d=\"M16 0c-8.837 0-16 2.239-16 5v4c0 2.761 7.163 5 16 5s16-2.239 16-5v-4c0-2.761-7.163-5-16-5z\"></path>\n",
       "<path d=\"M16 17c-8.837 0-16-2.239-16-5v6c0 2.761 7.163 5 16 5s16-2.239 16-5v-6c0 2.761-7.163 5-16 5z\"></path>\n",
       "<path d=\"M16 26c-8.837 0-16-2.239-16-5v6c0 2.761 7.163 5 16 5s16-2.239 16-5v-6c0 2.761-7.163 5-16 5z\"></path>\n",
       "</symbol>\n",
       "<symbol id=\"icon-file-text2\" viewBox=\"0 0 32 32\">\n",
       "<path d=\"M28.681 7.159c-0.694-0.947-1.662-2.053-2.724-3.116s-2.169-2.030-3.116-2.724c-1.612-1.182-2.393-1.319-2.841-1.319h-15.5c-1.378 0-2.5 1.121-2.5 2.5v27c0 1.378 1.122 2.5 2.5 2.5h23c1.378 0 2.5-1.122 2.5-2.5v-19.5c0-0.448-0.137-1.23-1.319-2.841zM24.543 5.457c0.959 0.959 1.712 1.825 2.268 2.543h-4.811v-4.811c0.718 0.556 1.584 1.309 2.543 2.268zM28 29.5c0 0.271-0.229 0.5-0.5 0.5h-23c-0.271 0-0.5-0.229-0.5-0.5v-27c0-0.271 0.229-0.5 0.5-0.5 0 0 15.499-0 15.5 0v7c0 0.552 0.448 1 1 1h7v19.5z\"></path>\n",
       "<path d=\"M23 26h-14c-0.552 0-1-0.448-1-1s0.448-1 1-1h14c0.552 0 1 0.448 1 1s-0.448 1-1 1z\"></path>\n",
       "<path d=\"M23 22h-14c-0.552 0-1-0.448-1-1s0.448-1 1-1h14c0.552 0 1 0.448 1 1s-0.448 1-1 1z\"></path>\n",
       "<path d=\"M23 18h-14c-0.552 0-1-0.448-1-1s0.448-1 1-1h14c0.552 0 1 0.448 1 1s-0.448 1-1 1z\"></path>\n",
       "</symbol>\n",
       "</defs>\n",
       "</svg>\n",
       "<style>/* CSS stylesheet for displaying xarray objects in jupyterlab.\n",
       " *\n",
       " */\n",
       "\n",
       ":root {\n",
       "  --xr-font-color0: var(--jp-content-font-color0, rgba(0, 0, 0, 1));\n",
       "  --xr-font-color2: var(--jp-content-font-color2, rgba(0, 0, 0, 0.54));\n",
       "  --xr-font-color3: var(--jp-content-font-color3, rgba(0, 0, 0, 0.38));\n",
       "  --xr-border-color: var(--jp-border-color2, #e0e0e0);\n",
       "  --xr-disabled-color: var(--jp-layout-color3, #bdbdbd);\n",
       "  --xr-background-color: var(--jp-layout-color0, white);\n",
       "  --xr-background-color-row-even: var(--jp-layout-color1, white);\n",
       "  --xr-background-color-row-odd: var(--jp-layout-color2, #eeeeee);\n",
       "}\n",
       "\n",
       "html[theme=dark],\n",
       "body.vscode-dark {\n",
       "  --xr-font-color0: rgba(255, 255, 255, 1);\n",
       "  --xr-font-color2: rgba(255, 255, 255, 0.54);\n",
       "  --xr-font-color3: rgba(255, 255, 255, 0.38);\n",
       "  --xr-border-color: #1F1F1F;\n",
       "  --xr-disabled-color: #515151;\n",
       "  --xr-background-color: #111111;\n",
       "  --xr-background-color-row-even: #111111;\n",
       "  --xr-background-color-row-odd: #313131;\n",
       "}\n",
       "\n",
       ".xr-wrap {\n",
       "  display: block;\n",
       "  min-width: 300px;\n",
       "  max-width: 700px;\n",
       "}\n",
       "\n",
       ".xr-text-repr-fallback {\n",
       "  /* fallback to plain text repr when CSS is not injected (untrusted notebook) */\n",
       "  display: none;\n",
       "}\n",
       "\n",
       ".xr-header {\n",
       "  padding-top: 6px;\n",
       "  padding-bottom: 6px;\n",
       "  margin-bottom: 4px;\n",
       "  border-bottom: solid 1px var(--xr-border-color);\n",
       "}\n",
       "\n",
       ".xr-header > div,\n",
       ".xr-header > ul {\n",
       "  display: inline;\n",
       "  margin-top: 0;\n",
       "  margin-bottom: 0;\n",
       "}\n",
       "\n",
       ".xr-obj-type,\n",
       ".xr-array-name {\n",
       "  margin-left: 2px;\n",
       "  margin-right: 10px;\n",
       "}\n",
       "\n",
       ".xr-obj-type {\n",
       "  color: var(--xr-font-color2);\n",
       "}\n",
       "\n",
       ".xr-sections {\n",
       "  padding-left: 0 !important;\n",
       "  display: grid;\n",
       "  grid-template-columns: 150px auto auto 1fr 20px 20px;\n",
       "}\n",
       "\n",
       ".xr-section-item {\n",
       "  display: contents;\n",
       "}\n",
       "\n",
       ".xr-section-item input {\n",
       "  display: none;\n",
       "}\n",
       "\n",
       ".xr-section-item input + label {\n",
       "  color: var(--xr-disabled-color);\n",
       "}\n",
       "\n",
       ".xr-section-item input:enabled + label {\n",
       "  cursor: pointer;\n",
       "  color: var(--xr-font-color2);\n",
       "}\n",
       "\n",
       ".xr-section-item input:enabled + label:hover {\n",
       "  color: var(--xr-font-color0);\n",
       "}\n",
       "\n",
       ".xr-section-summary {\n",
       "  grid-column: 1;\n",
       "  color: var(--xr-font-color2);\n",
       "  font-weight: 500;\n",
       "}\n",
       "\n",
       ".xr-section-summary > span {\n",
       "  display: inline-block;\n",
       "  padding-left: 0.5em;\n",
       "}\n",
       "\n",
       ".xr-section-summary-in:disabled + label {\n",
       "  color: var(--xr-font-color2);\n",
       "}\n",
       "\n",
       ".xr-section-summary-in + label:before {\n",
       "  display: inline-block;\n",
       "  content: '►';\n",
       "  font-size: 11px;\n",
       "  width: 15px;\n",
       "  text-align: center;\n",
       "}\n",
       "\n",
       ".xr-section-summary-in:disabled + label:before {\n",
       "  color: var(--xr-disabled-color);\n",
       "}\n",
       "\n",
       ".xr-section-summary-in:checked + label:before {\n",
       "  content: '▼';\n",
       "}\n",
       "\n",
       ".xr-section-summary-in:checked + label > span {\n",
       "  display: none;\n",
       "}\n",
       "\n",
       ".xr-section-summary,\n",
       ".xr-section-inline-details {\n",
       "  padding-top: 4px;\n",
       "  padding-bottom: 4px;\n",
       "}\n",
       "\n",
       ".xr-section-inline-details {\n",
       "  grid-column: 2 / -1;\n",
       "}\n",
       "\n",
       ".xr-section-details {\n",
       "  display: none;\n",
       "  grid-column: 1 / -1;\n",
       "  margin-bottom: 5px;\n",
       "}\n",
       "\n",
       ".xr-section-summary-in:checked ~ .xr-section-details {\n",
       "  display: contents;\n",
       "}\n",
       "\n",
       ".xr-array-wrap {\n",
       "  grid-column: 1 / -1;\n",
       "  display: grid;\n",
       "  grid-template-columns: 20px auto;\n",
       "}\n",
       "\n",
       ".xr-array-wrap > label {\n",
       "  grid-column: 1;\n",
       "  vertical-align: top;\n",
       "}\n",
       "\n",
       ".xr-preview {\n",
       "  color: var(--xr-font-color3);\n",
       "}\n",
       "\n",
       ".xr-array-preview,\n",
       ".xr-array-data {\n",
       "  padding: 0 5px !important;\n",
       "  grid-column: 2;\n",
       "}\n",
       "\n",
       ".xr-array-data,\n",
       ".xr-array-in:checked ~ .xr-array-preview {\n",
       "  display: none;\n",
       "}\n",
       "\n",
       ".xr-array-in:checked ~ .xr-array-data,\n",
       ".xr-array-preview {\n",
       "  display: inline-block;\n",
       "}\n",
       "\n",
       ".xr-dim-list {\n",
       "  display: inline-block !important;\n",
       "  list-style: none;\n",
       "  padding: 0 !important;\n",
       "  margin: 0;\n",
       "}\n",
       "\n",
       ".xr-dim-list li {\n",
       "  display: inline-block;\n",
       "  padding: 0;\n",
       "  margin: 0;\n",
       "}\n",
       "\n",
       ".xr-dim-list:before {\n",
       "  content: '(';\n",
       "}\n",
       "\n",
       ".xr-dim-list:after {\n",
       "  content: ')';\n",
       "}\n",
       "\n",
       ".xr-dim-list li:not(:last-child):after {\n",
       "  content: ',';\n",
       "  padding-right: 5px;\n",
       "}\n",
       "\n",
       ".xr-has-index {\n",
       "  font-weight: bold;\n",
       "}\n",
       "\n",
       ".xr-var-list,\n",
       ".xr-var-item {\n",
       "  display: contents;\n",
       "}\n",
       "\n",
       ".xr-var-item > div,\n",
       ".xr-var-item label,\n",
       ".xr-var-item > .xr-var-name span {\n",
       "  background-color: var(--xr-background-color-row-even);\n",
       "  margin-bottom: 0;\n",
       "}\n",
       "\n",
       ".xr-var-item > .xr-var-name:hover span {\n",
       "  padding-right: 5px;\n",
       "}\n",
       "\n",
       ".xr-var-list > li:nth-child(odd) > div,\n",
       ".xr-var-list > li:nth-child(odd) > label,\n",
       ".xr-var-list > li:nth-child(odd) > .xr-var-name span {\n",
       "  background-color: var(--xr-background-color-row-odd);\n",
       "}\n",
       "\n",
       ".xr-var-name {\n",
       "  grid-column: 1;\n",
       "}\n",
       "\n",
       ".xr-var-dims {\n",
       "  grid-column: 2;\n",
       "}\n",
       "\n",
       ".xr-var-dtype {\n",
       "  grid-column: 3;\n",
       "  text-align: right;\n",
       "  color: var(--xr-font-color2);\n",
       "}\n",
       "\n",
       ".xr-var-preview {\n",
       "  grid-column: 4;\n",
       "}\n",
       "\n",
       ".xr-var-name,\n",
       ".xr-var-dims,\n",
       ".xr-var-dtype,\n",
       ".xr-preview,\n",
       ".xr-attrs dt {\n",
       "  white-space: nowrap;\n",
       "  overflow: hidden;\n",
       "  text-overflow: ellipsis;\n",
       "  padding-right: 10px;\n",
       "}\n",
       "\n",
       ".xr-var-name:hover,\n",
       ".xr-var-dims:hover,\n",
       ".xr-var-dtype:hover,\n",
       ".xr-attrs dt:hover {\n",
       "  overflow: visible;\n",
       "  width: auto;\n",
       "  z-index: 1;\n",
       "}\n",
       "\n",
       ".xr-var-attrs,\n",
       ".xr-var-data {\n",
       "  display: none;\n",
       "  background-color: var(--xr-background-color) !important;\n",
       "  padding-bottom: 5px !important;\n",
       "}\n",
       "\n",
       ".xr-var-attrs-in:checked ~ .xr-var-attrs,\n",
       ".xr-var-data-in:checked ~ .xr-var-data {\n",
       "  display: block;\n",
       "}\n",
       "\n",
       ".xr-var-data > table {\n",
       "  float: right;\n",
       "}\n",
       "\n",
       ".xr-var-name span,\n",
       ".xr-var-data,\n",
       ".xr-attrs {\n",
       "  padding-left: 25px !important;\n",
       "}\n",
       "\n",
       ".xr-attrs,\n",
       ".xr-var-attrs,\n",
       ".xr-var-data {\n",
       "  grid-column: 1 / -1;\n",
       "}\n",
       "\n",
       "dl.xr-attrs {\n",
       "  padding: 0;\n",
       "  margin: 0;\n",
       "  display: grid;\n",
       "  grid-template-columns: 125px auto;\n",
       "}\n",
       "\n",
       ".xr-attrs dt,\n",
       ".xr-attrs dd {\n",
       "  padding: 0;\n",
       "  margin: 0;\n",
       "  float: left;\n",
       "  padding-right: 10px;\n",
       "  width: auto;\n",
       "}\n",
       "\n",
       ".xr-attrs dt {\n",
       "  font-weight: normal;\n",
       "  grid-column: 1;\n",
       "}\n",
       "\n",
       ".xr-attrs dt:hover span {\n",
       "  display: inline-block;\n",
       "  background: var(--xr-background-color);\n",
       "  padding-right: 10px;\n",
       "}\n",
       "\n",
       ".xr-attrs dd {\n",
       "  grid-column: 2;\n",
       "  white-space: pre-wrap;\n",
       "  word-break: break-all;\n",
       "}\n",
       "\n",
       ".xr-icon-database,\n",
       ".xr-icon-file-text2 {\n",
       "  display: inline-block;\n",
       "  vertical-align: middle;\n",
       "  width: 1em;\n",
       "  height: 1.5em !important;\n",
       "  stroke-width: 0;\n",
       "  stroke: currentColor;\n",
       "  fill: currentColor;\n",
       "}\n",
       "</style><pre class='xr-text-repr-fallback'>&lt;xarray.Dataset&gt;\n",
       "Dimensions:      (uvecs: 2, x: 1000, y: 2500)\n",
       "Coordinates:\n",
       "  * x            (x) float64 0.0 0.02 0.04 0.06 0.08 ... 19.92 19.94 19.96 19.98\n",
       "  * y            (y) float64 49.98 49.96 49.94 49.92 49.9 ... 0.06 0.04 0.02 0.0\n",
       "Dimensions without coordinates: uvecs\n",
       "Data variables:\n",
       "    orientation  (y, x, uvecs) float64 2.395 0.6451 5.377 ... 0.6098 0.6473\n",
       "    quality      (y, x) int64 0 90 92 93 92 92 94 94 ... 96 96 96 96 96 97 97 96\n",
       "    micro        (y, x) bool True True True True True ... True True True True\n",
       "    grainId      (y, x) int32 0 0 0 0 0 0 0 0 0 0 0 0 ... 0 0 0 0 0 0 0 0 0 0 0\n",
       "Attributes:\n",
       "    date:       Thursday, 19 Nov 2015, 11:24 am\n",
       "    unit:       millimeters\n",
       "    step_size:  0.02\n",
       "    path_dat:   orientation_test.dat</pre><div class='xr-wrap' hidden><div class='xr-header'><div class='xr-obj-type'>xarray.Dataset</div></div><ul class='xr-sections'><li class='xr-section-item'><input id='section-f1c63ba9-7517-44f6-9322-b04292ad8bf5' class='xr-section-summary-in' type='checkbox' disabled ><label for='section-f1c63ba9-7517-44f6-9322-b04292ad8bf5' class='xr-section-summary'  title='Expand/collapse section'>Dimensions:</label><div class='xr-section-inline-details'><ul class='xr-dim-list'><li><span>uvecs</span>: 2</li><li><span class='xr-has-index'>x</span>: 1000</li><li><span class='xr-has-index'>y</span>: 2500</li></ul></div><div class='xr-section-details'></div></li><li class='xr-section-item'><input id='section-83450c0d-8bbd-4cbb-9601-ef42cfd9adf6' class='xr-section-summary-in' type='checkbox'  checked><label for='section-83450c0d-8bbd-4cbb-9601-ef42cfd9adf6' class='xr-section-summary' >Coordinates: <span>(2)</span></label><div class='xr-section-inline-details'></div><div class='xr-section-details'><ul class='xr-var-list'><li class='xr-var-item'><div class='xr-var-name'><span class='xr-has-index'>x</span></div><div class='xr-var-dims'>(x)</div><div class='xr-var-dtype'>float64</div><div class='xr-var-preview xr-preview'>0.0 0.02 0.04 ... 19.94 19.96 19.98</div><input id='attrs-a7e88d43-322c-4fd1-9ddc-08ab77bb8bac' class='xr-var-attrs-in' type='checkbox' disabled><label for='attrs-a7e88d43-322c-4fd1-9ddc-08ab77bb8bac' title='Show/Hide attributes'><svg class='icon xr-icon-file-text2'><use xlink:href='#icon-file-text2'></use></svg></label><input id='data-163050e5-ade1-4aa5-a5dc-f0d49f6aeb3d' class='xr-var-data-in' type='checkbox'><label for='data-163050e5-ade1-4aa5-a5dc-f0d49f6aeb3d' title='Show/Hide data repr'><svg class='icon xr-icon-database'><use xlink:href='#icon-database'></use></svg></label><div class='xr-var-attrs'><dl class='xr-attrs'></dl></div><div class='xr-var-data'><pre>array([ 0.  ,  0.02,  0.04, ..., 19.94, 19.96, 19.98])</pre></div></li><li class='xr-var-item'><div class='xr-var-name'><span class='xr-has-index'>y</span></div><div class='xr-var-dims'>(y)</div><div class='xr-var-dtype'>float64</div><div class='xr-var-preview xr-preview'>49.98 49.96 49.94 ... 0.04 0.02 0.0</div><input id='attrs-2ec84dd8-9a91-48e3-ab1c-36601e7bef67' class='xr-var-attrs-in' type='checkbox' disabled><label for='attrs-2ec84dd8-9a91-48e3-ab1c-36601e7bef67' title='Show/Hide attributes'><svg class='icon xr-icon-file-text2'><use xlink:href='#icon-file-text2'></use></svg></label><input id='data-8931b3c2-4ad0-4e9f-9fb4-c6e602255f90' class='xr-var-data-in' type='checkbox'><label for='data-8931b3c2-4ad0-4e9f-9fb4-c6e602255f90' title='Show/Hide data repr'><svg class='icon xr-icon-database'><use xlink:href='#icon-database'></use></svg></label><div class='xr-var-attrs'><dl class='xr-attrs'></dl></div><div class='xr-var-data'><pre>array([4.998e+01, 4.996e+01, 4.994e+01, ..., 4.000e-02, 2.000e-02, 0.000e+00])</pre></div></li></ul></div></li><li class='xr-section-item'><input id='section-07ff9b95-0af3-4b02-81b8-288461abedd3' class='xr-section-summary-in' type='checkbox'  checked><label for='section-07ff9b95-0af3-4b02-81b8-288461abedd3' class='xr-section-summary' >Data variables: <span>(4)</span></label><div class='xr-section-inline-details'></div><div class='xr-section-details'><ul class='xr-var-list'><li class='xr-var-item'><div class='xr-var-name'><span>orientation</span></div><div class='xr-var-dims'>(y, x, uvecs)</div><div class='xr-var-dtype'>float64</div><div class='xr-var-preview xr-preview'>2.395 0.6451 ... 0.6098 0.6473</div><input id='attrs-88883e4d-64c9-4654-be0d-c865e5e46ea8' class='xr-var-attrs-in' type='checkbox' disabled><label for='attrs-88883e4d-64c9-4654-be0d-c865e5e46ea8' title='Show/Hide attributes'><svg class='icon xr-icon-file-text2'><use xlink:href='#icon-file-text2'></use></svg></label><input id='data-5000f888-72a5-4228-b190-b082e8894cec' class='xr-var-data-in' type='checkbox'><label for='data-5000f888-72a5-4228-b190-b082e8894cec' title='Show/Hide data repr'><svg class='icon xr-icon-database'><use xlink:href='#icon-database'></use></svg></label><div class='xr-var-attrs'><dl class='xr-attrs'></dl></div><div class='xr-var-data'><pre>array([[[2.39476627, 0.64507369],\n",
       "        [5.37718489, 1.04999008],\n",
       "        [5.38905313, 1.05627326],\n",
       "        ...,\n",
       "        [2.05826679, 0.49654617],\n",
       "        [5.65731024, 0.94160513],\n",
       "        [5.68523551, 1.03218772]],\n",
       "\n",
       "       [[5.35955707, 1.15837502],\n",
       "        [5.35885894, 1.12975162],\n",
       "        [5.3613024 , 1.11701072],\n",
       "        ...,\n",
       "        [2.07659274, 0.52063172],\n",
       "        [5.64753639, 0.94073247],\n",
       "        [5.67912685, 1.04143796]],\n",
       "\n",
       "       [[5.36304773, 1.23045712],\n",
       "        [5.36165146, 1.23132979],\n",
       "        [2.38656322, 0.57246799],\n",
       "        ...,\n",
       "...\n",
       "        ...,\n",
       "        [0.62378067, 0.625526  ],\n",
       "        [0.61784656, 0.61994095],\n",
       "        [0.61645029, 0.61400683]],\n",
       "\n",
       "       [[0.68085294, 1.12399204],\n",
       "        [0.68050388, 1.12730816],\n",
       "        [0.67840948, 1.13900187],\n",
       "        ...,\n",
       "        [0.64123397, 0.62954026],\n",
       "        [0.62430427, 0.63529985],\n",
       "        [0.61575216, 0.62203535]],\n",
       "\n",
       "       [[0.67701322, 1.13236962],\n",
       "        [0.67753682, 1.13690747],\n",
       "        [0.67840948, 1.13149695],\n",
       "        ...,\n",
       "        [0.63652158, 0.61418136],\n",
       "        [0.61645029, 0.63948864],\n",
       "        [0.60981804, 0.64734262]]])</pre></div></li><li class='xr-var-item'><div class='xr-var-name'><span>quality</span></div><div class='xr-var-dims'>(y, x)</div><div class='xr-var-dtype'>int64</div><div class='xr-var-preview xr-preview'>0 90 92 93 92 92 ... 96 96 97 97 96</div><input id='attrs-eb7daade-3a06-4e59-af2f-b362acad76bb' class='xr-var-attrs-in' type='checkbox' disabled><label for='attrs-eb7daade-3a06-4e59-af2f-b362acad76bb' title='Show/Hide attributes'><svg class='icon xr-icon-file-text2'><use xlink:href='#icon-file-text2'></use></svg></label><input id='data-e471c6d3-fae9-410c-b2ae-cf62ee7a52dc' class='xr-var-data-in' type='checkbox'><label for='data-e471c6d3-fae9-410c-b2ae-cf62ee7a52dc' title='Show/Hide data repr'><svg class='icon xr-icon-database'><use xlink:href='#icon-database'></use></svg></label><div class='xr-var-attrs'><dl class='xr-attrs'></dl></div><div class='xr-var-data'><pre>array([[ 0, 90, 92, ...,  0, 85, 90],\n",
       "       [81, 82, 83, ...,  0, 84, 89],\n",
       "       [81, 80,  3, ...,  0, 79, 88],\n",
       "       ...,\n",
       "       [90, 91, 91, ..., 95, 95, 95],\n",
       "       [91, 92, 91, ..., 95, 95, 95],\n",
       "       [92, 92, 91, ..., 97, 97, 96]])</pre></div></li><li class='xr-var-item'><div class='xr-var-name'><span>micro</span></div><div class='xr-var-dims'>(y, x)</div><div class='xr-var-dtype'>bool</div><div class='xr-var-preview xr-preview'>True True True ... True True True</div><input id='attrs-af39abce-a190-445d-9bfc-c219711446c8' class='xr-var-attrs-in' type='checkbox' disabled><label for='attrs-af39abce-a190-445d-9bfc-c219711446c8' title='Show/Hide attributes'><svg class='icon xr-icon-file-text2'><use xlink:href='#icon-file-text2'></use></svg></label><input id='data-1d84c5e3-b804-4f7e-8dfe-6a57906b8f30' class='xr-var-data-in' type='checkbox'><label for='data-1d84c5e3-b804-4f7e-8dfe-6a57906b8f30' title='Show/Hide data repr'><svg class='icon xr-icon-database'><use xlink:href='#icon-database'></use></svg></label><div class='xr-var-attrs'><dl class='xr-attrs'></dl></div><div class='xr-var-data'><pre>array([[ True,  True,  True, ...,  True,  True,  True],\n",
       "       [ True, False, False, ..., False, False,  True],\n",
       "       [ True, False, False, ..., False, False,  True],\n",
       "       ...,\n",
       "       [ True, False, False, ..., False, False,  True],\n",
       "       [ True, False, False, ..., False, False,  True],\n",
       "       [ True,  True,  True, ...,  True,  True,  True]])</pre></div></li><li class='xr-var-item'><div class='xr-var-name'><span>grainId</span></div><div class='xr-var-dims'>(y, x)</div><div class='xr-var-dtype'>int32</div><div class='xr-var-preview xr-preview'>0 0 0 0 0 0 0 0 ... 0 0 0 0 0 0 0 0</div><input id='attrs-9bdec93a-bc7e-4a34-ab48-20a6821588b5' class='xr-var-attrs-in' type='checkbox' disabled><label for='attrs-9bdec93a-bc7e-4a34-ab48-20a6821588b5' title='Show/Hide attributes'><svg class='icon xr-icon-file-text2'><use xlink:href='#icon-file-text2'></use></svg></label><input id='data-7b6279a2-b961-4f91-b31a-871b22bce605' class='xr-var-data-in' type='checkbox'><label for='data-7b6279a2-b961-4f91-b31a-871b22bce605' title='Show/Hide data repr'><svg class='icon xr-icon-database'><use xlink:href='#icon-database'></use></svg></label><div class='xr-var-attrs'><dl class='xr-attrs'></dl></div><div class='xr-var-data'><pre>array([[   0,    0,    0, ...,    0,    0,    0],\n",
       "       [   0,    1,    1, ...,   44,   44,    0],\n",
       "       [   0,    1,    1, ...,   44,   44,    0],\n",
       "       ...,\n",
       "       [   0, 1284, 1284, ..., 1286, 1286,    0],\n",
       "       [   0, 1284, 1284, ..., 1286, 1286,    0],\n",
       "       [   0,    0,    0, ...,    0,    0,    0]], dtype=int32)</pre></div></li></ul></div></li><li class='xr-section-item'><input id='section-34820845-038f-4fff-8eab-56202c18f4d4' class='xr-section-summary-in' type='checkbox'  checked><label for='section-34820845-038f-4fff-8eab-56202c18f4d4' class='xr-section-summary' >Attributes: <span>(4)</span></label><div class='xr-section-inline-details'></div><div class='xr-section-details'><dl class='xr-attrs'><dt><span>date :</span></dt><dd>Thursday, 19 Nov 2015, 11:24 am</dd><dt><span>unit :</span></dt><dd>millimeters</dd><dt><span>step_size :</span></dt><dd>0.02</dd><dt><span>path_dat :</span></dt><dd>orientation_test.dat</dd></dl></div></li></ul></div></div>"
      ],
      "text/plain": [
       "<xarray.Dataset>\n",
       "Dimensions:      (uvecs: 2, x: 1000, y: 2500)\n",
       "Coordinates:\n",
       "  * x            (x) float64 0.0 0.02 0.04 0.06 0.08 ... 19.92 19.94 19.96 19.98\n",
       "  * y            (y) float64 49.98 49.96 49.94 49.92 49.9 ... 0.06 0.04 0.02 0.0\n",
       "Dimensions without coordinates: uvecs\n",
       "Data variables:\n",
       "    orientation  (y, x, uvecs) float64 2.395 0.6451 5.377 ... 0.6098 0.6473\n",
       "    quality      (y, x) int64 0 90 92 93 92 92 94 94 ... 96 96 96 96 96 97 97 96\n",
       "    micro        (y, x) bool True True True True True ... True True True True\n",
       "    grainId      (y, x) int32 0 0 0 0 0 0 0 0 0 0 0 0 ... 0 0 0 0 0 0 0 0 0 0 0\n",
       "Attributes:\n",
       "    date:       Thursday, 19 Nov 2015, 11:24 am\n",
       "    unit:       millimeters\n",
       "    step_size:  0.02\n",
       "    path_dat:   orientation_test.dat"
      ]
     },
     "execution_count": 6,
     "metadata": {},
     "output_type": "execute_result"
    }
   ],
   "source": [
    "out.ds"
   ]
  },
  {
   "cell_type": "markdown",
   "id": "major-termination",
   "metadata": {},
   "source": [
    "### Plot micro"
   ]
  },
  {
   "cell_type": "code",
   "execution_count": 7,
   "id": "quantitative-means",
   "metadata": {},
   "outputs": [
    {
     "data": {
      "application/vnd.jupyter.widget-view+json": {
       "model_id": "830ca3c96d764ac8b1001bae733172ee",
       "version_major": 2,
       "version_minor": 0
      },
      "text/plain": [
       "Canvas(toolbar=Toolbar(toolitems=[('Home', 'Reset original view', 'home', 'home'), ('Back', 'Back to previous …"
      ]
     },
     "metadata": {},
     "output_type": "display_data"
    },
    {
     "data": {
      "text/plain": [
       "<matplotlib.collections.QuadMesh at 0x7f66c9dc8070>"
      ]
     },
     "execution_count": 7,
     "metadata": {},
     "output_type": "execute_result"
    }
   ],
   "source": [
    "plt.figure(figsize=(5,10))\n",
    "out.ds.micro.plot()"
   ]
  },
  {
   "cell_type": "markdown",
   "id": "worse-civilian",
   "metadata": {
    "tags": []
   },
   "source": [
    "### Plot grainId"
   ]
  },
  {
   "cell_type": "code",
   "execution_count": 8,
   "id": "covered-graph",
   "metadata": {},
   "outputs": [
    {
     "data": {
      "application/vnd.jupyter.widget-view+json": {
       "model_id": "4ae64045b96c42f0bb50959f1b52a2a1",
       "version_major": 2,
       "version_minor": 0
      },
      "text/plain": [
       "Canvas(toolbar=Toolbar(toolitems=[('Home', 'Reset original view', 'home', 'home'), ('Back', 'Back to previous …"
      ]
     },
     "metadata": {},
     "output_type": "display_data"
    },
    {
     "data": {
      "text/plain": [
       "<matplotlib.collections.QuadMesh at 0x7f66c9d42580>"
      ]
     },
     "execution_count": 8,
     "metadata": {},
     "output_type": "execute_result"
    }
   ],
   "source": [
    "plt.figure(figsize=(5,10))\n",
    "out.ds.grainId.plot()"
   ]
  },
  {
   "cell_type": "markdown",
   "id": "behind-flour",
   "metadata": {},
   "source": [
    "## The parameters for the segmentation\n",
    "If you want to re-do the segmentation with the same value they can be find here : "
   ]
  },
  {
   "cell_type": "code",
   "execution_count": 9,
   "id": "smooth-jungle",
   "metadata": {},
   "outputs": [
    {
     "name": "stdout",
     "output_type": "stream",
     "text": [
      "Use scharr: True\n",
      "Value scharr: 1.5\n",
      "Use canny: True\n",
      "Value canny: 1.5\n",
      "Images canny: both color wheel\n",
      "Use quality: True\n",
      "Value quality: 60.0\n",
      "Include border: True\n"
     ]
    }
   ],
   "source": [
    "print('Use scharr:',out.use_scharr)\n",
    "print('Value scharr:',out.val_scharr)\n",
    "print('Use canny:',out.use_canny)\n",
    "print('Value canny:',out.val_canny)\n",
    "print('Images canny:',out.img_canny)\n",
    "print('Use quality:',out.use_quality)\n",
    "print('Value quality:',out.val_quality)\n",
    "print('Include border:',out.include_border)"
   ]
  }
 ],
 "metadata": {
  "kernelspec": {
   "display_name": "basepy38",
   "language": "python",
   "name": "basepy38"
  },
  "language_info": {
   "codemirror_mode": {
    "name": "ipython",
    "version": 3
   },
   "file_extension": ".py",
   "mimetype": "text/x-python",
   "name": "python",
   "nbconvert_exporter": "python",
   "pygments_lexer": "ipython3",
   "version": "3.8.8"
  },
  "widgets": {
   "application/vnd.jupyter.widget-state+json": {
    "state": {
     "01036113920841298749877ec6f08264": {
      "model_module": "@jupyter-widgets/base",
      "model_module_version": "1.2.0",
      "model_name": "LayoutModel",
      "state": {}
     },
     "17fbb8b2c3e344ee894da3ffc5b8bf85": {
      "model_module": "@jupyter-widgets/controls",
      "model_module_version": "1.5.0",
      "model_name": "CheckboxModel",
      "state": {
       "description": "Use canny filter",
       "disabled": false,
       "layout": "IPY_MODEL_a194c0bd5d764082a975f91b01df98c1",
       "style": "IPY_MODEL_4cfc660c24a34d2daf11cfea8f443c9b",
       "value": true
      }
     },
     "2050c5edd5504480bab9312316cac918": {
      "model_module": "@jupyter-widgets/controls",
      "model_module_version": "1.5.0",
      "model_name": "SliderStyleModel",
      "state": {
       "description_width": ""
      }
     },
     "2108d749500545e18d13ce72fa1401cb": {
      "model_module": "@jupyter-widgets/controls",
      "model_module_version": "1.5.0",
      "model_name": "CheckboxModel",
      "state": {
       "description": "Use Quality filter",
       "disabled": false,
       "layout": "IPY_MODEL_fd6d4be6c4ed4c33b774a248be71258a",
       "style": "IPY_MODEL_88c06c85195540ff8639f1af0e22fe3e",
       "value": true
      }
     },
     "21bd1c67946c469ab1af07a3d8bb5fcc": {
      "model_module": "@jupyter-widgets/controls",
      "model_module_version": "1.5.0",
      "model_name": "IntSliderModel",
      "state": {
       "continuous_update": false,
       "description": "Dilate GB:",
       "layout": "IPY_MODEL_ddd69c1f62fd48b5b9f3e2f23a318c59",
       "max": 10,
       "style": "IPY_MODEL_2050c5edd5504480bab9312316cac918",
       "value": 3
      }
     },
     "2470b994da5a48c6ad7ea18eb8c2f5e7": {
      "model_module": "@jupyter-widgets/controls",
      "model_module_version": "1.5.0",
      "model_name": "DescriptionStyleModel",
      "state": {
       "description_width": ""
      }
     },
     "29a41919a1414d189c3f010c3b94fc60": {
      "model_module": "@jupyter-widgets/base",
      "model_module_version": "1.2.0",
      "model_name": "LayoutModel",
      "state": {}
     },
     "2a1f1dffa5d54c12aa5ce344cef831d2": {
      "model_module": "@jupyter-widgets/controls",
      "model_module_version": "1.5.0",
      "model_name": "HBoxModel",
      "state": {
       "children": [
        "IPY_MODEL_53fc2641521b40ce97f70a3dc6b9973b",
        "IPY_MODEL_17fbb8b2c3e344ee894da3ffc5b8bf85",
        "IPY_MODEL_d09365dd5ac04918935da5f404c61b98"
       ],
       "layout": "IPY_MODEL_567b5f3a438946e3a5bbbe6238455a2c"
      }
     },
     "2de08cbcc3824d429d9f47973fa56c64": {
      "model_module": "@jupyter-widgets/controls",
      "model_module_version": "1.5.0",
      "model_name": "SliderStyleModel",
      "state": {
       "description_width": ""
      }
     },
     "2e23601092b345c18d60aef64e4ccf5c": {
      "model_module": "@jupyter-widgets/base",
      "model_module_version": "1.2.0",
      "model_name": "LayoutModel",
      "state": {}
     },
     "32068538606848f3ba0872dd57d37dc1": {
      "model_module": "@jupyter-widgets/base",
      "model_module_version": "1.2.0",
      "model_name": "LayoutModel",
      "state": {}
     },
     "342331443f5c4bbfb7d7ad31046ecc57": {
      "model_module": "@jupyter-widgets/controls",
      "model_module_version": "1.5.0",
      "model_name": "HBoxModel",
      "state": {
       "children": [
        "IPY_MODEL_e7110a6bbba14c86ae1b0fec6311b596",
        "IPY_MODEL_59e86c98e9e44e54aceb6db89ab7dd9e",
        "IPY_MODEL_9613c905bf1c47218321cafc4b2d3493"
       ],
       "layout": "IPY_MODEL_f34f3c7806214b64a6c2454dd84a9411"
      }
     },
     "342ecb14e4bd4616a101bec5519ded87": {
      "model_module": "@jupyter-widgets/controls",
      "model_module_version": "1.5.0",
      "model_name": "DescriptionStyleModel",
      "state": {
       "description_width": ""
      }
     },
     "3603eade52824082a1b319a29eb7f9e4": {
      "model_module": "@jupyter-widgets/output",
      "model_module_version": "1.0.0",
      "model_name": "OutputModel",
      "state": {
       "layout": "IPY_MODEL_be0135acb8cb4ee3acc201490d50013d"
      }
     },
     "3979d8ae08c4493685a8885b29dfa820": {
      "model_module": "@jupyter-widgets/controls",
      "model_module_version": "1.5.0",
      "model_name": "FloatSliderModel",
      "state": {
       "continuous_update": false,
       "description": "Quatlity filter:",
       "layout": "IPY_MODEL_d9c616b19c944dceb54a01f449d4c4f0",
       "readout_format": ".1f",
       "style": "IPY_MODEL_f9086bfda5b84c92a85feccb4c68e0ed",
       "value": 60
      }
     },
     "399e6aab6dc343e29a49918a2b7c2440": {
      "model_module": "@jupyter-widgets/controls",
      "model_module_version": "1.5.0",
      "model_name": "SliderStyleModel",
      "state": {
       "description_width": ""
      }
     },
     "39cbee43272549f0af476f2ad491ee71": {
      "model_module": "@jupyter-widgets/base",
      "model_module_version": "1.2.0",
      "model_name": "LayoutModel",
      "state": {}
     },
     "4059f3bf54e24be4854f4e0a406c8f03": {
      "model_module": "@jupyter-widgets/base",
      "model_module_version": "1.2.0",
      "model_name": "LayoutModel",
      "state": {}
     },
     "450478b367df4c6a9959bc478af31810": {
      "model_module": "@jupyter-widgets/controls",
      "model_module_version": "1.5.0",
      "model_name": "DropdownModel",
      "state": {
       "_options_labels": [
        "semi color wheel",
        "full color wheel",
        "none"
       ],
       "description": "Plot colormap",
       "index": 0,
       "layout": "IPY_MODEL_d8c861bfdc734102b487f00e6a7e4d14",
       "style": "IPY_MODEL_bd739a624a404b8281a99d812f529a74"
      }
     },
     "4a5195df4a194e06b724ddda11b0e95f": {
      "model_module": "@jupyter-widgets/base",
      "model_module_version": "1.2.0",
      "model_name": "LayoutModel",
      "state": {}
     },
     "4a9f4f135c9a4998a830ed01941b0ebd": {
      "model_module": "@jupyter-widgets/controls",
      "model_module_version": "1.5.0",
      "model_name": "DescriptionStyleModel",
      "state": {
       "description_width": ""
      }
     },
     "4ae64045b96c42f0bb50959f1b52a2a1": {
      "model_module": "jupyter-matplotlib",
      "model_module_version": "^0.8.3",
      "model_name": "MPLCanvasModel",
      "state": {
       "_cursor": "default",
       "_figure_label": "Figure 3",
       "_height": 1000,
       "_image_mode": "diff",
       "_width": 500,
       "layout": "IPY_MODEL_f0f035fc529042418803e92ac3b8221c",
       "toolbar": "IPY_MODEL_d3254faba2124958aff56c432f586e20",
       "toolbar_position": "left"
      }
     },
     "4cfc660c24a34d2daf11cfea8f443c9b": {
      "model_module": "@jupyter-widgets/controls",
      "model_module_version": "1.5.0",
      "model_name": "DescriptionStyleModel",
      "state": {
       "description_width": ""
      }
     },
     "524a1dabad374751a46c00e8d000b3fe": {
      "model_module": "@jupyter-widgets/base",
      "model_module_version": "1.2.0",
      "model_name": "LayoutModel",
      "state": {}
     },
     "53fc2641521b40ce97f70a3dc6b9973b": {
      "model_module": "@jupyter-widgets/controls",
      "model_module_version": "1.5.0",
      "model_name": "FloatSliderModel",
      "state": {
       "continuous_update": false,
       "description": "Canny filter:",
       "layout": "IPY_MODEL_bc5c812dfe48497e92e62bb52e45bab4",
       "max": 10,
       "readout_format": ".1f",
       "step": 0.1,
       "style": "IPY_MODEL_c0316ea69eae4b7aae3c4e72a647247c",
       "value": 1.5
      }
     },
     "5561240903aa4835ab3ee1a0eed31d61": {
      "model_module": "@jupyter-widgets/controls",
      "model_module_version": "1.5.0",
      "model_name": "SliderStyleModel",
      "state": {
       "description_width": ""
      }
     },
     "567b5f3a438946e3a5bbbe6238455a2c": {
      "model_module": "@jupyter-widgets/base",
      "model_module_version": "1.2.0",
      "model_name": "LayoutModel",
      "state": {}
     },
     "57152af7e01b486083f5edba4019f5d6": {
      "model_module": "@jupyter-widgets/controls",
      "model_module_version": "1.5.0",
      "model_name": "SliderStyleModel",
      "state": {
       "description_width": ""
      }
     },
     "5718415bef2e461d9a9fb90909bcd271": {
      "model_module": "@jupyter-widgets/controls",
      "model_module_version": "1.5.0",
      "model_name": "DescriptionStyleModel",
      "state": {
       "description_width": ""
      }
     },
     "59131be07d2e48abbc45ed839c6b5ce1": {
      "model_module": "@jupyter-widgets/controls",
      "model_module_version": "1.5.0",
      "model_name": "FloatSliderModel",
      "state": {
       "continuous_update": false,
       "description": "Quatlity filter:",
       "layout": "IPY_MODEL_fc338b2dcb254aa28c77b71e0e686771",
       "readout_format": ".1f",
       "style": "IPY_MODEL_b897a8f5a1cf4ec0a8f5e1fc2859c8f5",
       "value": 60
      }
     },
     "59e86c98e9e44e54aceb6db89ab7dd9e": {
      "model_module": "@jupyter-widgets/controls",
      "model_module_version": "1.5.0",
      "model_name": "CheckboxModel",
      "state": {
       "description": "Use canny filter",
       "disabled": false,
       "layout": "IPY_MODEL_5c79967b29824f23b814ef8b65121618",
       "style": "IPY_MODEL_cd74c2546f4d44c2af4f36433d8bffa9",
       "value": true
      }
     },
     "5c79967b29824f23b814ef8b65121618": {
      "model_module": "@jupyter-widgets/base",
      "model_module_version": "1.2.0",
      "model_name": "LayoutModel",
      "state": {}
     },
     "5e68de15d4b9438bbac544b529c9da22": {
      "model_module": "@jupyter-widgets/controls",
      "model_module_version": "1.5.0",
      "model_name": "HBoxModel",
      "state": {
       "children": [
        "IPY_MODEL_59131be07d2e48abbc45ed839c6b5ce1",
        "IPY_MODEL_2108d749500545e18d13ce72fa1401cb"
       ],
       "layout": "IPY_MODEL_cdec034bbd4345528ac1e9a5cacdc562"
      }
     },
     "5fcd14b7fd674a10965c3ef622284c3e": {
      "model_module": "@jupyter-widgets/base",
      "model_module_version": "1.2.0",
      "model_name": "LayoutModel",
      "state": {}
     },
     "60feaa54d8834cbbb9fdb7ffccff87f1": {
      "model_module": "@jupyter-widgets/controls",
      "model_module_version": "1.5.0",
      "model_name": "FloatSliderModel",
      "state": {
       "continuous_update": false,
       "description": "Scharr filter:",
       "layout": "IPY_MODEL_39cbee43272549f0af476f2ad491ee71",
       "max": 10,
       "readout_format": ".1f",
       "step": 0.1,
       "style": "IPY_MODEL_5561240903aa4835ab3ee1a0eed31d61",
       "value": 1.5
      }
     },
     "67eebd84f5b4454cbaa558b65decc7e8": {
      "model_module": "@jupyter-widgets/controls",
      "model_module_version": "1.5.0",
      "model_name": "HBoxModel",
      "state": {
       "children": [
        "IPY_MODEL_3979d8ae08c4493685a8885b29dfa820",
        "IPY_MODEL_de71e6f212844a949f70c713289e4b88"
       ],
       "layout": "IPY_MODEL_f166df4a25eb4cc28b0a99721aa0e39a"
      }
     },
     "6cb8ef4f13d344239b751e5497170bef": {
      "model_module": "@jupyter-widgets/controls",
      "model_module_version": "1.5.0",
      "model_name": "CheckboxModel",
      "state": {
       "description": "Include border as grain boundaries",
       "disabled": false,
       "layout": "IPY_MODEL_cf7e5d3f092d4dcb875ec2d17d0f39b1",
       "style": "IPY_MODEL_8b79dd3157a04e4ba7aabaa437e5c105",
       "value": true
      }
     },
     "764c16ed922d423191df30c28cffc5e8": {
      "model_module": "@jupyter-widgets/controls",
      "model_module_version": "1.5.0",
      "model_name": "VBoxModel",
      "state": {
       "children": [
        "IPY_MODEL_ad2a80c5a48e4df7ab33aa37c6b3503d",
        "IPY_MODEL_2a1f1dffa5d54c12aa5ce344cef831d2",
        "IPY_MODEL_67eebd84f5b4454cbaa558b65decc7e8",
        "IPY_MODEL_abb1c208a2964933a8ca167d3a6b3106",
        "IPY_MODEL_85f916f43d8f425c978cbdb85c4188b9",
        "IPY_MODEL_8c09ddadd02c4a638cbc9f51823e0b59",
        "IPY_MODEL_c3af7a8ed90f4c8c8aeb83dbbbcc70d9"
       ],
       "layout": "IPY_MODEL_5fcd14b7fd674a10965c3ef622284c3e"
      }
     },
     "797045eef9e7437d94a49aab1632fde0": {
      "model_module": "@jupyter-widgets/base",
      "model_module_version": "1.2.0",
      "model_name": "LayoutModel",
      "state": {}
     },
     "7ee7c0ef876b4bb1bd16e2b87435c475": {
      "model_module": "@jupyter-widgets/base",
      "model_module_version": "1.2.0",
      "model_name": "LayoutModel",
      "state": {}
     },
     "804e16254dab4ab08304211ae6add7bd": {
      "model_module": "@jupyter-widgets/base",
      "model_module_version": "1.2.0",
      "model_name": "LayoutModel",
      "state": {}
     },
     "830ca3c96d764ac8b1001bae733172ee": {
      "model_module": "jupyter-matplotlib",
      "model_module_version": "^0.8.3",
      "model_name": "MPLCanvasModel",
      "state": {
       "_cursor": "default",
       "_figure_label": "Figure 2",
       "_height": 1000,
       "_image_mode": "diff",
       "_width": 500,
       "layout": "IPY_MODEL_b3562a006abf4acda5e2055cc7ef3412",
       "toolbar": "IPY_MODEL_94c0b7c4847f4904babe031316ea0aeb",
       "toolbar_position": "left"
      }
     },
     "83aeea4c71b9488598872fbfaff753ea": {
      "model_module": "jupyter-matplotlib",
      "model_module_version": "^0.8.3",
      "model_name": "ToolbarModel",
      "state": {
       "layout": "IPY_MODEL_32068538606848f3ba0872dd57d37dc1",
       "toolitems": [
        [
         "Home",
         "Reset original view",
         "home",
         "home"
        ],
        [
         "Back",
         "Back to previous view",
         "arrow-left",
         "back"
        ],
        [
         "Forward",
         "Forward to next view",
         "arrow-right",
         "forward"
        ],
        [
         "Pan",
         "Left button pans, Right button zooms\nx/y fixes axis, CTRL fixes aspect",
         "arrows",
         "pan"
        ],
        [
         "Zoom",
         "Zoom to rectangle\nx/y fixes axis, CTRL fixes aspect",
         "square-o",
         "zoom"
        ],
        [
         "Download",
         "Download plot",
         "floppy-o",
         "save_figure"
        ]
       ]
      }
     },
     "84aa8bc30e36427f9f663508d48bbcf5": {
      "model_module": "@jupyter-widgets/controls",
      "model_module_version": "1.5.0",
      "model_name": "FloatSliderModel",
      "state": {
       "continuous_update": false,
       "description": "Scharr filter:",
       "layout": "IPY_MODEL_cc4b31152ccb4d44a9f930964859e1c2",
       "max": 10,
       "readout_format": ".1f",
       "step": 0.1,
       "style": "IPY_MODEL_57152af7e01b486083f5edba4019f5d6",
       "value": 1.5
      }
     },
     "85f916f43d8f425c978cbdb85c4188b9": {
      "model_module": "@jupyter-widgets/controls",
      "model_module_version": "1.5.0",
      "model_name": "IntSliderModel",
      "state": {
       "continuous_update": false,
       "description": "Dilate GB:",
       "layout": "IPY_MODEL_797045eef9e7437d94a49aab1632fde0",
       "max": 10,
       "style": "IPY_MODEL_399e6aab6dc343e29a49918a2b7c2440",
       "value": 2
      }
     },
     "88c06c85195540ff8639f1af0e22fe3e": {
      "model_module": "@jupyter-widgets/controls",
      "model_module_version": "1.5.0",
      "model_name": "DescriptionStyleModel",
      "state": {
       "description_width": ""
      }
     },
     "8b79dd3157a04e4ba7aabaa437e5c105": {
      "model_module": "@jupyter-widgets/controls",
      "model_module_version": "1.5.0",
      "model_name": "DescriptionStyleModel",
      "state": {
       "description_width": ""
      }
     },
     "8c09ddadd02c4a638cbc9f51823e0b59": {
      "model_module": "@jupyter-widgets/controls",
      "model_module_version": "1.5.0",
      "model_name": "DropdownModel",
      "state": {
       "_options_labels": [
        "semi color wheel",
        "full color wheel",
        "none"
       ],
       "description": "Plot colormap",
       "index": 0,
       "layout": "IPY_MODEL_7ee7c0ef876b4bb1bd16e2b87435c475",
       "style": "IPY_MODEL_4a9f4f135c9a4998a830ed01941b0ebd"
      }
     },
     "90540f4b90f4493ea8be7e314a6579b5": {
      "model_module": "@jupyter-widgets/controls",
      "model_module_version": "1.5.0",
      "model_name": "CheckboxModel",
      "state": {
       "description": "Use scharr filter",
       "disabled": false,
       "layout": "IPY_MODEL_a0f5d669fe8844bf87ed307116a40110",
       "style": "IPY_MODEL_342ecb14e4bd4616a101bec5519ded87",
       "value": true
      }
     },
     "908ae9117bc2476893007592cc203139": {
      "model_module": "@jupyter-widgets/base",
      "model_module_version": "1.2.0",
      "model_name": "LayoutModel",
      "state": {}
     },
     "94c0b7c4847f4904babe031316ea0aeb": {
      "model_module": "jupyter-matplotlib",
      "model_module_version": "^0.8.3",
      "model_name": "ToolbarModel",
      "state": {
       "layout": "IPY_MODEL_d6ac11b3624f4701a3a339f3622fe5b7",
       "toolitems": [
        [
         "Home",
         "Reset original view",
         "home",
         "home"
        ],
        [
         "Back",
         "Back to previous view",
         "arrow-left",
         "back"
        ],
        [
         "Forward",
         "Forward to next view",
         "arrow-right",
         "forward"
        ],
        [
         "Pan",
         "Left button pans, Right button zooms\nx/y fixes axis, CTRL fixes aspect",
         "arrows",
         "pan"
        ],
        [
         "Zoom",
         "Zoom to rectangle\nx/y fixes axis, CTRL fixes aspect",
         "square-o",
         "zoom"
        ],
        [
         "Download",
         "Download plot",
         "floppy-o",
         "save_figure"
        ]
       ]
      }
     },
     "94fa00bbba6746e9bafad220e44b31b2": {
      "model_module": "@jupyter-widgets/controls",
      "model_module_version": "1.5.0",
      "model_name": "ButtonStyleModel",
      "state": {}
     },
     "9613c905bf1c47218321cafc4b2d3493": {
      "model_module": "@jupyter-widgets/controls",
      "model_module_version": "1.5.0",
      "model_name": "DropdownModel",
      "state": {
       "_options_labels": [
        "semi color wheel",
        "full color wheel",
        "both color wheel"
       ],
       "description": "Segmentation colormap",
       "index": 2,
       "layout": "IPY_MODEL_966503c15a524a56ba932c3a80bbdbe7",
       "style": "IPY_MODEL_f51ce80769124a4bb3902e06de7258cc"
      }
     },
     "966503c15a524a56ba932c3a80bbdbe7": {
      "model_module": "@jupyter-widgets/base",
      "model_module_version": "1.2.0",
      "model_name": "LayoutModel",
      "state": {}
     },
     "96accc85f0c044eebbfa942e76ec652c": {
      "model_module": "@jupyter-widgets/base",
      "model_module_version": "1.2.0",
      "model_name": "LayoutModel",
      "state": {}
     },
     "9740647a12934ecba361d6d88b099a0c": {
      "model_module": "@jupyter-widgets/controls",
      "model_module_version": "1.5.0",
      "model_name": "DescriptionStyleModel",
      "state": {
       "description_width": ""
      }
     },
     "9c0c1805bcb44c8dba175525611e188a": {
      "model_module": "@jupyter-widgets/controls",
      "model_module_version": "1.5.0",
      "model_name": "DescriptionStyleModel",
      "state": {
       "description_width": ""
      }
     },
     "a0f5d669fe8844bf87ed307116a40110": {
      "model_module": "@jupyter-widgets/base",
      "model_module_version": "1.2.0",
      "model_name": "LayoutModel",
      "state": {}
     },
     "a194c0bd5d764082a975f91b01df98c1": {
      "model_module": "@jupyter-widgets/base",
      "model_module_version": "1.2.0",
      "model_name": "LayoutModel",
      "state": {}
     },
     "a9b7064f9c814d6faa988a049fc052e4": {
      "model_module": "@jupyter-widgets/base",
      "model_module_version": "1.2.0",
      "model_name": "LayoutModel",
      "state": {}
     },
     "abb1c208a2964933a8ca167d3a6b3106": {
      "model_module": "@jupyter-widgets/controls",
      "model_module_version": "1.5.0",
      "model_name": "CheckboxModel",
      "state": {
       "description": "Include border as grain boundaries",
       "disabled": false,
       "layout": "IPY_MODEL_804e16254dab4ab08304211ae6add7bd",
       "style": "IPY_MODEL_2470b994da5a48c6ad7ea18eb8c2f5e7",
       "value": true
      }
     },
     "ad2a80c5a48e4df7ab33aa37c6b3503d": {
      "model_module": "@jupyter-widgets/controls",
      "model_module_version": "1.5.0",
      "model_name": "HBoxModel",
      "state": {
       "children": [
        "IPY_MODEL_84aa8bc30e36427f9f663508d48bbcf5",
        "IPY_MODEL_f4d92719f3524e0b853566b3bb7f0209"
       ],
       "layout": "IPY_MODEL_b7f5c4dc3c7f4e1fa42a91d84951aff7"
      }
     },
     "affe159c80c449169031e401641a42de": {
      "model_module": "@jupyter-widgets/base",
      "model_module_version": "1.2.0",
      "model_name": "LayoutModel",
      "state": {}
     },
     "b3562a006abf4acda5e2055cc7ef3412": {
      "model_module": "@jupyter-widgets/base",
      "model_module_version": "1.2.0",
      "model_name": "LayoutModel",
      "state": {}
     },
     "b7f5c4dc3c7f4e1fa42a91d84951aff7": {
      "model_module": "@jupyter-widgets/base",
      "model_module_version": "1.2.0",
      "model_name": "LayoutModel",
      "state": {}
     },
     "b897a8f5a1cf4ec0a8f5e1fc2859c8f5": {
      "model_module": "@jupyter-widgets/controls",
      "model_module_version": "1.5.0",
      "model_name": "SliderStyleModel",
      "state": {
       "description_width": ""
      }
     },
     "b97d38a85a914c2390ef31f0e176997e": {
      "model_module": "jupyter-matplotlib",
      "model_module_version": "^0.8.3",
      "model_name": "ToolbarModel",
      "state": {
       "layout": "IPY_MODEL_29a41919a1414d189c3f010c3b94fc60",
       "toolitems": [
        [
         "Home",
         "Reset original view",
         "home",
         "home"
        ],
        [
         "Back",
         "Back to previous view",
         "arrow-left",
         "back"
        ],
        [
         "Forward",
         "Forward to next view",
         "arrow-right",
         "forward"
        ],
        [
         "Pan",
         "Left button pans, Right button zooms\nx/y fixes axis, CTRL fixes aspect",
         "arrows",
         "pan"
        ],
        [
         "Zoom",
         "Zoom to rectangle\nx/y fixes axis, CTRL fixes aspect",
         "square-o",
         "zoom"
        ],
        [
         "Download",
         "Download plot",
         "floppy-o",
         "save_figure"
        ]
       ]
      }
     },
     "bc5c812dfe48497e92e62bb52e45bab4": {
      "model_module": "@jupyter-widgets/base",
      "model_module_version": "1.2.0",
      "model_name": "LayoutModel",
      "state": {}
     },
     "bd739a624a404b8281a99d812f529a74": {
      "model_module": "@jupyter-widgets/controls",
      "model_module_version": "1.5.0",
      "model_name": "DescriptionStyleModel",
      "state": {
       "description_width": ""
      }
     },
     "be0135acb8cb4ee3acc201490d50013d": {
      "model_module": "@jupyter-widgets/base",
      "model_module_version": "1.2.0",
      "model_name": "LayoutModel",
      "state": {}
     },
     "c0316ea69eae4b7aae3c4e72a647247c": {
      "model_module": "@jupyter-widgets/controls",
      "model_module_version": "1.5.0",
      "model_name": "SliderStyleModel",
      "state": {
       "description_width": ""
      }
     },
     "c3af7a8ed90f4c8c8aeb83dbbbcc70d9": {
      "model_module": "@jupyter-widgets/controls",
      "model_module_version": "1.5.0",
      "model_name": "ButtonModel",
      "state": {
       "description": "Export AITA",
       "layout": "IPY_MODEL_96accc85f0c044eebbfa942e76ec652c",
       "style": "IPY_MODEL_94fa00bbba6746e9bafad220e44b31b2"
      }
     },
     "c4d3fdf3b90a403abd2474addbb48e01": {
      "model_module": "@jupyter-widgets/controls",
      "model_module_version": "1.5.0",
      "model_name": "ButtonStyleModel",
      "state": {}
     },
     "cc4b31152ccb4d44a9f930964859e1c2": {
      "model_module": "@jupyter-widgets/base",
      "model_module_version": "1.2.0",
      "model_name": "LayoutModel",
      "state": {}
     },
     "cd74c2546f4d44c2af4f36433d8bffa9": {
      "model_module": "@jupyter-widgets/controls",
      "model_module_version": "1.5.0",
      "model_name": "DescriptionStyleModel",
      "state": {
       "description_width": ""
      }
     },
     "cdec034bbd4345528ac1e9a5cacdc562": {
      "model_module": "@jupyter-widgets/base",
      "model_module_version": "1.2.0",
      "model_name": "LayoutModel",
      "state": {}
     },
     "cf7e5d3f092d4dcb875ec2d17d0f39b1": {
      "model_module": "@jupyter-widgets/base",
      "model_module_version": "1.2.0",
      "model_name": "LayoutModel",
      "state": {}
     },
     "d09365dd5ac04918935da5f404c61b98": {
      "model_module": "@jupyter-widgets/controls",
      "model_module_version": "1.5.0",
      "model_name": "DropdownModel",
      "state": {
       "_options_labels": [
        "semi color wheel",
        "full color wheel",
        "both color wheel"
       ],
       "description": "Segmentation colormap",
       "index": 2,
       "layout": "IPY_MODEL_4059f3bf54e24be4854f4e0a406c8f03",
       "style": "IPY_MODEL_5718415bef2e461d9a9fb90909bcd271"
      }
     },
     "d1b4365cc0a846bfa4a5202ea94d826b": {
      "model_module": "@jupyter-widgets/base",
      "model_module_version": "1.2.0",
      "model_name": "LayoutModel",
      "state": {}
     },
     "d3254faba2124958aff56c432f586e20": {
      "model_module": "jupyter-matplotlib",
      "model_module_version": "^0.8.3",
      "model_name": "ToolbarModel",
      "state": {
       "layout": "IPY_MODEL_524a1dabad374751a46c00e8d000b3fe",
       "toolitems": [
        [
         "Home",
         "Reset original view",
         "home",
         "home"
        ],
        [
         "Back",
         "Back to previous view",
         "arrow-left",
         "back"
        ],
        [
         "Forward",
         "Forward to next view",
         "arrow-right",
         "forward"
        ],
        [
         "Pan",
         "Left button pans, Right button zooms\nx/y fixes axis, CTRL fixes aspect",
         "arrows",
         "pan"
        ],
        [
         "Zoom",
         "Zoom to rectangle\nx/y fixes axis, CTRL fixes aspect",
         "square-o",
         "zoom"
        ],
        [
         "Download",
         "Download plot",
         "floppy-o",
         "save_figure"
        ]
       ]
      }
     },
     "d39faef16f194bb9b4474516f8c84566": {
      "model_module": "@jupyter-widgets/controls",
      "model_module_version": "1.5.0",
      "model_name": "ButtonModel",
      "state": {
       "description": "Export AITA",
       "layout": "IPY_MODEL_2e23601092b345c18d60aef64e4ccf5c",
       "style": "IPY_MODEL_c4d3fdf3b90a403abd2474addbb48e01"
      }
     },
     "d6ac11b3624f4701a3a339f3622fe5b7": {
      "model_module": "@jupyter-widgets/base",
      "model_module_version": "1.2.0",
      "model_name": "LayoutModel",
      "state": {}
     },
     "d8c861bfdc734102b487f00e6a7e4d14": {
      "model_module": "@jupyter-widgets/base",
      "model_module_version": "1.2.0",
      "model_name": "LayoutModel",
      "state": {}
     },
     "d9c616b19c944dceb54a01f449d4c4f0": {
      "model_module": "@jupyter-widgets/base",
      "model_module_version": "1.2.0",
      "model_name": "LayoutModel",
      "state": {}
     },
     "da99ca25a07440e2b533e7070a157694": {
      "model_module": "jupyter-matplotlib",
      "model_module_version": "^0.8.3",
      "model_name": "MPLCanvasModel",
      "state": {
       "_cursor": "default",
       "_figure_label": "Figure 1",
       "_height": 1000,
       "_image_mode": "diff",
       "_width": 500,
       "layout": "IPY_MODEL_908ae9117bc2476893007592cc203139",
       "toolbar": "IPY_MODEL_b97d38a85a914c2390ef31f0e176997e",
       "toolbar_position": "left"
      }
     },
     "db1198394d25439991f92e145a31661e": {
      "model_module": "@jupyter-widgets/controls",
      "model_module_version": "1.5.0",
      "model_name": "HBoxModel",
      "state": {
       "children": [
        "IPY_MODEL_60feaa54d8834cbbb9fdb7ffccff87f1",
        "IPY_MODEL_90540f4b90f4493ea8be7e314a6579b5"
       ],
       "layout": "IPY_MODEL_01036113920841298749877ec6f08264"
      }
     },
     "ddd69c1f62fd48b5b9f3e2f23a318c59": {
      "model_module": "@jupyter-widgets/base",
      "model_module_version": "1.2.0",
      "model_name": "LayoutModel",
      "state": {}
     },
     "de71e6f212844a949f70c713289e4b88": {
      "model_module": "@jupyter-widgets/controls",
      "model_module_version": "1.5.0",
      "model_name": "CheckboxModel",
      "state": {
       "description": "Use Quality filter",
       "disabled": false,
       "layout": "IPY_MODEL_dfe32ec49790432f8850d9a91c6b91a5",
       "style": "IPY_MODEL_9740647a12934ecba361d6d88b099a0c",
       "value": true
      }
     },
     "dfe32ec49790432f8850d9a91c6b91a5": {
      "model_module": "@jupyter-widgets/base",
      "model_module_version": "1.2.0",
      "model_name": "LayoutModel",
      "state": {}
     },
     "e06bed418ffb497a80813bcbf8eb3373": {
      "model_module": "@jupyter-widgets/controls",
      "model_module_version": "1.5.0",
      "model_name": "VBoxModel",
      "state": {
       "children": [
        "IPY_MODEL_db1198394d25439991f92e145a31661e",
        "IPY_MODEL_342331443f5c4bbfb7d7ad31046ecc57",
        "IPY_MODEL_5e68de15d4b9438bbac544b529c9da22",
        "IPY_MODEL_6cb8ef4f13d344239b751e5497170bef",
        "IPY_MODEL_21bd1c67946c469ab1af07a3d8bb5fcc",
        "IPY_MODEL_450478b367df4c6a9959bc478af31810",
        "IPY_MODEL_d39faef16f194bb9b4474516f8c84566"
       ],
       "layout": "IPY_MODEL_d1b4365cc0a846bfa4a5202ea94d826b"
      }
     },
     "e0c3f051e85a4646a346cf819d4429c4": {
      "model_module": "@jupyter-widgets/output",
      "model_module_version": "1.0.0",
      "model_name": "OutputModel",
      "state": {
       "layout": "IPY_MODEL_e5a8b3a6c45e4dcd92b0d2f51f5bbbaf"
      }
     },
     "e5a8b3a6c45e4dcd92b0d2f51f5bbbaf": {
      "model_module": "@jupyter-widgets/base",
      "model_module_version": "1.2.0",
      "model_name": "LayoutModel",
      "state": {}
     },
     "e7110a6bbba14c86ae1b0fec6311b596": {
      "model_module": "@jupyter-widgets/controls",
      "model_module_version": "1.5.0",
      "model_name": "FloatSliderModel",
      "state": {
       "continuous_update": false,
       "description": "Canny filter:",
       "layout": "IPY_MODEL_a9b7064f9c814d6faa988a049fc052e4",
       "max": 10,
       "readout_format": ".1f",
       "step": 0.1,
       "style": "IPY_MODEL_2de08cbcc3824d429d9f47973fa56c64",
       "value": 1.5
      }
     },
     "f0f035fc529042418803e92ac3b8221c": {
      "model_module": "@jupyter-widgets/base",
      "model_module_version": "1.2.0",
      "model_name": "LayoutModel",
      "state": {}
     },
     "f166df4a25eb4cc28b0a99721aa0e39a": {
      "model_module": "@jupyter-widgets/base",
      "model_module_version": "1.2.0",
      "model_name": "LayoutModel",
      "state": {}
     },
     "f34f3c7806214b64a6c2454dd84a9411": {
      "model_module": "@jupyter-widgets/base",
      "model_module_version": "1.2.0",
      "model_name": "LayoutModel",
      "state": {}
     },
     "f4d92719f3524e0b853566b3bb7f0209": {
      "model_module": "@jupyter-widgets/controls",
      "model_module_version": "1.5.0",
      "model_name": "CheckboxModel",
      "state": {
       "description": "Use scharr filter",
       "disabled": false,
       "layout": "IPY_MODEL_4a5195df4a194e06b724ddda11b0e95f",
       "style": "IPY_MODEL_9c0c1805bcb44c8dba175525611e188a",
       "value": true
      }
     },
     "f51ce80769124a4bb3902e06de7258cc": {
      "model_module": "@jupyter-widgets/controls",
      "model_module_version": "1.5.0",
      "model_name": "DescriptionStyleModel",
      "state": {
       "description_width": ""
      }
     },
     "f9086bfda5b84c92a85feccb4c68e0ed": {
      "model_module": "@jupyter-widgets/controls",
      "model_module_version": "1.5.0",
      "model_name": "SliderStyleModel",
      "state": {
       "description_width": ""
      }
     },
     "fc338b2dcb254aa28c77b71e0e686771": {
      "model_module": "@jupyter-widgets/base",
      "model_module_version": "1.2.0",
      "model_name": "LayoutModel",
      "state": {}
     },
     "fd6d4be6c4ed4c33b774a248be71258a": {
      "model_module": "@jupyter-widgets/base",
      "model_module_version": "1.2.0",
      "model_name": "LayoutModel",
      "state": {}
     }
    },
    "version_major": 2,
    "version_minor": 0
   }
  }
 },
 "nbformat": 4,
 "nbformat_minor": 5
}
