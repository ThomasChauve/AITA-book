{
 "cells": [
  {
   "cell_type": "markdown",
   "id": "vietnamese-radio",
   "metadata": {},
   "source": [
    "# Welcome to AITA book\n",
    "\n",
    "The aim of this toolbox is to provide a tools to performed data analysis on orientation map.\n",
    "\n",
    "An orientation map is a 2d image where a 3d unit vector is assign at each pixel.\n",
    "\n",
    "Those analysis are build around [`xarray`](http://xarray.pydata.org/en/stable/) librairy and two accessor [`xarrayaita`](https://github.com/ThomasChauve/xarray_aita) and [`xarrayuvecs`](https://github.com/ThomasChauve/xarray_uvecs).\n",
    "\n",
    "All this documentation is build from jupyter-notebook and can be run using [MyBinder](https://mybinder.org/v2/gh/ThomasChauve/AITA-book/main?urlpath=lab/tree/./docs/Quick_start.ipynb) by clicking on the \"launch button\" on the top right of this page (the little rocket 🚀)."
   ]
  },
  {
   "cell_type": "markdown",
   "id": "underlying-toner",
   "metadata": {},
   "source": [
    "## Tutorials\n",
    "- [Quick start](Quick_start.ipynb) : Short tutorial to plot colormap and pole figure from your dataset.\n",
    "- [Crop data](Crop_data.ipynb) : Crop your data.\n",
    "- [Misorientation profile](mis_profile.ipynb) : Plot misorientation profile along a line.\n",
    "- [Mean grain](mean_grain.ipynb) : Compute the average orientation per grains.\n",
    "- [Misorientation angle distribution](mis_angle_dist.ipynb) : Compute misorientation angle distribution."
   ]
  },
  {
   "cell_type": "markdown",
   "id": "tutorial-recall",
   "metadata": {},
   "source": [
    "## The xarray dependencies\n",
    "- [`aita` accessor](The_dataset_structure.ipynb) : A `xarray.Dataset` accesor for managing orientation data. \n",
    "- [`uvecs` accessor](The_dataArray_structure.ipynb) : `uvecs` for \"**U**nit **VEC**ctor that are **S**ymmetrical\" management (**UVECS**). A `xarray.DataArray` accesor. "
   ]
  },
  {
   "cell_type": "markdown",
   "id": "velvet-reservation",
   "metadata": {},
   "source": [
    "## Install environement\n",
    "\n",
    "If you want to install your the python environnement locally on your computer, we recomand using [conda](https://docs.conda.io/projects/conda/en/latest/index.html). You can follow this [quick start](https://docs.conda.io/projects/conda/en/latest/user-guide/getting-started.html) to set-up conda.\n",
    "\n",
    "Once conda is set-up you can install your environement using the [`environment.yml`](https://github.com/ThomasChauve/AITA-book/blob/main/environment.yml) file.\n",
    "\n",
    "`conda env create -n MyenvAITA -f environment.yml`\n",
    "\n",
    "To activate this environment use :\n",
    "\n",
    "`conda activate MyenvAITA`"
   ]
  },
  {
   "cell_type": "markdown",
   "id": "integrated-filling",
   "metadata": {},
   "source": [
    "## Play with the notebook on your computer\n",
    "\n",
    "You can clone this repository :\n",
    "\n",
    "`conda clone https://github.com/ThomasChauve/AITA-book`"
   ]
  },
  {
   "cell_type": "markdown",
   "id": "boring-writer",
   "metadata": {},
   "source": [
    "## Contribute\n",
    "You are welcome to contribute to the project. Here are some way to contribute to it :\n",
    "\n",
    "1. [Submit commit](https://github.com/ThomasChauve/AITA-book/pulls) to fix bug or add news functionalities.\n",
    "2. Repport [issues](https://github.com/ThomasChauve/AITA-book/issues) that you found using those tools.\n",
    "3. Talk about the tools around you if you find it interesting and/or put a star on it.\n",
    "\n",
    "Feel free to [contact me](mailto:thomas.chauve@univ-grenoble-alpes.fr) if you like to discuss about it."
   ]
  }
 ],
 "metadata": {
  "kernelspec": {
   "display_name": "basepy38",
   "language": "python",
   "name": "basepy38"
  },
  "language_info": {
   "codemirror_mode": {
    "name": "ipython",
    "version": 3
   },
   "file_extension": ".py",
   "mimetype": "text/x-python",
   "name": "python",
   "nbconvert_exporter": "python",
   "pygments_lexer": "ipython3",
   "version": "3.8.8"
  }
 },
 "nbformat": 4,
 "nbformat_minor": 5
}
