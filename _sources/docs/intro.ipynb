{
 "cells": [
  {
   "cell_type": "markdown",
   "id": "sunset-speed",
   "metadata": {},
   "source": [
    "# Welcome to AITA book\n",
    "\n",
    "The aim of this toolbox is to provide a tools to performed data analysis on orientation map.\n",
    "\n",
    "An orientation map is a 2d image where a 3d unit vector is assign at each pixel.\n",
    "\n",
    "Those analysis are build around [`xarray`](http://xarray.pydata.org/en/stable/) librairy and two accessor [`xarrayaita`](https://github.com/ThomasChauve/xarray_aita) and [`xarrayuvecs`](https://github.com/ThomasChauve/xarray_uvecs).\n",
    "\n",
    "All this documentation is build from jupyter-notebook and can be run using [MyBinder](https://mybinder.org/v2/gh/ThomasChauve/AITA-book/main?urlpath=lab/tree/./docs/Quick_start.ipynb) by clicking on the \"launch button\" on the top right of this page (the little rocket 🚀)."
   ]
  },
  {
   "cell_type": "markdown",
   "id": "split-receptor",
   "metadata": {},
   "source": [
    "## Tutorials\n",
    "- [Quick start](Quick_start.ipynb) : Short tutorial to plot colormap and pole figure from your dataset."
   ]
  },
  {
   "cell_type": "markdown",
   "id": "unauthorized-driver",
   "metadata": {},
   "source": [
    "## The xarray dependencies\n",
    "- [`aita` accessor](The_dataset_structure.ipynb) : A `xarray.Dataset` accesor for managing orientation data. \n",
    "- [`uvecs` accessor](The_dataArray_structure.ipynb) : `uvecs` for \"**U**nit **VEC**ctor that are **S**ymmetrical\" management (**UVECS**). A `xarray.DataArray` accesor. "
   ]
  }
 ],
 "metadata": {
  "kernelspec": {
   "display_name": "basepy38",
   "language": "python",
   "name": "basepy38"
  },
  "language_info": {
   "codemirror_mode": {
    "name": "ipython",
    "version": 3
   },
   "file_extension": ".py",
   "mimetype": "text/x-python",
   "name": "python",
   "nbconvert_exporter": "python",
   "pygments_lexer": "ipython3",
   "version": "3.8.8"
  }
 },
 "nbformat": 4,
 "nbformat_minor": 5
}
