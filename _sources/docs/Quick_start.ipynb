{
 "cells": [
  {
   "cell_type": "markdown",
   "id": "passing-acoustic",
   "metadata": {},
   "source": [
    "# Quick start\n",
    "This notebook is for a quick start to plot basic result from the [G50 fabric analyser](http://www.russellheadinstruments.com/files/G50%20brochure%2009Jan08%20rev1.pdf)."
   ]
  },
  {
   "cell_type": "code",
   "execution_count": 1,
   "id": "impossible-picking",
   "metadata": {},
   "outputs": [],
   "source": [
    "import xarrayaita.loadData_aita as lda #here are some function to build xarrayaita structure\n",
    "import xarrayaita.aita as xa\n",
    "import xarrayuvecs.uvecs as xu\n",
    "import xarrayuvecs.lut2d as lut2d\n",
    "\n",
    "import matplotlib.pyplot as plt\n",
    "import matplotlib.cm as cm\n",
    "import numpy as np"
   ]
  },
  {
   "cell_type": "markdown",
   "id": "individual-preparation",
   "metadata": {},
   "source": [
    "## Load your data"
   ]
  },
  {
   "cell_type": "code",
   "execution_count": 2,
   "id": "juvenile-print",
   "metadata": {
    "jupyter": {
     "source_hidden": true
    },
    "tags": []
   },
   "outputs": [],
   "source": [
    "# path to data and microstructure\n",
    "path_data='orientation_test.dat'\n",
    "path_micro='micro_test.bmp'"
   ]
  },
  {
   "cell_type": "code",
   "execution_count": 3,
   "id": "technical-refrigerator",
   "metadata": {},
   "outputs": [],
   "source": [
    "data=lda.aita5col(path_data,path_micro)"
   ]
  },
  {
   "cell_type": "code",
   "execution_count": 4,
   "id": "forty-celebrity",
   "metadata": {},
   "outputs": [
    {
     "data": {
      "text/html": [
       "<div><svg style=\"position: absolute; width: 0; height: 0; overflow: hidden\">\n",
       "<defs>\n",
       "<symbol id=\"icon-database\" viewBox=\"0 0 32 32\">\n",
       "<path d=\"M16 0c-8.837 0-16 2.239-16 5v4c0 2.761 7.163 5 16 5s16-2.239 16-5v-4c0-2.761-7.163-5-16-5z\"></path>\n",
       "<path d=\"M16 17c-8.837 0-16-2.239-16-5v6c0 2.761 7.163 5 16 5s16-2.239 16-5v-6c0 2.761-7.163 5-16 5z\"></path>\n",
       "<path d=\"M16 26c-8.837 0-16-2.239-16-5v6c0 2.761 7.163 5 16 5s16-2.239 16-5v-6c0 2.761-7.163 5-16 5z\"></path>\n",
       "</symbol>\n",
       "<symbol id=\"icon-file-text2\" viewBox=\"0 0 32 32\">\n",
       "<path d=\"M28.681 7.159c-0.694-0.947-1.662-2.053-2.724-3.116s-2.169-2.030-3.116-2.724c-1.612-1.182-2.393-1.319-2.841-1.319h-15.5c-1.378 0-2.5 1.121-2.5 2.5v27c0 1.378 1.122 2.5 2.5 2.5h23c1.378 0 2.5-1.122 2.5-2.5v-19.5c0-0.448-0.137-1.23-1.319-2.841zM24.543 5.457c0.959 0.959 1.712 1.825 2.268 2.543h-4.811v-4.811c0.718 0.556 1.584 1.309 2.543 2.268zM28 29.5c0 0.271-0.229 0.5-0.5 0.5h-23c-0.271 0-0.5-0.229-0.5-0.5v-27c0-0.271 0.229-0.5 0.5-0.5 0 0 15.499-0 15.5 0v7c0 0.552 0.448 1 1 1h7v19.5z\"></path>\n",
       "<path d=\"M23 26h-14c-0.552 0-1-0.448-1-1s0.448-1 1-1h14c0.552 0 1 0.448 1 1s-0.448 1-1 1z\"></path>\n",
       "<path d=\"M23 22h-14c-0.552 0-1-0.448-1-1s0.448-1 1-1h14c0.552 0 1 0.448 1 1s-0.448 1-1 1z\"></path>\n",
       "<path d=\"M23 18h-14c-0.552 0-1-0.448-1-1s0.448-1 1-1h14c0.552 0 1 0.448 1 1s-0.448 1-1 1z\"></path>\n",
       "</symbol>\n",
       "</defs>\n",
       "</svg>\n",
       "<style>/* CSS stylesheet for displaying xarray objects in jupyterlab.\n",
       " *\n",
       " */\n",
       "\n",
       ":root {\n",
       "  --xr-font-color0: var(--jp-content-font-color0, rgba(0, 0, 0, 1));\n",
       "  --xr-font-color2: var(--jp-content-font-color2, rgba(0, 0, 0, 0.54));\n",
       "  --xr-font-color3: var(--jp-content-font-color3, rgba(0, 0, 0, 0.38));\n",
       "  --xr-border-color: var(--jp-border-color2, #e0e0e0);\n",
       "  --xr-disabled-color: var(--jp-layout-color3, #bdbdbd);\n",
       "  --xr-background-color: var(--jp-layout-color0, white);\n",
       "  --xr-background-color-row-even: var(--jp-layout-color1, white);\n",
       "  --xr-background-color-row-odd: var(--jp-layout-color2, #eeeeee);\n",
       "}\n",
       "\n",
       "html[theme=dark],\n",
       "body.vscode-dark {\n",
       "  --xr-font-color0: rgba(255, 255, 255, 1);\n",
       "  --xr-font-color2: rgba(255, 255, 255, 0.54);\n",
       "  --xr-font-color3: rgba(255, 255, 255, 0.38);\n",
       "  --xr-border-color: #1F1F1F;\n",
       "  --xr-disabled-color: #515151;\n",
       "  --xr-background-color: #111111;\n",
       "  --xr-background-color-row-even: #111111;\n",
       "  --xr-background-color-row-odd: #313131;\n",
       "}\n",
       "\n",
       ".xr-wrap {\n",
       "  display: block;\n",
       "  min-width: 300px;\n",
       "  max-width: 700px;\n",
       "}\n",
       "\n",
       ".xr-text-repr-fallback {\n",
       "  /* fallback to plain text repr when CSS is not injected (untrusted notebook) */\n",
       "  display: none;\n",
       "}\n",
       "\n",
       ".xr-header {\n",
       "  padding-top: 6px;\n",
       "  padding-bottom: 6px;\n",
       "  margin-bottom: 4px;\n",
       "  border-bottom: solid 1px var(--xr-border-color);\n",
       "}\n",
       "\n",
       ".xr-header > div,\n",
       ".xr-header > ul {\n",
       "  display: inline;\n",
       "  margin-top: 0;\n",
       "  margin-bottom: 0;\n",
       "}\n",
       "\n",
       ".xr-obj-type,\n",
       ".xr-array-name {\n",
       "  margin-left: 2px;\n",
       "  margin-right: 10px;\n",
       "}\n",
       "\n",
       ".xr-obj-type {\n",
       "  color: var(--xr-font-color2);\n",
       "}\n",
       "\n",
       ".xr-sections {\n",
       "  padding-left: 0 !important;\n",
       "  display: grid;\n",
       "  grid-template-columns: 150px auto auto 1fr 20px 20px;\n",
       "}\n",
       "\n",
       ".xr-section-item {\n",
       "  display: contents;\n",
       "}\n",
       "\n",
       ".xr-section-item input {\n",
       "  display: none;\n",
       "}\n",
       "\n",
       ".xr-section-item input + label {\n",
       "  color: var(--xr-disabled-color);\n",
       "}\n",
       "\n",
       ".xr-section-item input:enabled + label {\n",
       "  cursor: pointer;\n",
       "  color: var(--xr-font-color2);\n",
       "}\n",
       "\n",
       ".xr-section-item input:enabled + label:hover {\n",
       "  color: var(--xr-font-color0);\n",
       "}\n",
       "\n",
       ".xr-section-summary {\n",
       "  grid-column: 1;\n",
       "  color: var(--xr-font-color2);\n",
       "  font-weight: 500;\n",
       "}\n",
       "\n",
       ".xr-section-summary > span {\n",
       "  display: inline-block;\n",
       "  padding-left: 0.5em;\n",
       "}\n",
       "\n",
       ".xr-section-summary-in:disabled + label {\n",
       "  color: var(--xr-font-color2);\n",
       "}\n",
       "\n",
       ".xr-section-summary-in + label:before {\n",
       "  display: inline-block;\n",
       "  content: '►';\n",
       "  font-size: 11px;\n",
       "  width: 15px;\n",
       "  text-align: center;\n",
       "}\n",
       "\n",
       ".xr-section-summary-in:disabled + label:before {\n",
       "  color: var(--xr-disabled-color);\n",
       "}\n",
       "\n",
       ".xr-section-summary-in:checked + label:before {\n",
       "  content: '▼';\n",
       "}\n",
       "\n",
       ".xr-section-summary-in:checked + label > span {\n",
       "  display: none;\n",
       "}\n",
       "\n",
       ".xr-section-summary,\n",
       ".xr-section-inline-details {\n",
       "  padding-top: 4px;\n",
       "  padding-bottom: 4px;\n",
       "}\n",
       "\n",
       ".xr-section-inline-details {\n",
       "  grid-column: 2 / -1;\n",
       "}\n",
       "\n",
       ".xr-section-details {\n",
       "  display: none;\n",
       "  grid-column: 1 / -1;\n",
       "  margin-bottom: 5px;\n",
       "}\n",
       "\n",
       ".xr-section-summary-in:checked ~ .xr-section-details {\n",
       "  display: contents;\n",
       "}\n",
       "\n",
       ".xr-array-wrap {\n",
       "  grid-column: 1 / -1;\n",
       "  display: grid;\n",
       "  grid-template-columns: 20px auto;\n",
       "}\n",
       "\n",
       ".xr-array-wrap > label {\n",
       "  grid-column: 1;\n",
       "  vertical-align: top;\n",
       "}\n",
       "\n",
       ".xr-preview {\n",
       "  color: var(--xr-font-color3);\n",
       "}\n",
       "\n",
       ".xr-array-preview,\n",
       ".xr-array-data {\n",
       "  padding: 0 5px !important;\n",
       "  grid-column: 2;\n",
       "}\n",
       "\n",
       ".xr-array-data,\n",
       ".xr-array-in:checked ~ .xr-array-preview {\n",
       "  display: none;\n",
       "}\n",
       "\n",
       ".xr-array-in:checked ~ .xr-array-data,\n",
       ".xr-array-preview {\n",
       "  display: inline-block;\n",
       "}\n",
       "\n",
       ".xr-dim-list {\n",
       "  display: inline-block !important;\n",
       "  list-style: none;\n",
       "  padding: 0 !important;\n",
       "  margin: 0;\n",
       "}\n",
       "\n",
       ".xr-dim-list li {\n",
       "  display: inline-block;\n",
       "  padding: 0;\n",
       "  margin: 0;\n",
       "}\n",
       "\n",
       ".xr-dim-list:before {\n",
       "  content: '(';\n",
       "}\n",
       "\n",
       ".xr-dim-list:after {\n",
       "  content: ')';\n",
       "}\n",
       "\n",
       ".xr-dim-list li:not(:last-child):after {\n",
       "  content: ',';\n",
       "  padding-right: 5px;\n",
       "}\n",
       "\n",
       ".xr-has-index {\n",
       "  font-weight: bold;\n",
       "}\n",
       "\n",
       ".xr-var-list,\n",
       ".xr-var-item {\n",
       "  display: contents;\n",
       "}\n",
       "\n",
       ".xr-var-item > div,\n",
       ".xr-var-item label,\n",
       ".xr-var-item > .xr-var-name span {\n",
       "  background-color: var(--xr-background-color-row-even);\n",
       "  margin-bottom: 0;\n",
       "}\n",
       "\n",
       ".xr-var-item > .xr-var-name:hover span {\n",
       "  padding-right: 5px;\n",
       "}\n",
       "\n",
       ".xr-var-list > li:nth-child(odd) > div,\n",
       ".xr-var-list > li:nth-child(odd) > label,\n",
       ".xr-var-list > li:nth-child(odd) > .xr-var-name span {\n",
       "  background-color: var(--xr-background-color-row-odd);\n",
       "}\n",
       "\n",
       ".xr-var-name {\n",
       "  grid-column: 1;\n",
       "}\n",
       "\n",
       ".xr-var-dims {\n",
       "  grid-column: 2;\n",
       "}\n",
       "\n",
       ".xr-var-dtype {\n",
       "  grid-column: 3;\n",
       "  text-align: right;\n",
       "  color: var(--xr-font-color2);\n",
       "}\n",
       "\n",
       ".xr-var-preview {\n",
       "  grid-column: 4;\n",
       "}\n",
       "\n",
       ".xr-var-name,\n",
       ".xr-var-dims,\n",
       ".xr-var-dtype,\n",
       ".xr-preview,\n",
       ".xr-attrs dt {\n",
       "  white-space: nowrap;\n",
       "  overflow: hidden;\n",
       "  text-overflow: ellipsis;\n",
       "  padding-right: 10px;\n",
       "}\n",
       "\n",
       ".xr-var-name:hover,\n",
       ".xr-var-dims:hover,\n",
       ".xr-var-dtype:hover,\n",
       ".xr-attrs dt:hover {\n",
       "  overflow: visible;\n",
       "  width: auto;\n",
       "  z-index: 1;\n",
       "}\n",
       "\n",
       ".xr-var-attrs,\n",
       ".xr-var-data {\n",
       "  display: none;\n",
       "  background-color: var(--xr-background-color) !important;\n",
       "  padding-bottom: 5px !important;\n",
       "}\n",
       "\n",
       ".xr-var-attrs-in:checked ~ .xr-var-attrs,\n",
       ".xr-var-data-in:checked ~ .xr-var-data {\n",
       "  display: block;\n",
       "}\n",
       "\n",
       ".xr-var-data > table {\n",
       "  float: right;\n",
       "}\n",
       "\n",
       ".xr-var-name span,\n",
       ".xr-var-data,\n",
       ".xr-attrs {\n",
       "  padding-left: 25px !important;\n",
       "}\n",
       "\n",
       ".xr-attrs,\n",
       ".xr-var-attrs,\n",
       ".xr-var-data {\n",
       "  grid-column: 1 / -1;\n",
       "}\n",
       "\n",
       "dl.xr-attrs {\n",
       "  padding: 0;\n",
       "  margin: 0;\n",
       "  display: grid;\n",
       "  grid-template-columns: 125px auto;\n",
       "}\n",
       "\n",
       ".xr-attrs dt,\n",
       ".xr-attrs dd {\n",
       "  padding: 0;\n",
       "  margin: 0;\n",
       "  float: left;\n",
       "  padding-right: 10px;\n",
       "  width: auto;\n",
       "}\n",
       "\n",
       ".xr-attrs dt {\n",
       "  font-weight: normal;\n",
       "  grid-column: 1;\n",
       "}\n",
       "\n",
       ".xr-attrs dt:hover span {\n",
       "  display: inline-block;\n",
       "  background: var(--xr-background-color);\n",
       "  padding-right: 10px;\n",
       "}\n",
       "\n",
       ".xr-attrs dd {\n",
       "  grid-column: 2;\n",
       "  white-space: pre-wrap;\n",
       "  word-break: break-all;\n",
       "}\n",
       "\n",
       ".xr-icon-database,\n",
       ".xr-icon-file-text2 {\n",
       "  display: inline-block;\n",
       "  vertical-align: middle;\n",
       "  width: 1em;\n",
       "  height: 1.5em !important;\n",
       "  stroke-width: 0;\n",
       "  stroke: currentColor;\n",
       "  fill: currentColor;\n",
       "}\n",
       "</style><pre class='xr-text-repr-fallback'>&lt;xarray.Dataset&gt;\n",
       "Dimensions:      (uvecs: 2, x: 1000, y: 2500)\n",
       "Coordinates:\n",
       "  * x            (x) float64 0.0 0.02 0.04 0.06 0.08 ... 19.92 19.94 19.96 19.98\n",
       "  * y            (y) float64 49.98 49.96 49.94 49.92 49.9 ... 0.06 0.04 0.02 0.0\n",
       "Dimensions without coordinates: uvecs\n",
       "Data variables:\n",
       "    orientation  (y, x, uvecs) float64 2.395 0.6451 5.377 ... 0.6098 0.6473\n",
       "    quality      (y, x) int64 0 90 92 93 92 92 94 94 ... 96 96 96 96 96 97 97 96\n",
       "    micro        (y, x) float64 0.0 0.0 0.0 0.0 0.0 0.0 ... 0.0 0.0 0.0 0.0 0.0\n",
       "    grainId      (y, x) int64 1 1 1 1 1 1 1 1 1 1 1 1 ... 1 1 1 1 1 1 1 1 1 1 1\n",
       "Attributes:\n",
       "    date:       Thursday, 19 Nov 2015, 11:24 am\n",
       "    unit:       millimeters\n",
       "    step_size:  0.02\n",
       "    path_dat:   orientation_test.dat</pre><div class='xr-wrap' hidden><div class='xr-header'><div class='xr-obj-type'>xarray.Dataset</div></div><ul class='xr-sections'><li class='xr-section-item'><input id='section-db9aa7ad-ddf2-4780-b3a4-6f3838f8ceb9' class='xr-section-summary-in' type='checkbox' disabled ><label for='section-db9aa7ad-ddf2-4780-b3a4-6f3838f8ceb9' class='xr-section-summary'  title='Expand/collapse section'>Dimensions:</label><div class='xr-section-inline-details'><ul class='xr-dim-list'><li><span>uvecs</span>: 2</li><li><span class='xr-has-index'>x</span>: 1000</li><li><span class='xr-has-index'>y</span>: 2500</li></ul></div><div class='xr-section-details'></div></li><li class='xr-section-item'><input id='section-0ba43c15-5fbc-44b8-ac1e-0582923f4bea' class='xr-section-summary-in' type='checkbox'  checked><label for='section-0ba43c15-5fbc-44b8-ac1e-0582923f4bea' class='xr-section-summary' >Coordinates: <span>(2)</span></label><div class='xr-section-inline-details'></div><div class='xr-section-details'><ul class='xr-var-list'><li class='xr-var-item'><div class='xr-var-name'><span class='xr-has-index'>x</span></div><div class='xr-var-dims'>(x)</div><div class='xr-var-dtype'>float64</div><div class='xr-var-preview xr-preview'>0.0 0.02 0.04 ... 19.94 19.96 19.98</div><input id='attrs-6cd0985b-51bf-4aee-8cba-3c97949005df' class='xr-var-attrs-in' type='checkbox' disabled><label for='attrs-6cd0985b-51bf-4aee-8cba-3c97949005df' title='Show/Hide attributes'><svg class='icon xr-icon-file-text2'><use xlink:href='#icon-file-text2'></use></svg></label><input id='data-15013238-dbdf-4559-bf9a-e628bf5d75b0' class='xr-var-data-in' type='checkbox'><label for='data-15013238-dbdf-4559-bf9a-e628bf5d75b0' title='Show/Hide data repr'><svg class='icon xr-icon-database'><use xlink:href='#icon-database'></use></svg></label><div class='xr-var-attrs'><dl class='xr-attrs'></dl></div><div class='xr-var-data'><pre>array([ 0.  ,  0.02,  0.04, ..., 19.94, 19.96, 19.98])</pre></div></li><li class='xr-var-item'><div class='xr-var-name'><span class='xr-has-index'>y</span></div><div class='xr-var-dims'>(y)</div><div class='xr-var-dtype'>float64</div><div class='xr-var-preview xr-preview'>49.98 49.96 49.94 ... 0.04 0.02 0.0</div><input id='attrs-578c081e-107c-445f-8bc1-2d820bfb9e07' class='xr-var-attrs-in' type='checkbox' disabled><label for='attrs-578c081e-107c-445f-8bc1-2d820bfb9e07' title='Show/Hide attributes'><svg class='icon xr-icon-file-text2'><use xlink:href='#icon-file-text2'></use></svg></label><input id='data-f388c191-a387-4bb2-81a0-49eb94769293' class='xr-var-data-in' type='checkbox'><label for='data-f388c191-a387-4bb2-81a0-49eb94769293' title='Show/Hide data repr'><svg class='icon xr-icon-database'><use xlink:href='#icon-database'></use></svg></label><div class='xr-var-attrs'><dl class='xr-attrs'></dl></div><div class='xr-var-data'><pre>array([4.998e+01, 4.996e+01, 4.994e+01, ..., 4.000e-02, 2.000e-02, 0.000e+00])</pre></div></li></ul></div></li><li class='xr-section-item'><input id='section-fdb1afb3-1c38-4ee0-9404-6bd954a75376' class='xr-section-summary-in' type='checkbox'  checked><label for='section-fdb1afb3-1c38-4ee0-9404-6bd954a75376' class='xr-section-summary' >Data variables: <span>(4)</span></label><div class='xr-section-inline-details'></div><div class='xr-section-details'><ul class='xr-var-list'><li class='xr-var-item'><div class='xr-var-name'><span>orientation</span></div><div class='xr-var-dims'>(y, x, uvecs)</div><div class='xr-var-dtype'>float64</div><div class='xr-var-preview xr-preview'>2.395 0.6451 ... 0.6098 0.6473</div><input id='attrs-6c557698-ad2a-49a6-88ae-603b8d369247' class='xr-var-attrs-in' type='checkbox' disabled><label for='attrs-6c557698-ad2a-49a6-88ae-603b8d369247' title='Show/Hide attributes'><svg class='icon xr-icon-file-text2'><use xlink:href='#icon-file-text2'></use></svg></label><input id='data-c25c135c-7aae-46cd-acfe-13008d67001c' class='xr-var-data-in' type='checkbox'><label for='data-c25c135c-7aae-46cd-acfe-13008d67001c' title='Show/Hide data repr'><svg class='icon xr-icon-database'><use xlink:href='#icon-database'></use></svg></label><div class='xr-var-attrs'><dl class='xr-attrs'></dl></div><div class='xr-var-data'><pre>array([[[2.39476627, 0.64507369],\n",
       "        [5.37718489, 1.04999008],\n",
       "        [5.38905313, 1.05627326],\n",
       "        ...,\n",
       "        [2.05826679, 0.49654617],\n",
       "        [5.65731024, 0.94160513],\n",
       "        [5.68523551, 1.03218772]],\n",
       "\n",
       "       [[5.35955707, 1.15837502],\n",
       "        [5.35885894, 1.12975162],\n",
       "        [5.3613024 , 1.11701072],\n",
       "        ...,\n",
       "        [2.07659274, 0.52063172],\n",
       "        [5.64753639, 0.94073247],\n",
       "        [5.67912685, 1.04143796]],\n",
       "\n",
       "       [[5.36304773, 1.23045712],\n",
       "        [5.36165146, 1.23132979],\n",
       "        [2.38656322, 0.57246799],\n",
       "        ...,\n",
       "...\n",
       "        ...,\n",
       "        [0.62378067, 0.625526  ],\n",
       "        [0.61784656, 0.61994095],\n",
       "        [0.61645029, 0.61400683]],\n",
       "\n",
       "       [[0.68085294, 1.12399204],\n",
       "        [0.68050388, 1.12730816],\n",
       "        [0.67840948, 1.13900187],\n",
       "        ...,\n",
       "        [0.64123397, 0.62954026],\n",
       "        [0.62430427, 0.63529985],\n",
       "        [0.61575216, 0.62203535]],\n",
       "\n",
       "       [[0.67701322, 1.13236962],\n",
       "        [0.67753682, 1.13690747],\n",
       "        [0.67840948, 1.13149695],\n",
       "        ...,\n",
       "        [0.63652158, 0.61418136],\n",
       "        [0.61645029, 0.63948864],\n",
       "        [0.60981804, 0.64734262]]])</pre></div></li><li class='xr-var-item'><div class='xr-var-name'><span>quality</span></div><div class='xr-var-dims'>(y, x)</div><div class='xr-var-dtype'>int64</div><div class='xr-var-preview xr-preview'>0 90 92 93 92 92 ... 96 96 97 97 96</div><input id='attrs-dd8bfd10-caca-4725-9565-bcd6a85af747' class='xr-var-attrs-in' type='checkbox' disabled><label for='attrs-dd8bfd10-caca-4725-9565-bcd6a85af747' title='Show/Hide attributes'><svg class='icon xr-icon-file-text2'><use xlink:href='#icon-file-text2'></use></svg></label><input id='data-43d8351a-dbdd-40ae-bd37-777ea553fdda' class='xr-var-data-in' type='checkbox'><label for='data-43d8351a-dbdd-40ae-bd37-777ea553fdda' title='Show/Hide data repr'><svg class='icon xr-icon-database'><use xlink:href='#icon-database'></use></svg></label><div class='xr-var-attrs'><dl class='xr-attrs'></dl></div><div class='xr-var-data'><pre>array([[ 0, 90, 92, ...,  0, 85, 90],\n",
       "       [81, 82, 83, ...,  0, 84, 89],\n",
       "       [81, 80,  3, ...,  0, 79, 88],\n",
       "       ...,\n",
       "       [90, 91, 91, ..., 95, 95, 95],\n",
       "       [91, 92, 91, ..., 95, 95, 95],\n",
       "       [92, 92, 91, ..., 97, 97, 96]])</pre></div></li><li class='xr-var-item'><div class='xr-var-name'><span>micro</span></div><div class='xr-var-dims'>(y, x)</div><div class='xr-var-dtype'>float64</div><div class='xr-var-preview xr-preview'>0.0 0.0 0.0 0.0 ... 0.0 0.0 0.0 0.0</div><input id='attrs-2e4cef13-cf32-400b-9e53-be8593081fc5' class='xr-var-attrs-in' type='checkbox' disabled><label for='attrs-2e4cef13-cf32-400b-9e53-be8593081fc5' title='Show/Hide attributes'><svg class='icon xr-icon-file-text2'><use xlink:href='#icon-file-text2'></use></svg></label><input id='data-75362600-b124-46d2-95fb-9b216a09861a' class='xr-var-data-in' type='checkbox'><label for='data-75362600-b124-46d2-95fb-9b216a09861a' title='Show/Hide data repr'><svg class='icon xr-icon-database'><use xlink:href='#icon-database'></use></svg></label><div class='xr-var-attrs'><dl class='xr-attrs'></dl></div><div class='xr-var-data'><pre>array([[0., 0., 0., ..., 0., 0., 0.],\n",
       "       [0., 0., 0., ..., 0., 0., 0.],\n",
       "       [0., 0., 0., ..., 0., 0., 0.],\n",
       "       ...,\n",
       "       [0., 0., 0., ..., 0., 0., 0.],\n",
       "       [0., 0., 0., ..., 0., 0., 0.],\n",
       "       [0., 0., 0., ..., 0., 0., 0.]])</pre></div></li><li class='xr-var-item'><div class='xr-var-name'><span>grainId</span></div><div class='xr-var-dims'>(y, x)</div><div class='xr-var-dtype'>int64</div><div class='xr-var-preview xr-preview'>1 1 1 1 1 1 1 1 ... 1 1 1 1 1 1 1 1</div><input id='attrs-3cd71ef9-f364-4987-90fe-062e6156b31a' class='xr-var-attrs-in' type='checkbox' disabled><label for='attrs-3cd71ef9-f364-4987-90fe-062e6156b31a' title='Show/Hide attributes'><svg class='icon xr-icon-file-text2'><use xlink:href='#icon-file-text2'></use></svg></label><input id='data-9cc0dfe1-fd7a-4650-a197-00b63ee4c18c' class='xr-var-data-in' type='checkbox'><label for='data-9cc0dfe1-fd7a-4650-a197-00b63ee4c18c' title='Show/Hide data repr'><svg class='icon xr-icon-database'><use xlink:href='#icon-database'></use></svg></label><div class='xr-var-attrs'><dl class='xr-attrs'></dl></div><div class='xr-var-data'><pre>array([[1, 1, 1, ..., 1, 1, 1],\n",
       "       [1, 1, 1, ..., 1, 1, 1],\n",
       "       [1, 1, 1, ..., 1, 1, 1],\n",
       "       ...,\n",
       "       [1, 1, 1, ..., 1, 1, 1],\n",
       "       [1, 1, 1, ..., 1, 1, 1],\n",
       "       [1, 1, 1, ..., 1, 1, 1]])</pre></div></li></ul></div></li><li class='xr-section-item'><input id='section-80fc71b2-96ca-430b-b9d3-feabaf59e6b5' class='xr-section-summary-in' type='checkbox'  checked><label for='section-80fc71b2-96ca-430b-b9d3-feabaf59e6b5' class='xr-section-summary' >Attributes: <span>(4)</span></label><div class='xr-section-inline-details'></div><div class='xr-section-details'><dl class='xr-attrs'><dt><span>date :</span></dt><dd>Thursday, 19 Nov 2015, 11:24 am</dd><dt><span>unit :</span></dt><dd>millimeters</dd><dt><span>step_size :</span></dt><dd>0.02</dd><dt><span>path_dat :</span></dt><dd>orientation_test.dat</dd></dl></div></li></ul></div></div>"
      ],
      "text/plain": [
       "<xarray.Dataset>\n",
       "Dimensions:      (uvecs: 2, x: 1000, y: 2500)\n",
       "Coordinates:\n",
       "  * x            (x) float64 0.0 0.02 0.04 0.06 0.08 ... 19.92 19.94 19.96 19.98\n",
       "  * y            (y) float64 49.98 49.96 49.94 49.92 49.9 ... 0.06 0.04 0.02 0.0\n",
       "Dimensions without coordinates: uvecs\n",
       "Data variables:\n",
       "    orientation  (y, x, uvecs) float64 2.395 0.6451 5.377 ... 0.6098 0.6473\n",
       "    quality      (y, x) int64 0 90 92 93 92 92 94 94 ... 96 96 96 96 96 97 97 96\n",
       "    micro        (y, x) float64 0.0 0.0 0.0 0.0 0.0 0.0 ... 0.0 0.0 0.0 0.0 0.0\n",
       "    grainId      (y, x) int64 1 1 1 1 1 1 1 1 1 1 1 1 ... 1 1 1 1 1 1 1 1 1 1 1\n",
       "Attributes:\n",
       "    date:       Thursday, 19 Nov 2015, 11:24 am\n",
       "    unit:       millimeters\n",
       "    step_size:  0.02\n",
       "    path_dat:   orientation_test.dat"
      ]
     },
     "execution_count": 4,
     "metadata": {},
     "output_type": "execute_result"
    }
   ],
   "source": [
    "data"
   ]
  },
  {
   "cell_type": "markdown",
   "id": "rotary-boating",
   "metadata": {},
   "source": [
    "With [G50 fabric analyser](http://www.russellheadinstruments.com/files/G50%20brochure%2009Jan08%20rev1.pdf) we usually filter the value with a `quality` below $75$."
   ]
  },
  {
   "cell_type": "code",
   "execution_count": 5,
   "id": "duplicate-lindsay",
   "metadata": {},
   "outputs": [],
   "source": [
    "data.aita.filter(75)"
   ]
  },
  {
   "cell_type": "markdown",
   "id": "dedicated-tract",
   "metadata": {},
   "source": [
    "## Plot colormap\n",
    "Plotting a colormap using a color wheel is done using `xarrayuvecs`"
   ]
  },
  {
   "cell_type": "markdown",
   "id": "ongoing-lesson",
   "metadata": {
    "tags": []
   },
   "source": [
    "### Full colorwheel"
   ]
  },
  {
   "cell_type": "code",
   "execution_count": 6,
   "id": "coastal-proportion",
   "metadata": {},
   "outputs": [],
   "source": [
    "data['FullColormap']=data.orientation.uvecs.calc_colormap()"
   ]
  },
  {
   "cell_type": "markdown",
   "id": "ecological-ridge",
   "metadata": {},
   "source": [
    "Therfore the `FullColormap` variable is store in the `xarray.Dataset`"
   ]
  },
  {
   "cell_type": "code",
   "execution_count": 7,
   "id": "governmental-dakota",
   "metadata": {},
   "outputs": [
    {
     "data": {
      "text/html": [
       "<div><svg style=\"position: absolute; width: 0; height: 0; overflow: hidden\">\n",
       "<defs>\n",
       "<symbol id=\"icon-database\" viewBox=\"0 0 32 32\">\n",
       "<path d=\"M16 0c-8.837 0-16 2.239-16 5v4c0 2.761 7.163 5 16 5s16-2.239 16-5v-4c0-2.761-7.163-5-16-5z\"></path>\n",
       "<path d=\"M16 17c-8.837 0-16-2.239-16-5v6c0 2.761 7.163 5 16 5s16-2.239 16-5v-6c0 2.761-7.163 5-16 5z\"></path>\n",
       "<path d=\"M16 26c-8.837 0-16-2.239-16-5v6c0 2.761 7.163 5 16 5s16-2.239 16-5v-6c0 2.761-7.163 5-16 5z\"></path>\n",
       "</symbol>\n",
       "<symbol id=\"icon-file-text2\" viewBox=\"0 0 32 32\">\n",
       "<path d=\"M28.681 7.159c-0.694-0.947-1.662-2.053-2.724-3.116s-2.169-2.030-3.116-2.724c-1.612-1.182-2.393-1.319-2.841-1.319h-15.5c-1.378 0-2.5 1.121-2.5 2.5v27c0 1.378 1.122 2.5 2.5 2.5h23c1.378 0 2.5-1.122 2.5-2.5v-19.5c0-0.448-0.137-1.23-1.319-2.841zM24.543 5.457c0.959 0.959 1.712 1.825 2.268 2.543h-4.811v-4.811c0.718 0.556 1.584 1.309 2.543 2.268zM28 29.5c0 0.271-0.229 0.5-0.5 0.5h-23c-0.271 0-0.5-0.229-0.5-0.5v-27c0-0.271 0.229-0.5 0.5-0.5 0 0 15.499-0 15.5 0v7c0 0.552 0.448 1 1 1h7v19.5z\"></path>\n",
       "<path d=\"M23 26h-14c-0.552 0-1-0.448-1-1s0.448-1 1-1h14c0.552 0 1 0.448 1 1s-0.448 1-1 1z\"></path>\n",
       "<path d=\"M23 22h-14c-0.552 0-1-0.448-1-1s0.448-1 1-1h14c0.552 0 1 0.448 1 1s-0.448 1-1 1z\"></path>\n",
       "<path d=\"M23 18h-14c-0.552 0-1-0.448-1-1s0.448-1 1-1h14c0.552 0 1 0.448 1 1s-0.448 1-1 1z\"></path>\n",
       "</symbol>\n",
       "</defs>\n",
       "</svg>\n",
       "<style>/* CSS stylesheet for displaying xarray objects in jupyterlab.\n",
       " *\n",
       " */\n",
       "\n",
       ":root {\n",
       "  --xr-font-color0: var(--jp-content-font-color0, rgba(0, 0, 0, 1));\n",
       "  --xr-font-color2: var(--jp-content-font-color2, rgba(0, 0, 0, 0.54));\n",
       "  --xr-font-color3: var(--jp-content-font-color3, rgba(0, 0, 0, 0.38));\n",
       "  --xr-border-color: var(--jp-border-color2, #e0e0e0);\n",
       "  --xr-disabled-color: var(--jp-layout-color3, #bdbdbd);\n",
       "  --xr-background-color: var(--jp-layout-color0, white);\n",
       "  --xr-background-color-row-even: var(--jp-layout-color1, white);\n",
       "  --xr-background-color-row-odd: var(--jp-layout-color2, #eeeeee);\n",
       "}\n",
       "\n",
       "html[theme=dark],\n",
       "body.vscode-dark {\n",
       "  --xr-font-color0: rgba(255, 255, 255, 1);\n",
       "  --xr-font-color2: rgba(255, 255, 255, 0.54);\n",
       "  --xr-font-color3: rgba(255, 255, 255, 0.38);\n",
       "  --xr-border-color: #1F1F1F;\n",
       "  --xr-disabled-color: #515151;\n",
       "  --xr-background-color: #111111;\n",
       "  --xr-background-color-row-even: #111111;\n",
       "  --xr-background-color-row-odd: #313131;\n",
       "}\n",
       "\n",
       ".xr-wrap {\n",
       "  display: block;\n",
       "  min-width: 300px;\n",
       "  max-width: 700px;\n",
       "}\n",
       "\n",
       ".xr-text-repr-fallback {\n",
       "  /* fallback to plain text repr when CSS is not injected (untrusted notebook) */\n",
       "  display: none;\n",
       "}\n",
       "\n",
       ".xr-header {\n",
       "  padding-top: 6px;\n",
       "  padding-bottom: 6px;\n",
       "  margin-bottom: 4px;\n",
       "  border-bottom: solid 1px var(--xr-border-color);\n",
       "}\n",
       "\n",
       ".xr-header > div,\n",
       ".xr-header > ul {\n",
       "  display: inline;\n",
       "  margin-top: 0;\n",
       "  margin-bottom: 0;\n",
       "}\n",
       "\n",
       ".xr-obj-type,\n",
       ".xr-array-name {\n",
       "  margin-left: 2px;\n",
       "  margin-right: 10px;\n",
       "}\n",
       "\n",
       ".xr-obj-type {\n",
       "  color: var(--xr-font-color2);\n",
       "}\n",
       "\n",
       ".xr-sections {\n",
       "  padding-left: 0 !important;\n",
       "  display: grid;\n",
       "  grid-template-columns: 150px auto auto 1fr 20px 20px;\n",
       "}\n",
       "\n",
       ".xr-section-item {\n",
       "  display: contents;\n",
       "}\n",
       "\n",
       ".xr-section-item input {\n",
       "  display: none;\n",
       "}\n",
       "\n",
       ".xr-section-item input + label {\n",
       "  color: var(--xr-disabled-color);\n",
       "}\n",
       "\n",
       ".xr-section-item input:enabled + label {\n",
       "  cursor: pointer;\n",
       "  color: var(--xr-font-color2);\n",
       "}\n",
       "\n",
       ".xr-section-item input:enabled + label:hover {\n",
       "  color: var(--xr-font-color0);\n",
       "}\n",
       "\n",
       ".xr-section-summary {\n",
       "  grid-column: 1;\n",
       "  color: var(--xr-font-color2);\n",
       "  font-weight: 500;\n",
       "}\n",
       "\n",
       ".xr-section-summary > span {\n",
       "  display: inline-block;\n",
       "  padding-left: 0.5em;\n",
       "}\n",
       "\n",
       ".xr-section-summary-in:disabled + label {\n",
       "  color: var(--xr-font-color2);\n",
       "}\n",
       "\n",
       ".xr-section-summary-in + label:before {\n",
       "  display: inline-block;\n",
       "  content: '►';\n",
       "  font-size: 11px;\n",
       "  width: 15px;\n",
       "  text-align: center;\n",
       "}\n",
       "\n",
       ".xr-section-summary-in:disabled + label:before {\n",
       "  color: var(--xr-disabled-color);\n",
       "}\n",
       "\n",
       ".xr-section-summary-in:checked + label:before {\n",
       "  content: '▼';\n",
       "}\n",
       "\n",
       ".xr-section-summary-in:checked + label > span {\n",
       "  display: none;\n",
       "}\n",
       "\n",
       ".xr-section-summary,\n",
       ".xr-section-inline-details {\n",
       "  padding-top: 4px;\n",
       "  padding-bottom: 4px;\n",
       "}\n",
       "\n",
       ".xr-section-inline-details {\n",
       "  grid-column: 2 / -1;\n",
       "}\n",
       "\n",
       ".xr-section-details {\n",
       "  display: none;\n",
       "  grid-column: 1 / -1;\n",
       "  margin-bottom: 5px;\n",
       "}\n",
       "\n",
       ".xr-section-summary-in:checked ~ .xr-section-details {\n",
       "  display: contents;\n",
       "}\n",
       "\n",
       ".xr-array-wrap {\n",
       "  grid-column: 1 / -1;\n",
       "  display: grid;\n",
       "  grid-template-columns: 20px auto;\n",
       "}\n",
       "\n",
       ".xr-array-wrap > label {\n",
       "  grid-column: 1;\n",
       "  vertical-align: top;\n",
       "}\n",
       "\n",
       ".xr-preview {\n",
       "  color: var(--xr-font-color3);\n",
       "}\n",
       "\n",
       ".xr-array-preview,\n",
       ".xr-array-data {\n",
       "  padding: 0 5px !important;\n",
       "  grid-column: 2;\n",
       "}\n",
       "\n",
       ".xr-array-data,\n",
       ".xr-array-in:checked ~ .xr-array-preview {\n",
       "  display: none;\n",
       "}\n",
       "\n",
       ".xr-array-in:checked ~ .xr-array-data,\n",
       ".xr-array-preview {\n",
       "  display: inline-block;\n",
       "}\n",
       "\n",
       ".xr-dim-list {\n",
       "  display: inline-block !important;\n",
       "  list-style: none;\n",
       "  padding: 0 !important;\n",
       "  margin: 0;\n",
       "}\n",
       "\n",
       ".xr-dim-list li {\n",
       "  display: inline-block;\n",
       "  padding: 0;\n",
       "  margin: 0;\n",
       "}\n",
       "\n",
       ".xr-dim-list:before {\n",
       "  content: '(';\n",
       "}\n",
       "\n",
       ".xr-dim-list:after {\n",
       "  content: ')';\n",
       "}\n",
       "\n",
       ".xr-dim-list li:not(:last-child):after {\n",
       "  content: ',';\n",
       "  padding-right: 5px;\n",
       "}\n",
       "\n",
       ".xr-has-index {\n",
       "  font-weight: bold;\n",
       "}\n",
       "\n",
       ".xr-var-list,\n",
       ".xr-var-item {\n",
       "  display: contents;\n",
       "}\n",
       "\n",
       ".xr-var-item > div,\n",
       ".xr-var-item label,\n",
       ".xr-var-item > .xr-var-name span {\n",
       "  background-color: var(--xr-background-color-row-even);\n",
       "  margin-bottom: 0;\n",
       "}\n",
       "\n",
       ".xr-var-item > .xr-var-name:hover span {\n",
       "  padding-right: 5px;\n",
       "}\n",
       "\n",
       ".xr-var-list > li:nth-child(odd) > div,\n",
       ".xr-var-list > li:nth-child(odd) > label,\n",
       ".xr-var-list > li:nth-child(odd) > .xr-var-name span {\n",
       "  background-color: var(--xr-background-color-row-odd);\n",
       "}\n",
       "\n",
       ".xr-var-name {\n",
       "  grid-column: 1;\n",
       "}\n",
       "\n",
       ".xr-var-dims {\n",
       "  grid-column: 2;\n",
       "}\n",
       "\n",
       ".xr-var-dtype {\n",
       "  grid-column: 3;\n",
       "  text-align: right;\n",
       "  color: var(--xr-font-color2);\n",
       "}\n",
       "\n",
       ".xr-var-preview {\n",
       "  grid-column: 4;\n",
       "}\n",
       "\n",
       ".xr-var-name,\n",
       ".xr-var-dims,\n",
       ".xr-var-dtype,\n",
       ".xr-preview,\n",
       ".xr-attrs dt {\n",
       "  white-space: nowrap;\n",
       "  overflow: hidden;\n",
       "  text-overflow: ellipsis;\n",
       "  padding-right: 10px;\n",
       "}\n",
       "\n",
       ".xr-var-name:hover,\n",
       ".xr-var-dims:hover,\n",
       ".xr-var-dtype:hover,\n",
       ".xr-attrs dt:hover {\n",
       "  overflow: visible;\n",
       "  width: auto;\n",
       "  z-index: 1;\n",
       "}\n",
       "\n",
       ".xr-var-attrs,\n",
       ".xr-var-data {\n",
       "  display: none;\n",
       "  background-color: var(--xr-background-color) !important;\n",
       "  padding-bottom: 5px !important;\n",
       "}\n",
       "\n",
       ".xr-var-attrs-in:checked ~ .xr-var-attrs,\n",
       ".xr-var-data-in:checked ~ .xr-var-data {\n",
       "  display: block;\n",
       "}\n",
       "\n",
       ".xr-var-data > table {\n",
       "  float: right;\n",
       "}\n",
       "\n",
       ".xr-var-name span,\n",
       ".xr-var-data,\n",
       ".xr-attrs {\n",
       "  padding-left: 25px !important;\n",
       "}\n",
       "\n",
       ".xr-attrs,\n",
       ".xr-var-attrs,\n",
       ".xr-var-data {\n",
       "  grid-column: 1 / -1;\n",
       "}\n",
       "\n",
       "dl.xr-attrs {\n",
       "  padding: 0;\n",
       "  margin: 0;\n",
       "  display: grid;\n",
       "  grid-template-columns: 125px auto;\n",
       "}\n",
       "\n",
       ".xr-attrs dt,\n",
       ".xr-attrs dd {\n",
       "  padding: 0;\n",
       "  margin: 0;\n",
       "  float: left;\n",
       "  padding-right: 10px;\n",
       "  width: auto;\n",
       "}\n",
       "\n",
       ".xr-attrs dt {\n",
       "  font-weight: normal;\n",
       "  grid-column: 1;\n",
       "}\n",
       "\n",
       ".xr-attrs dt:hover span {\n",
       "  display: inline-block;\n",
       "  background: var(--xr-background-color);\n",
       "  padding-right: 10px;\n",
       "}\n",
       "\n",
       ".xr-attrs dd {\n",
       "  grid-column: 2;\n",
       "  white-space: pre-wrap;\n",
       "  word-break: break-all;\n",
       "}\n",
       "\n",
       ".xr-icon-database,\n",
       ".xr-icon-file-text2 {\n",
       "  display: inline-block;\n",
       "  vertical-align: middle;\n",
       "  width: 1em;\n",
       "  height: 1.5em !important;\n",
       "  stroke-width: 0;\n",
       "  stroke: currentColor;\n",
       "  fill: currentColor;\n",
       "}\n",
       "</style><pre class='xr-text-repr-fallback'>&lt;xarray.Dataset&gt;\n",
       "Dimensions:       (img: 3, uvecs: 2, x: 1000, y: 2500)\n",
       "Coordinates:\n",
       "  * x             (x) float64 0.0 0.02 0.04 0.06 ... 19.92 19.94 19.96 19.98\n",
       "  * y             (y) float64 49.98 49.96 49.94 49.92 ... 0.06 0.04 0.02 0.0\n",
       "Dimensions without coordinates: img, uvecs\n",
       "Data variables:\n",
       "    orientation   (y, x, uvecs) float64 nan nan 5.377 ... 0.6395 0.6098 0.6473\n",
       "    quality       (y, x) int64 0 90 92 93 92 92 94 94 ... 96 96 96 96 97 97 96\n",
       "    micro         (y, x) float64 0.0 0.0 0.0 0.0 0.0 0.0 ... 0.0 0.0 0.0 0.0 0.0\n",
       "    grainId       (y, x) int64 1 1 1 1 1 1 1 1 1 1 1 1 ... 1 1 1 1 1 1 1 1 1 1 1\n",
       "    FullColormap  (y, x, img) float64 255.0 255.0 255.0 0.0 ... 0.0 0.425 0.1756\n",
       "Attributes:\n",
       "    date:       Thursday, 19 Nov 2015, 11:24 am\n",
       "    unit:       millimeters\n",
       "    step_size:  0.02\n",
       "    path_dat:   orientation_test.dat</pre><div class='xr-wrap' hidden><div class='xr-header'><div class='xr-obj-type'>xarray.Dataset</div></div><ul class='xr-sections'><li class='xr-section-item'><input id='section-92405829-7c29-4c01-906f-34a755f6bc50' class='xr-section-summary-in' type='checkbox' disabled ><label for='section-92405829-7c29-4c01-906f-34a755f6bc50' class='xr-section-summary'  title='Expand/collapse section'>Dimensions:</label><div class='xr-section-inline-details'><ul class='xr-dim-list'><li><span>img</span>: 3</li><li><span>uvecs</span>: 2</li><li><span class='xr-has-index'>x</span>: 1000</li><li><span class='xr-has-index'>y</span>: 2500</li></ul></div><div class='xr-section-details'></div></li><li class='xr-section-item'><input id='section-ba57f70f-9c4d-4d82-8fe0-a3cdab14140e' class='xr-section-summary-in' type='checkbox'  checked><label for='section-ba57f70f-9c4d-4d82-8fe0-a3cdab14140e' class='xr-section-summary' >Coordinates: <span>(2)</span></label><div class='xr-section-inline-details'></div><div class='xr-section-details'><ul class='xr-var-list'><li class='xr-var-item'><div class='xr-var-name'><span class='xr-has-index'>x</span></div><div class='xr-var-dims'>(x)</div><div class='xr-var-dtype'>float64</div><div class='xr-var-preview xr-preview'>0.0 0.02 0.04 ... 19.94 19.96 19.98</div><input id='attrs-2441fd19-82cb-4229-9232-e520ad91180e' class='xr-var-attrs-in' type='checkbox' disabled><label for='attrs-2441fd19-82cb-4229-9232-e520ad91180e' title='Show/Hide attributes'><svg class='icon xr-icon-file-text2'><use xlink:href='#icon-file-text2'></use></svg></label><input id='data-716a4d8d-ed0f-4d46-8132-b4e7b5b625ac' class='xr-var-data-in' type='checkbox'><label for='data-716a4d8d-ed0f-4d46-8132-b4e7b5b625ac' title='Show/Hide data repr'><svg class='icon xr-icon-database'><use xlink:href='#icon-database'></use></svg></label><div class='xr-var-attrs'><dl class='xr-attrs'></dl></div><div class='xr-var-data'><pre>array([ 0.  ,  0.02,  0.04, ..., 19.94, 19.96, 19.98])</pre></div></li><li class='xr-var-item'><div class='xr-var-name'><span class='xr-has-index'>y</span></div><div class='xr-var-dims'>(y)</div><div class='xr-var-dtype'>float64</div><div class='xr-var-preview xr-preview'>49.98 49.96 49.94 ... 0.04 0.02 0.0</div><input id='attrs-2ebba68f-0c62-4b66-a414-45c6f5d195e1' class='xr-var-attrs-in' type='checkbox' disabled><label for='attrs-2ebba68f-0c62-4b66-a414-45c6f5d195e1' title='Show/Hide attributes'><svg class='icon xr-icon-file-text2'><use xlink:href='#icon-file-text2'></use></svg></label><input id='data-8581625c-6906-4eda-b903-1ed58a350a4f' class='xr-var-data-in' type='checkbox'><label for='data-8581625c-6906-4eda-b903-1ed58a350a4f' title='Show/Hide data repr'><svg class='icon xr-icon-database'><use xlink:href='#icon-database'></use></svg></label><div class='xr-var-attrs'><dl class='xr-attrs'></dl></div><div class='xr-var-data'><pre>array([4.998e+01, 4.996e+01, 4.994e+01, ..., 4.000e-02, 2.000e-02, 0.000e+00])</pre></div></li></ul></div></li><li class='xr-section-item'><input id='section-34c421e2-d637-4eaa-b47e-c712a7ae07d2' class='xr-section-summary-in' type='checkbox'  checked><label for='section-34c421e2-d637-4eaa-b47e-c712a7ae07d2' class='xr-section-summary' >Data variables: <span>(5)</span></label><div class='xr-section-inline-details'></div><div class='xr-section-details'><ul class='xr-var-list'><li class='xr-var-item'><div class='xr-var-name'><span>orientation</span></div><div class='xr-var-dims'>(y, x, uvecs)</div><div class='xr-var-dtype'>float64</div><div class='xr-var-preview xr-preview'>nan nan 5.377 ... 0.6098 0.6473</div><input id='attrs-538cd0b0-5f72-4a28-b6af-d72114ca102b' class='xr-var-attrs-in' type='checkbox' disabled><label for='attrs-538cd0b0-5f72-4a28-b6af-d72114ca102b' title='Show/Hide attributes'><svg class='icon xr-icon-file-text2'><use xlink:href='#icon-file-text2'></use></svg></label><input id='data-9f607398-8587-4417-a843-6ed21c3d54b8' class='xr-var-data-in' type='checkbox'><label for='data-9f607398-8587-4417-a843-6ed21c3d54b8' title='Show/Hide data repr'><svg class='icon xr-icon-database'><use xlink:href='#icon-database'></use></svg></label><div class='xr-var-attrs'><dl class='xr-attrs'></dl></div><div class='xr-var-data'><pre>array([[[       nan,        nan],\n",
       "        [5.37718489, 1.04999008],\n",
       "        [5.38905313, 1.05627326],\n",
       "        ...,\n",
       "        [       nan,        nan],\n",
       "        [5.65731024, 0.94160513],\n",
       "        [5.68523551, 1.03218772]],\n",
       "\n",
       "       [[5.35955707, 1.15837502],\n",
       "        [5.35885894, 1.12975162],\n",
       "        [5.3613024 , 1.11701072],\n",
       "        ...,\n",
       "        [       nan,        nan],\n",
       "        [5.64753639, 0.94073247],\n",
       "        [5.67912685, 1.04143796]],\n",
       "\n",
       "       [[5.36304773, 1.23045712],\n",
       "        [5.36165146, 1.23132979],\n",
       "        [       nan,        nan],\n",
       "        ...,\n",
       "...\n",
       "        ...,\n",
       "        [0.62378067, 0.625526  ],\n",
       "        [0.61784656, 0.61994095],\n",
       "        [0.61645029, 0.61400683]],\n",
       "\n",
       "       [[0.68085294, 1.12399204],\n",
       "        [0.68050388, 1.12730816],\n",
       "        [0.67840948, 1.13900187],\n",
       "        ...,\n",
       "        [0.64123397, 0.62954026],\n",
       "        [0.62430427, 0.63529985],\n",
       "        [0.61575216, 0.62203535]],\n",
       "\n",
       "       [[0.67701322, 1.13236962],\n",
       "        [0.67753682, 1.13690747],\n",
       "        [0.67840948, 1.13149695],\n",
       "        ...,\n",
       "        [0.63652158, 0.61418136],\n",
       "        [0.61645029, 0.63948864],\n",
       "        [0.60981804, 0.64734262]]])</pre></div></li><li class='xr-var-item'><div class='xr-var-name'><span>quality</span></div><div class='xr-var-dims'>(y, x)</div><div class='xr-var-dtype'>int64</div><div class='xr-var-preview xr-preview'>0 90 92 93 92 92 ... 96 96 97 97 96</div><input id='attrs-8b63b987-6f10-40b4-acaf-d5f7190dc8dc' class='xr-var-attrs-in' type='checkbox' disabled><label for='attrs-8b63b987-6f10-40b4-acaf-d5f7190dc8dc' title='Show/Hide attributes'><svg class='icon xr-icon-file-text2'><use xlink:href='#icon-file-text2'></use></svg></label><input id='data-cfdb4279-92b9-4f9f-bf27-2cb401aaa545' class='xr-var-data-in' type='checkbox'><label for='data-cfdb4279-92b9-4f9f-bf27-2cb401aaa545' title='Show/Hide data repr'><svg class='icon xr-icon-database'><use xlink:href='#icon-database'></use></svg></label><div class='xr-var-attrs'><dl class='xr-attrs'></dl></div><div class='xr-var-data'><pre>array([[ 0, 90, 92, ...,  0, 85, 90],\n",
       "       [81, 82, 83, ...,  0, 84, 89],\n",
       "       [81, 80,  3, ...,  0, 79, 88],\n",
       "       ...,\n",
       "       [90, 91, 91, ..., 95, 95, 95],\n",
       "       [91, 92, 91, ..., 95, 95, 95],\n",
       "       [92, 92, 91, ..., 97, 97, 96]])</pre></div></li><li class='xr-var-item'><div class='xr-var-name'><span>micro</span></div><div class='xr-var-dims'>(y, x)</div><div class='xr-var-dtype'>float64</div><div class='xr-var-preview xr-preview'>0.0 0.0 0.0 0.0 ... 0.0 0.0 0.0 0.0</div><input id='attrs-71656414-d733-4773-bb4b-1c6556ed5f51' class='xr-var-attrs-in' type='checkbox' disabled><label for='attrs-71656414-d733-4773-bb4b-1c6556ed5f51' title='Show/Hide attributes'><svg class='icon xr-icon-file-text2'><use xlink:href='#icon-file-text2'></use></svg></label><input id='data-64d9c95b-7418-4a01-9475-517d2b632127' class='xr-var-data-in' type='checkbox'><label for='data-64d9c95b-7418-4a01-9475-517d2b632127' title='Show/Hide data repr'><svg class='icon xr-icon-database'><use xlink:href='#icon-database'></use></svg></label><div class='xr-var-attrs'><dl class='xr-attrs'></dl></div><div class='xr-var-data'><pre>array([[0., 0., 0., ..., 0., 0., 0.],\n",
       "       [0., 0., 0., ..., 0., 0., 0.],\n",
       "       [0., 0., 0., ..., 0., 0., 0.],\n",
       "       ...,\n",
       "       [0., 0., 0., ..., 0., 0., 0.],\n",
       "       [0., 0., 0., ..., 0., 0., 0.],\n",
       "       [0., 0., 0., ..., 0., 0., 0.]])</pre></div></li><li class='xr-var-item'><div class='xr-var-name'><span>grainId</span></div><div class='xr-var-dims'>(y, x)</div><div class='xr-var-dtype'>int64</div><div class='xr-var-preview xr-preview'>1 1 1 1 1 1 1 1 ... 1 1 1 1 1 1 1 1</div><input id='attrs-7ebd98d5-7f2e-40f5-8f44-2a5f837bb6ab' class='xr-var-attrs-in' type='checkbox' disabled><label for='attrs-7ebd98d5-7f2e-40f5-8f44-2a5f837bb6ab' title='Show/Hide attributes'><svg class='icon xr-icon-file-text2'><use xlink:href='#icon-file-text2'></use></svg></label><input id='data-66ace348-bb40-4e06-a0f8-4d8f76c7ae71' class='xr-var-data-in' type='checkbox'><label for='data-66ace348-bb40-4e06-a0f8-4d8f76c7ae71' title='Show/Hide data repr'><svg class='icon xr-icon-database'><use xlink:href='#icon-database'></use></svg></label><div class='xr-var-attrs'><dl class='xr-attrs'></dl></div><div class='xr-var-data'><pre>array([[1, 1, 1, ..., 1, 1, 1],\n",
       "       [1, 1, 1, ..., 1, 1, 1],\n",
       "       [1, 1, 1, ..., 1, 1, 1],\n",
       "       ...,\n",
       "       [1, 1, 1, ..., 1, 1, 1],\n",
       "       [1, 1, 1, ..., 1, 1, 1],\n",
       "       [1, 1, 1, ..., 1, 1, 1]])</pre></div></li><li class='xr-var-item'><div class='xr-var-name'><span>FullColormap</span></div><div class='xr-var-dims'>(y, x, img)</div><div class='xr-var-dtype'>float64</div><div class='xr-var-preview xr-preview'>255.0 255.0 255.0 ... 0.425 0.1756</div><input id='attrs-42b83c0e-756c-4cb6-98a6-bc43ddd4322f' class='xr-var-attrs-in' type='checkbox' disabled><label for='attrs-42b83c0e-756c-4cb6-98a6-bc43ddd4322f' title='Show/Hide attributes'><svg class='icon xr-icon-file-text2'><use xlink:href='#icon-file-text2'></use></svg></label><input id='data-ed3e6292-60eb-4843-a99f-3057f6b688f6' class='xr-var-data-in' type='checkbox'><label for='data-ed3e6292-60eb-4843-a99f-3057f6b688f6' title='Show/Hide data repr'><svg class='icon xr-icon-database'><use xlink:href='#icon-database'></use></svg></label><div class='xr-var-attrs'><dl class='xr-attrs'></dl></div><div class='xr-var-data'><pre>array([[[2.55000000e+02, 2.55000000e+02, 2.55000000e+02],\n",
       "        [0.00000000e+00, 8.31045169e-02, 6.10959406e-01],\n",
       "        [0.00000000e+00, 8.90701755e-02, 6.12236792e-01],\n",
       "        ...,\n",
       "        [2.55000000e+02, 2.55000000e+02, 2.55000000e+02],\n",
       "        [0.00000000e+00, 2.28316246e-01, 5.68812202e-01],\n",
       "        [0.00000000e+00, 2.59752088e-01, 6.03720578e-01]],\n",
       "\n",
       "       [[0.00000000e+00, 7.49569122e-02, 6.46222356e-01],\n",
       "        [0.00000000e+00, 7.43507078e-02, 6.36260675e-01],\n",
       "        [0.00000000e+00, 7.56859421e-02, 6.34053901e-01],\n",
       "        ...,\n",
       "        [2.55000000e+02, 2.55000000e+02, 2.55000000e+02],\n",
       "        [0.00000000e+00, 2.22896964e-01, 5.69848094e-01],\n",
       "        [0.00000000e+00, 2.59186683e-01, 6.09126329e-01]],\n",
       "\n",
       "       [[0.00000000e+00, 7.98101564e-02, 6.65606609e-01],\n",
       "        [0.00000000e+00, 7.98101564e-02, 6.65606609e-01],\n",
       "        [2.55000000e+02, 2.55000000e+02, 2.55000000e+02],\n",
       "        ...,\n",
       "...\n",
       "        ...,\n",
       "        [0.00000000e+00, 4.12136046e-01, 1.64803780e-01],\n",
       "        [0.00000000e+00, 4.10516023e-01, 1.66295797e-01],\n",
       "        [0.00000000e+00, 4.06654374e-01, 1.65337632e-01]],\n",
       "\n",
       "       [[0.00000000e+00, 6.37331154e-01, 2.20848021e-01],\n",
       "        [0.00000000e+00, 6.37331154e-01, 2.20848021e-01],\n",
       "        [0.00000000e+00, 6.43371492e-01, 2.24232987e-01],\n",
       "        ...,\n",
       "        [0.00000000e+00, 4.17068553e-01, 1.60356448e-01],\n",
       "        [0.00000000e+00, 4.19868931e-01, 1.66723966e-01],\n",
       "        [0.00000000e+00, 4.12767430e-01, 1.68749936e-01]],\n",
       "\n",
       "       [[0.00000000e+00, 6.39478712e-01, 2.23263009e-01],\n",
       "        [0.00000000e+00, 6.41631020e-01, 2.25679655e-01],\n",
       "        [0.00000000e+00, 6.39478712e-01, 2.23263009e-01],\n",
       "        ...,\n",
       "        [0.00000000e+00, 4.07106160e-01, 1.55990853e-01],\n",
       "        [0.00000000e+00, 4.20488704e-01, 1.70665444e-01],\n",
       "        [0.00000000e+00, 4.25000087e-01, 1.75577224e-01]]])</pre></div></li></ul></div></li><li class='xr-section-item'><input id='section-f0a1400f-780b-4a08-9827-e6d18b80b644' class='xr-section-summary-in' type='checkbox'  checked><label for='section-f0a1400f-780b-4a08-9827-e6d18b80b644' class='xr-section-summary' >Attributes: <span>(4)</span></label><div class='xr-section-inline-details'></div><div class='xr-section-details'><dl class='xr-attrs'><dt><span>date :</span></dt><dd>Thursday, 19 Nov 2015, 11:24 am</dd><dt><span>unit :</span></dt><dd>millimeters</dd><dt><span>step_size :</span></dt><dd>0.02</dd><dt><span>path_dat :</span></dt><dd>orientation_test.dat</dd></dl></div></li></ul></div></div>"
      ],
      "text/plain": [
       "<xarray.Dataset>\n",
       "Dimensions:       (img: 3, uvecs: 2, x: 1000, y: 2500)\n",
       "Coordinates:\n",
       "  * x             (x) float64 0.0 0.02 0.04 0.06 ... 19.92 19.94 19.96 19.98\n",
       "  * y             (y) float64 49.98 49.96 49.94 49.92 ... 0.06 0.04 0.02 0.0\n",
       "Dimensions without coordinates: img, uvecs\n",
       "Data variables:\n",
       "    orientation   (y, x, uvecs) float64 nan nan 5.377 ... 0.6395 0.6098 0.6473\n",
       "    quality       (y, x) int64 0 90 92 93 92 92 94 94 ... 96 96 96 96 97 97 96\n",
       "    micro         (y, x) float64 0.0 0.0 0.0 0.0 0.0 0.0 ... 0.0 0.0 0.0 0.0 0.0\n",
       "    grainId       (y, x) int64 1 1 1 1 1 1 1 1 1 1 1 1 ... 1 1 1 1 1 1 1 1 1 1 1\n",
       "    FullColormap  (y, x, img) float64 255.0 255.0 255.0 0.0 ... 0.0 0.425 0.1756\n",
       "Attributes:\n",
       "    date:       Thursday, 19 Nov 2015, 11:24 am\n",
       "    unit:       millimeters\n",
       "    step_size:  0.02\n",
       "    path_dat:   orientation_test.dat"
      ]
     },
     "execution_count": 7,
     "metadata": {},
     "output_type": "execute_result"
    }
   ],
   "source": [
    "data"
   ]
  },
  {
   "cell_type": "markdown",
   "id": "answering-obligation",
   "metadata": {},
   "source": [
    "The plot can be done using :"
   ]
  },
  {
   "cell_type": "code",
   "execution_count": 8,
   "id": "endless-subscriber",
   "metadata": {},
   "outputs": [
    {
     "data": {
      "application/vnd.jupyter.widget-view+json": {
       "model_id": "7bc1ca0907a94e9ab64f9d95cf592c0c",
       "version_major": 2,
       "version_minor": 0
      },
      "text/plain": [
       "Canvas(toolbar=Toolbar(toolitems=[('Home', 'Reset original view', 'home', 'home'), ('Back', 'Back to previous …"
      ]
     },
     "metadata": {},
     "output_type": "display_data"
    },
    {
     "name": "stderr",
     "output_type": "stream",
     "text": [
      "Clipping input data to the valid range for imshow with RGB data ([0..1] for floats or [0..255] for integers).\n"
     ]
    },
    {
     "data": {
      "text/plain": [
       "(-0.01, 19.990000000000002, -0.010000000000001563, 49.99000000000001)"
      ]
     },
     "execution_count": 8,
     "metadata": {},
     "output_type": "execute_result"
    }
   ],
   "source": [
    "plt.figure(figsize=(5,10))\n",
    "data.FullColormap.plot.imshow()\n",
    "plt.axis('equal')"
   ]
  },
  {
   "cell_type": "markdown",
   "id": "genetic-camera",
   "metadata": {},
   "source": [
    "The associated colorwheel can be plot using :"
   ]
  },
  {
   "cell_type": "code",
   "execution_count": 9,
   "id": "deluxe-madagascar",
   "metadata": {},
   "outputs": [],
   "source": [
    "lut_f=lut2d.lut()"
   ]
  },
  {
   "cell_type": "code",
   "execution_count": 10,
   "id": "beginning-rwanda",
   "metadata": {},
   "outputs": [
    {
     "data": {
      "application/vnd.jupyter.widget-view+json": {
       "model_id": "e28cad338a7f4160be9f0e461f18b72d",
       "version_major": 2,
       "version_minor": 0
      },
      "text/plain": [
       "Canvas(toolbar=Toolbar(toolitems=[('Home', 'Reset original view', 'home', 'home'), ('Back', 'Back to previous …"
      ]
     },
     "metadata": {},
     "output_type": "display_data"
    },
    {
     "data": {
      "text/plain": [
       "Text(0.5, 1.0, 'Full colorwheel')"
      ]
     },
     "execution_count": 10,
     "metadata": {},
     "output_type": "execute_result"
    }
   ],
   "source": [
    "plt.figure(figsize=(3,3))\n",
    "plt.imshow(lut_f)\n",
    "plt.axis('equal')\n",
    "plt.axis('off')\n",
    "plt.title('Full colorwheel')"
   ]
  },
  {
   "cell_type": "markdown",
   "id": "previous-leader",
   "metadata": {
    "tags": []
   },
   "source": [
    "### Semi colorwheel\n",
    "The same figure can be done using a \"semi\" colorwheel.\n",
    "\n",
    "```{warning}\n",
    "$(x,y,z)$ and $(-x,-y,z)$ share the same colorcoding.\n",
    "```"
   ]
  },
  {
   "cell_type": "code",
   "execution_count": 11,
   "id": "rental-myrtle",
   "metadata": {},
   "outputs": [],
   "source": [
    "data['SemiColormap']=data.orientation.uvecs.calc_colormap(semi=True)"
   ]
  },
  {
   "cell_type": "code",
   "execution_count": 12,
   "id": "rocky-embassy",
   "metadata": {},
   "outputs": [
    {
     "data": {
      "application/vnd.jupyter.widget-view+json": {
       "model_id": "fb65b56f67a54112b51a2ed3c6334d52",
       "version_major": 2,
       "version_minor": 0
      },
      "text/plain": [
       "Canvas(toolbar=Toolbar(toolitems=[('Home', 'Reset original view', 'home', 'home'), ('Back', 'Back to previous …"
      ]
     },
     "metadata": {},
     "output_type": "display_data"
    },
    {
     "name": "stderr",
     "output_type": "stream",
     "text": [
      "Clipping input data to the valid range for imshow with RGB data ([0..1] for floats or [0..255] for integers).\n"
     ]
    },
    {
     "data": {
      "text/plain": [
       "(-0.01, 19.990000000000002, -0.010000000000001563, 49.99000000000001)"
      ]
     },
     "execution_count": 12,
     "metadata": {},
     "output_type": "execute_result"
    }
   ],
   "source": [
    "plt.figure(figsize=(5,10))\n",
    "data.SemiColormap.plot.imshow()\n",
    "plt.axis('equal')"
   ]
  },
  {
   "cell_type": "code",
   "execution_count": 13,
   "id": "specified-wheel",
   "metadata": {},
   "outputs": [
    {
     "data": {
      "application/vnd.jupyter.widget-view+json": {
       "model_id": "ff58038a560a4728aff876f02baa2e3d",
       "version_major": 2,
       "version_minor": 0
      },
      "text/plain": [
       "Canvas(toolbar=Toolbar(toolitems=[('Home', 'Reset original view', 'home', 'home'), ('Back', 'Back to previous …"
      ]
     },
     "metadata": {},
     "output_type": "display_data"
    },
    {
     "data": {
      "text/plain": [
       "Text(0.5, 1.0, 'Semi colorwheel')"
      ]
     },
     "execution_count": 13,
     "metadata": {},
     "output_type": "execute_result"
    }
   ],
   "source": [
    "lut_s=lut2d.lut(semi=True)\n",
    "plt.figure(figsize=(3,3))\n",
    "plt.imshow(lut_s)\n",
    "plt.axis('equal')\n",
    "plt.axis('off')\n",
    "plt.title('Semi colorwheel')"
   ]
  },
  {
   "cell_type": "markdown",
   "id": "eleven-lawrence",
   "metadata": {
    "tags": []
   },
   "source": [
    "## Plot ODF\n",
    "ODF stand for Orientation Density Function. It is a probability density function for orientation. Therefore it's integral over the sphere is equal to 1.\n",
    "\n",
    "```{warning}\n",
    "The `plotODF function` is very quite sensible to the `bw` input parameter that is the bandwidth of kernel for the kde estimation. See documentation here (Need to document this in xarrayuvecs)\n",
    "```"
   ]
  },
  {
   "cell_type": "markdown",
   "id": "addressed-cement",
   "metadata": {
    "tags": []
   },
   "source": [
    "### The ODF"
   ]
  },
  {
   "cell_type": "code",
   "execution_count": 14,
   "id": "attempted-morris",
   "metadata": {},
   "outputs": [
    {
     "data": {
      "application/vnd.jupyter.widget-view+json": {
       "model_id": "ff90c1213bc04cc2bd6d15f92fbd5680",
       "version_major": 2,
       "version_minor": 0
      },
      "text/plain": [
       "Canvas(toolbar=Toolbar(toolitems=[('Home', 'Reset original view', 'home', 'home'), ('Back', 'Back to previous …"
      ]
     },
     "metadata": {},
     "output_type": "display_data"
    }
   ],
   "source": [
    "plt.figure(figsize=(7,7))\n",
    "data.orientation.uvecs.plotODF(bw=0.2,cmap=cm.viridis)"
   ]
  },
  {
   "cell_type": "markdown",
   "id": "happy-thomas",
   "metadata": {
    "tags": []
   },
   "source": [
    "### The 2nd order orientation tensor"
   ]
  },
  {
   "cell_type": "markdown",
   "id": "ranking-neutral",
   "metadata": {},
   "source": [
    "The second order orientation tensor of a set of $x_i$ vector is defnied by :\n",
    "\n",
    "$OT2nd=\\frac{1}{N}\\sum_{i=1}^{N}x_i \\otimes x_i$\n",
    "\n",
    "There for you can extract the eigen value and eigen vector of it. It is what `xu.uvec.OT2nd` does."
   ]
  },
  {
   "cell_type": "code",
   "execution_count": 15,
   "id": "equipped-spelling",
   "metadata": {},
   "outputs": [
    {
     "name": "stdout",
     "output_type": "stream",
     "text": [
      "The 1st eigen value is : 0.36842623 . Associated with the vector : [ 0.95692456  0.00752591 -0.29023907]\n",
      "The 2nd eigen value is : 0.3406706 . Associated with the vector : [0.24083522 0.5377383  0.8079826 ]\n",
      "The 3rd eigen value is : 0.2909032 . Associated with the vector : [-0.16215347  0.8430782  -0.5127625 ]\n"
     ]
    }
   ],
   "source": [
    "e_val,e_vec=data.orientation.uvecs.OT2nd()\n",
    "print('The 1st eigen value is :',e_val[0],'. Associated with the vector :',e_vec[:,0] )\n",
    "print('The 2nd eigen value is :',e_val[1],'. Associated with the vector :',e_vec[:,1] )\n",
    "print('The 3rd eigen value is :',e_val[2],'. Associated with the vector :',e_vec[:,2] )"
   ]
  },
  {
   "cell_type": "markdown",
   "id": "canadian-steel",
   "metadata": {
    "tags": []
   },
   "source": [
    "## Work on subset"
   ]
  },
  {
   "cell_type": "markdown",
   "id": "forward-monthly",
   "metadata": {
    "tags": []
   },
   "source": [
    "### Only on grain"
   ]
  },
  {
   "cell_type": "code",
   "execution_count": 16,
   "id": "parental-planner",
   "metadata": {},
   "outputs": [],
   "source": [
    "gId=100"
   ]
  },
  {
   "cell_type": "code",
   "execution_count": 17,
   "id": "distinct-distribution",
   "metadata": {},
   "outputs": [],
   "source": [
    "ds=data.where(data.grainId==gId,drop=True)"
   ]
  },
  {
   "cell_type": "code",
   "execution_count": 18,
   "id": "exclusive-oliver",
   "metadata": {},
   "outputs": [
    {
     "data": {
      "application/vnd.jupyter.widget-view+json": {
       "model_id": "25553272bef44d0cbcba6c437c3ffd50",
       "version_major": 2,
       "version_minor": 0
      },
      "text/plain": [
       "Canvas(toolbar=Toolbar(toolitems=[('Home', 'Reset original view', 'home', 'home'), ('Back', 'Back to previous …"
      ]
     },
     "metadata": {},
     "output_type": "display_data"
    },
    {
     "name": "stderr",
     "output_type": "stream",
     "text": [
      "Clipping input data to the valid range for imshow with RGB data ([0..1] for floats or [0..255] for integers).\n",
      "Clipping input data to the valid range for imshow with RGB data ([0..1] for floats or [0..255] for integers).\n"
     ]
    },
    {
     "data": {
      "text/plain": [
       "Text(0.5, 1.0, 'Orientation full')"
      ]
     },
     "execution_count": 18,
     "metadata": {},
     "output_type": "execute_result"
    }
   ],
   "source": [
    "plt.figure(figsize=(10,7))\n",
    "plt.subplot(1,2,1)\n",
    "ds.SemiColormap.plot.imshow()\n",
    "plt.axis('equal')\n",
    "plt.title('Orientation semi')\n",
    "plt.subplot(1,2,2)\n",
    "ds.FullColormap.plot.imshow()\n",
    "plt.axis('equal')\n",
    "plt.title('Orientation full')"
   ]
  },
  {
   "cell_type": "code",
   "execution_count": 19,
   "id": "tested-pharmacology",
   "metadata": {},
   "outputs": [
    {
     "data": {
      "application/vnd.jupyter.widget-view+json": {
       "model_id": "0058b5b9a0c5409a86e77efbc4eab13f",
       "version_major": 2,
       "version_minor": 0
      },
      "text/plain": [
       "Canvas(toolbar=Toolbar(toolitems=[('Home', 'Reset original view', 'home', 'home'), ('Back', 'Back to previous …"
      ]
     },
     "metadata": {},
     "output_type": "display_data"
    }
   ],
   "source": [
    "plt.figure(figsize=(7,7))\n",
    "ds.orientation.uvecs.plotODF(nbr=100)"
   ]
  },
  {
   "cell_type": "markdown",
   "id": "delayed-compensation",
   "metadata": {},
   "source": [
    "### More grains"
   ]
  },
  {
   "cell_type": "code",
   "execution_count": 20,
   "id": "seventh-arrow",
   "metadata": {},
   "outputs": [],
   "source": [
    "ds2=data.where((data.grainId==4)+(data.grainId==5),drop=True)"
   ]
  },
  {
   "cell_type": "code",
   "execution_count": 21,
   "id": "veterinary-expense",
   "metadata": {},
   "outputs": [
    {
     "data": {
      "application/vnd.jupyter.widget-view+json": {
       "model_id": "e365cdfd477b4e808c038d3921f89d85",
       "version_major": 2,
       "version_minor": 0
      },
      "text/plain": [
       "Canvas(toolbar=Toolbar(toolitems=[('Home', 'Reset original view', 'home', 'home'), ('Back', 'Back to previous …"
      ]
     },
     "metadata": {},
     "output_type": "display_data"
    },
    {
     "name": "stderr",
     "output_type": "stream",
     "text": [
      "Clipping input data to the valid range for imshow with RGB data ([0..1] for floats or [0..255] for integers).\n",
      "Clipping input data to the valid range for imshow with RGB data ([0..1] for floats or [0..255] for integers).\n"
     ]
    },
    {
     "data": {
      "text/plain": [
       "Text(0.5, 1.0, 'Orientation full')"
      ]
     },
     "execution_count": 21,
     "metadata": {},
     "output_type": "execute_result"
    }
   ],
   "source": [
    "plt.figure(figsize=(10,7))\n",
    "plt.subplot(1,2,1)\n",
    "ds2.SemiColormap.plot.imshow()\n",
    "plt.axis('equal')\n",
    "\n",
    "plt.title('Orientation semi')\n",
    "plt.subplot(1,2,2)\n",
    "ds2.FullColormap.plot.imshow()\n",
    "plt.axis('equal')\n",
    "\n",
    "plt.title('Orientation full')"
   ]
  }
 ],
 "metadata": {
  "kernelspec": {
   "display_name": "basepy38",
   "language": "python",
   "name": "basepy38"
  },
  "language_info": {
   "codemirror_mode": {
    "name": "ipython",
    "version": 3
   },
   "file_extension": ".py",
   "mimetype": "text/x-python",
   "name": "python",
   "nbconvert_exporter": "python",
   "pygments_lexer": "ipython3",
   "version": "3.8.8"
  }
 },
 "nbformat": 4,
 "nbformat_minor": 5
}
